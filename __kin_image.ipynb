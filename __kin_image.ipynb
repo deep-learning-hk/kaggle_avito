{
 "cells": [
  {
   "cell_type": "markdown",
   "metadata": {},
   "source": [
    "Ref: https://www.kaggle.com/shivamb/ideas-for-image-features-and-image-quality"
   ]
  },
  {
   "cell_type": "markdown",
   "metadata": {},
   "source": [
    "## Image Features:\n",
    "- Image Dullness Score\n",
    "- Average Pixel Width (check if the image's pixel color is very uniform - i.e. the image is very 'flat')\n",
    "- Blurness\n",
    "- Width of the Image\n",
    "- Height of the Image\n",
    "- Size of the Image\n",
    "- Neural Net Object Prediction\n",
    "- image quality by using: https://github.com/titu1994/neural-image-assessment (not in this notebook)\n",
    "- Keypoint extraction\n",
    "\n",
    "## Knowledge points:\n",
    "- Check invalid images in the image folder\n",
    "- Use Dusk to multiprocess on dataframe\n",
    "- Use tqdm for progress bar in Pandas\n",
    "- Force to use one specific GPU, so it won't occupy the other GPUs memories\n",
    "- Use .apply() for mulitple output columns [Go to](#apply_multiple)"
   ]
  },
  {
   "cell_type": "code",
   "execution_count": 5,
   "metadata": {},
   "outputs": [],
   "source": [
    "from collections import defaultdict\n",
    "from scipy.stats import itemfreq\n",
    "from scipy import ndimage as ndi\n",
    "import matplotlib.pyplot as plt\n",
    "import matplotlib.image as matImage\n",
    "from skimage import feature\n",
    "from PIL import Image  # as IMG\n",
    "import numpy as np\n",
    "import pandas as pd \n",
    "import operator\n",
    "import cv2\n",
    "import os\n",
    "import pickle\n",
    "from tqdm import tqdm\n",
    "import dask.dataframe as dd\n",
    "\n",
    "from IPython.core.display import HTML \n",
    "from IPython.display import Image\n",
    "\n",
    "pd.options.display.max_columns = 999\n",
    "%matplotlib inline\n",
    "\n",
    "from PIL import Image"
   ]
  },
  {
   "cell_type": "markdown",
   "metadata": {},
   "source": [
    "## Image Feature Engineering by Pandas"
   ]
  },
  {
   "cell_type": "code",
   "execution_count": 88,
   "metadata": {},
   "outputs": [],
   "source": [
    "features = pd.DataFrame()\n",
    "\n",
    "images_path = '/media/data/avito/origin/photos/train_jpg/train_img_folder/'\n",
    "imgs = os.listdir(images_path)\n",
    "\n",
    "features['image'] = imgs"
   ]
  },
  {
   "cell_type": "markdown",
   "metadata": {},
   "source": [
    "### Load the previous extracted features (Posterior)"
   ]
  },
  {
   "cell_type": "code",
   "execution_count": 9,
   "metadata": {},
   "outputs": [],
   "source": [
    "with open(\"../data/image_train_feat_f29.pkl\", 'rb') as f:\n",
    "    features = pickle.load(f)"
   ]
  },
  {
   "cell_type": "code",
   "execution_count": 10,
   "metadata": {},
   "outputs": [
    {
     "data": {
      "text/html": [
       "<div>\n",
       "<style scoped>\n",
       "    .dataframe tbody tr th:only-of-type {\n",
       "        vertical-align: middle;\n",
       "    }\n",
       "\n",
       "    .dataframe tbody tr th {\n",
       "        vertical-align: top;\n",
       "    }\n",
       "\n",
       "    .dataframe thead th {\n",
       "        text-align: right;\n",
       "    }\n",
       "</style>\n",
       "<table border=\"1\" class=\"dataframe\">\n",
       "  <thead>\n",
       "    <tr style=\"text-align: right;\">\n",
       "      <th></th>\n",
       "      <th>image</th>\n",
       "      <th>dullness</th>\n",
       "      <th>average_pixel_width</th>\n",
       "      <th>height</th>\n",
       "      <th>width</th>\n",
       "      <th>blurrness</th>\n",
       "      <th>pred_name_inc</th>\n",
       "      <th>pred_score_inc</th>\n",
       "      <th>pred_name_incRes_1</th>\n",
       "      <th>pred_score_incRes_1</th>\n",
       "      <th>pred_name_incRes_2</th>\n",
       "      <th>pred_score_incRes_2</th>\n",
       "      <th>pred_name_incRes_3</th>\n",
       "      <th>pred_score_incRes_3</th>\n",
       "      <th>pred_name_incRes_4</th>\n",
       "      <th>pred_score_incRes_4</th>\n",
       "      <th>pred_name_incRes_5</th>\n",
       "      <th>pred_score_incRes_5</th>\n",
       "      <th>pred_name_xcep_1</th>\n",
       "      <th>pred_score_xcep_1</th>\n",
       "      <th>pred_name_xcep_2</th>\n",
       "      <th>pred_score_xcep_2</th>\n",
       "      <th>pred_name_xcep_3</th>\n",
       "      <th>pred_score_xcep_3</th>\n",
       "      <th>pred_name_xcep_4</th>\n",
       "      <th>pred_score_xcep_4</th>\n",
       "      <th>pred_name_xcep_5</th>\n",
       "      <th>pred_score_xcep_5</th>\n",
       "      <th>keypoints_fast</th>\n",
       "    </tr>\n",
       "  </thead>\n",
       "  <tbody>\n",
       "    <tr>\n",
       "      <th>0</th>\n",
       "      <td>2806fe3b7d9a5c40be1c2e4d779b2ce692d8cf9a37dbb3...</td>\n",
       "      <td>87.005</td>\n",
       "      <td>2.287298</td>\n",
       "      <td>461</td>\n",
       "      <td>360</td>\n",
       "      <td>236.471150</td>\n",
       "      <td>velvet</td>\n",
       "      <td>0.925952</td>\n",
       "      <td>gown</td>\n",
       "      <td>0.485501</td>\n",
       "      <td>velvet</td>\n",
       "      <td>0.227062</td>\n",
       "      <td>maillot</td>\n",
       "      <td>0.172575</td>\n",
       "      <td>miniskirt</td>\n",
       "      <td>0.042976</td>\n",
       "      <td>overskirt</td>\n",
       "      <td>0.033888</td>\n",
       "      <td>miniskirt</td>\n",
       "      <td>0.601376</td>\n",
       "      <td>overskirt</td>\n",
       "      <td>0.341374</td>\n",
       "      <td>gown</td>\n",
       "      <td>0.026536</td>\n",
       "      <td>hoopskirt</td>\n",
       "      <td>0.019449</td>\n",
       "      <td>velvet</td>\n",
       "      <td>0.008446</td>\n",
       "      <td>1664</td>\n",
       "    </tr>\n",
       "    <tr>\n",
       "      <th>1</th>\n",
       "      <td>1daed325a3521372eae13f4ece142df03058b82fa91af6...</td>\n",
       "      <td>0.000</td>\n",
       "      <td>1.984568</td>\n",
       "      <td>480</td>\n",
       "      <td>270</td>\n",
       "      <td>395.042261</td>\n",
       "      <td>minivan</td>\n",
       "      <td>0.531279</td>\n",
       "      <td>minivan</td>\n",
       "      <td>0.996289</td>\n",
       "      <td>jeep</td>\n",
       "      <td>0.002061</td>\n",
       "      <td>beach_wagon</td>\n",
       "      <td>0.001338</td>\n",
       "      <td>minibus</td>\n",
       "      <td>0.000171</td>\n",
       "      <td>car_wheel</td>\n",
       "      <td>0.000060</td>\n",
       "      <td>jeep</td>\n",
       "      <td>0.259239</td>\n",
       "      <td>pickup</td>\n",
       "      <td>0.149008</td>\n",
       "      <td>convertible</td>\n",
       "      <td>0.148121</td>\n",
       "      <td>beach_wagon</td>\n",
       "      <td>0.130799</td>\n",
       "      <td>car_wheel</td>\n",
       "      <td>0.070279</td>\n",
       "      <td>1677</td>\n",
       "    </tr>\n",
       "    <tr>\n",
       "      <th>2</th>\n",
       "      <td>1119e08e9ea54d68c6401cffd05b75ed701e41eb179387...</td>\n",
       "      <td>0.000</td>\n",
       "      <td>1.108796</td>\n",
       "      <td>480</td>\n",
       "      <td>360</td>\n",
       "      <td>422.078373</td>\n",
       "      <td>modem</td>\n",
       "      <td>0.910144</td>\n",
       "      <td>remote_control</td>\n",
       "      <td>0.352886</td>\n",
       "      <td>modem</td>\n",
       "      <td>0.317294</td>\n",
       "      <td>radio</td>\n",
       "      <td>0.246771</td>\n",
       "      <td>microphone</td>\n",
       "      <td>0.068979</td>\n",
       "      <td>switch</td>\n",
       "      <td>0.006091</td>\n",
       "      <td>pencil_sharpener</td>\n",
       "      <td>0.232891</td>\n",
       "      <td>modem</td>\n",
       "      <td>0.202196</td>\n",
       "      <td>rubber_eraser</td>\n",
       "      <td>0.095057</td>\n",
       "      <td>lighter</td>\n",
       "      <td>0.081265</td>\n",
       "      <td>loupe</td>\n",
       "      <td>0.045516</td>\n",
       "      <td>1190</td>\n",
       "    </tr>\n",
       "    <tr>\n",
       "      <th>3</th>\n",
       "      <td>7bb5b7d6b6fd0f65c34a6cac3908c6c4978266c81af150...</td>\n",
       "      <td>0.000</td>\n",
       "      <td>1.298611</td>\n",
       "      <td>360</td>\n",
       "      <td>480</td>\n",
       "      <td>162.055513</td>\n",
       "      <td>entertainment_center</td>\n",
       "      <td>0.729065</td>\n",
       "      <td>wardrobe</td>\n",
       "      <td>0.499231</td>\n",
       "      <td>sliding_door</td>\n",
       "      <td>0.405502</td>\n",
       "      <td>home_theater</td>\n",
       "      <td>0.033462</td>\n",
       "      <td>medicine_chest</td>\n",
       "      <td>0.019430</td>\n",
       "      <td>entertainment_center</td>\n",
       "      <td>0.013589</td>\n",
       "      <td>wardrobe</td>\n",
       "      <td>0.921331</td>\n",
       "      <td>crate</td>\n",
       "      <td>0.043320</td>\n",
       "      <td>chiffonier</td>\n",
       "      <td>0.013404</td>\n",
       "      <td>entertainment_center</td>\n",
       "      <td>0.006901</td>\n",
       "      <td>sliding_door</td>\n",
       "      <td>0.002897</td>\n",
       "      <td>887</td>\n",
       "    </tr>\n",
       "    <tr>\n",
       "      <th>4</th>\n",
       "      <td>51cedbb17eb50b7448a123309892796e3922ed6c905025...</td>\n",
       "      <td>50.105</td>\n",
       "      <td>3.009115</td>\n",
       "      <td>480</td>\n",
       "      <td>320</td>\n",
       "      <td>1261.238135</td>\n",
       "      <td>stove</td>\n",
       "      <td>0.980051</td>\n",
       "      <td>stove</td>\n",
       "      <td>0.566353</td>\n",
       "      <td>microwave</td>\n",
       "      <td>0.316988</td>\n",
       "      <td>dishwasher</td>\n",
       "      <td>0.109359</td>\n",
       "      <td>safe</td>\n",
       "      <td>0.005139</td>\n",
       "      <td>washer</td>\n",
       "      <td>0.001773</td>\n",
       "      <td>washer</td>\n",
       "      <td>0.785429</td>\n",
       "      <td>photocopier</td>\n",
       "      <td>0.196046</td>\n",
       "      <td>stove</td>\n",
       "      <td>0.009669</td>\n",
       "      <td>printer</td>\n",
       "      <td>0.005815</td>\n",
       "      <td>microwave</td>\n",
       "      <td>0.001132</td>\n",
       "      <td>695</td>\n",
       "    </tr>\n",
       "  </tbody>\n",
       "</table>\n",
       "</div>"
      ],
      "text/plain": [
       "                                               image  dullness  \\\n",
       "0  2806fe3b7d9a5c40be1c2e4d779b2ce692d8cf9a37dbb3...    87.005   \n",
       "1  1daed325a3521372eae13f4ece142df03058b82fa91af6...     0.000   \n",
       "2  1119e08e9ea54d68c6401cffd05b75ed701e41eb179387...     0.000   \n",
       "3  7bb5b7d6b6fd0f65c34a6cac3908c6c4978266c81af150...     0.000   \n",
       "4  51cedbb17eb50b7448a123309892796e3922ed6c905025...    50.105   \n",
       "\n",
       "   average_pixel_width  height  width    blurrness         pred_name_inc  \\\n",
       "0             2.287298     461    360   236.471150                velvet   \n",
       "1             1.984568     480    270   395.042261               minivan   \n",
       "2             1.108796     480    360   422.078373                 modem   \n",
       "3             1.298611     360    480   162.055513  entertainment_center   \n",
       "4             3.009115     480    320  1261.238135                 stove   \n",
       "\n",
       "   pred_score_inc pred_name_incRes_1  pred_score_incRes_1 pred_name_incRes_2  \\\n",
       "0        0.925952               gown             0.485501             velvet   \n",
       "1        0.531279            minivan             0.996289               jeep   \n",
       "2        0.910144     remote_control             0.352886              modem   \n",
       "3        0.729065           wardrobe             0.499231       sliding_door   \n",
       "4        0.980051              stove             0.566353          microwave   \n",
       "\n",
       "   pred_score_incRes_2 pred_name_incRes_3  pred_score_incRes_3  \\\n",
       "0             0.227062            maillot             0.172575   \n",
       "1             0.002061        beach_wagon             0.001338   \n",
       "2             0.317294              radio             0.246771   \n",
       "3             0.405502       home_theater             0.033462   \n",
       "4             0.316988         dishwasher             0.109359   \n",
       "\n",
       "  pred_name_incRes_4  pred_score_incRes_4    pred_name_incRes_5  \\\n",
       "0          miniskirt             0.042976             overskirt   \n",
       "1            minibus             0.000171             car_wheel   \n",
       "2         microphone             0.068979                switch   \n",
       "3     medicine_chest             0.019430  entertainment_center   \n",
       "4               safe             0.005139                washer   \n",
       "\n",
       "   pred_score_incRes_5  pred_name_xcep_1  pred_score_xcep_1 pred_name_xcep_2  \\\n",
       "0             0.033888         miniskirt           0.601376        overskirt   \n",
       "1             0.000060              jeep           0.259239           pickup   \n",
       "2             0.006091  pencil_sharpener           0.232891            modem   \n",
       "3             0.013589          wardrobe           0.921331            crate   \n",
       "4             0.001773            washer           0.785429      photocopier   \n",
       "\n",
       "   pred_score_xcep_2 pred_name_xcep_3  pred_score_xcep_3  \\\n",
       "0           0.341374             gown           0.026536   \n",
       "1           0.149008      convertible           0.148121   \n",
       "2           0.202196    rubber_eraser           0.095057   \n",
       "3           0.043320       chiffonier           0.013404   \n",
       "4           0.196046            stove           0.009669   \n",
       "\n",
       "       pred_name_xcep_4  pred_score_xcep_4 pred_name_xcep_5  \\\n",
       "0             hoopskirt           0.019449           velvet   \n",
       "1           beach_wagon           0.130799        car_wheel   \n",
       "2               lighter           0.081265            loupe   \n",
       "3  entertainment_center           0.006901     sliding_door   \n",
       "4               printer           0.005815        microwave   \n",
       "\n",
       "   pred_score_xcep_5  keypoints_fast  \n",
       "0           0.008446            1664  \n",
       "1           0.070279            1677  \n",
       "2           0.045516            1190  \n",
       "3           0.002897             887  \n",
       "4           0.001132             695  "
      ]
     },
     "execution_count": 10,
     "metadata": {},
     "output_type": "execute_result"
    }
   ],
   "source": [
    "features.head()"
   ]
  },
  {
   "cell_type": "markdown",
   "metadata": {},
   "source": [
    "## Helper functions"
   ]
  },
  {
   "cell_type": "code",
   "execution_count": 1,
   "metadata": {},
   "outputs": [],
   "source": [
    "def show_img(df_img_path):\n",
    "    img = matImage.imread(os.path.join(images_path, df_img_path))\n",
    "    plt.imshow(img)\n",
    "\n",
    "def show_batch_imgs(df_img_paths_in_batch):\n",
    "    for idx, df_img_path in enumerate(df_img_paths_in_batch):\n",
    "        print(idx)\n",
    "        img = matImage.imread(os.path.join(images_path, df_img_path))\n",
    "        plt.imshow(img)\n",
    "        plt.show()"
   ]
  },
  {
   "cell_type": "markdown",
   "metadata": {},
   "source": [
    "## check invalid images"
   ]
  },
  {
   "cell_type": "code",
   "execution_count": 3,
   "metadata": {},
   "outputs": [],
   "source": [
    "from tqdm import tqdm\n",
    "\n",
    "num_inval_img = 0 \n",
    "inval_imgs_list = [] \n",
    "\n",
    "for i in tqdm(features.image):\n",
    "    img_path = os.path.join(images_path + i)\n",
    "    img = cv2.imread(img_path)\n",
    "    if not (type(img) is np.ndarray):\n",
    "        num_inval_img += 1\n",
    "        inval_imgs_list.append(i)\n",
    "\n",
    "## remove invalid images\n",
    "features = features[~features.image.isin(inval_imgs_list)]"
   ]
  },
  {
   "cell_type": "markdown",
   "metadata": {},
   "source": [
    "## Extract Dullness"
   ]
  },
  {
   "cell_type": "code",
   "execution_count": 6,
   "metadata": {},
   "outputs": [],
   "source": [
    "# this function for both whiteness and dullness\n",
    "def color_analysis(img):\n",
    "    # obtain the color palatte of the image \n",
    "    palatte = defaultdict(int)\n",
    "    for pixel in img.getdata():\n",
    "        palatte[pixel] += 1\n",
    "    \n",
    "    # sort the colors present in the image \n",
    "    sorted_x = sorted(palatte.items(), key=operator.itemgetter(1), reverse = True)\n",
    "    light_shade, dark_shade, shade_count, pixel_limit = 0, 0, 0, 25\n",
    "    for i, x in enumerate(sorted_x[:pixel_limit]):\n",
    "        if all(xx <= 20 for xx in x[0][:3]): ## dull : too much darkness \n",
    "            dark_shade += x[1]\n",
    "        if all(xx >= 240 for xx in x[0][:3]): ## bright : too much whiteness \n",
    "            light_shade += x[1]\n",
    "        shade_count += x[1]\n",
    "        \n",
    "    light_percent = round((float(light_shade)/shade_count)*100, 2)\n",
    "    dark_percent = round((float(dark_shade)/shade_count)*100, 2)\n",
    "    return light_percent, dark_percent"
   ]
  },
  {
   "cell_type": "code",
   "execution_count": 7,
   "metadata": {},
   "outputs": [],
   "source": [
    "def color_analysis_dark(img):\n",
    "    # obtain the color palatte of the image \n",
    "    palatte = defaultdict(int)\n",
    "    for pixel in img.getdata():\n",
    "        palatte[pixel] += 1\n",
    "    \n",
    "    # sort the colors present in the image \n",
    "    sorted_x = sorted(palatte.items(), key=operator.itemgetter(1), reverse = True)\n",
    "    light_shade, dark_shade, shade_count, pixel_limit = 0, 0, 0, 25\n",
    "    for i, x in enumerate(sorted_x[:pixel_limit]):\n",
    "        if all(xx <= 20 for xx in x[0][:3]): ## dull : too much darkness \n",
    "            dark_shade += x[1]\n",
    "        shade_count += x[1]\n",
    "        \n",
    "    dark_percent = round((float(dark_shade)/shade_count)*100, 2)\n",
    "    return dark_percent"
   ]
  },
  {
   "cell_type": "code",
   "execution_count": 8,
   "metadata": {},
   "outputs": [],
   "source": [
    "# this function for both whiteness and dullness\n",
    "def perform_color_analysis(img, flag):\n",
    "    path = images_path + img \n",
    "    im = IMG.open(path) #.convert(\"RGB\")\n",
    "    \n",
    "    # cut the images into two halves as complete average may give bias results\n",
    "    size = im.size\n",
    "    halves = (size[0]/2, size[1]/2)\n",
    "    im1 = im.crop((0, 0, size[0], halves[1]))\n",
    "    im2 = im.crop((0, halves[1], size[0], size[1]))\n",
    "\n",
    "    try:\n",
    "        light_percent1, dark_percent1 = color_analysis(im1)\n",
    "        light_percent2, dark_percent2 = color_analysis(im2)\n",
    "    except Exception as e:\n",
    "        return None\n",
    "\n",
    "    light_percent = (light_percent1 + light_percent2)/2 \n",
    "    dark_percent = (dark_percent1 + dark_percent2)/2 \n",
    "    \n",
    "    if flag == 'black':\n",
    "        return dark_percent\n",
    "    elif flag == 'white':\n",
    "        return light_percent\n",
    "    else:\n",
    "        return None"
   ]
  },
  {
   "cell_type": "code",
   "execution_count": 9,
   "metadata": {},
   "outputs": [],
   "source": [
    "def perform_color_analysis_dark(img):\n",
    "    path = images_path + img \n",
    "    im = IMG.open(path) #.convert(\"RGB\")\n",
    "    \n",
    "    # cut the images into two halves as complete average may give bias results\n",
    "    size = im.size\n",
    "    halves = (size[0]/2, size[1]/2)\n",
    "    im1 = im.crop((0, 0, size[0], halves[1]))\n",
    "    im2 = im.crop((0, halves[1], size[0], size[1]))\n",
    "\n",
    "    try:\n",
    "        dark_percent1 = color_analysis_dark(im1)\n",
    "        dark_percent2 = color_analysis_dark(im2)\n",
    "    except Exception as e:\n",
    "        return None\n",
    "\n",
    "    dark_percent = (dark_percent1 + dark_percent2)/2   \n",
    "    return dark_percent"
   ]
  },
  {
   "cell_type": "markdown",
   "metadata": {},
   "source": [
    "## Get dullness\n",
    "### tqdm for pandas apply"
   ]
  },
  {
   "cell_type": "code",
   "execution_count": null,
   "metadata": {},
   "outputs": [],
   "source": [
    "tqdm.pandas()\n",
    "\n",
    "dk_features['dullness'] = dk_features['image'].progress_apply(lambda x : perform_color_analysis(x, 'black'))\n",
    "# topdull = features.sort_values('dullness', ascending = False)\n",
    "# topdull.head(5)"
   ]
  },
  {
   "cell_type": "markdown",
   "metadata": {},
   "source": [
    "## Extract avg pixel width (\"flatness\" of the image)"
   ]
  },
  {
   "cell_type": "code",
   "execution_count": 4,
   "metadata": {},
   "outputs": [],
   "source": [
    "def average_pixel_width(img):\n",
    "    path = images_path + img \n",
    "    im = IMG.open(path)    \n",
    "    im_array = np.asarray(im.convert(mode='L'))\n",
    "    edges_sigma1 = feature.canny(im_array, sigma=3)\n",
    "    apw = (float(np.sum(edges_sigma1)) / (im.size[0]*im.size[1]))\n",
    "    return apw*100"
   ]
  },
  {
   "cell_type": "markdown",
   "metadata": {},
   "source": [
    "## Using Dusk to multiprocess on dataframe"
   ]
  },
  {
   "cell_type": "code",
   "execution_count": 5,
   "metadata": {},
   "outputs": [],
   "source": [
    "# create a dusk df\n",
    "dk_features = dd.from_pandas(features, npartitions = 10)\n",
    "\n",
    "from dask.multiprocessing import get"
   ]
  },
  {
   "cell_type": "code",
   "execution_count": null,
   "metadata": {},
   "outputs": [],
   "source": [
    "%%time\n",
    "dk_features['average_pixel_width'] = dk_features['image'].apply(average_pixel_width, meta=('float16')).compute(num_workers=10)"
   ]
  },
  {
   "cell_type": "code",
   "execution_count": null,
   "metadata": {},
   "outputs": [],
   "source": [
    "# save\n",
    "with open('/media/data/avito/preprocessed/image_feature_df_dask.pkl', 'wb') as handle:\n",
    "    pickle.dump(dk_features, handle, protocol=pickle.HIGHEST_PROTOCOL)"
   ]
  },
  {
   "cell_type": "markdown",
   "metadata": {},
   "source": [
    "## Bluriness Score for traing set"
   ]
  },
  {
   "cell_type": "code",
   "execution_count": 24,
   "metadata": {},
   "outputs": [],
   "source": [
    "def get_blurrness_score(image):\n",
    "    path =  images_path + image \n",
    "    image = cv2.imread(path)\n",
    "    image = cv2.cvtColor(image, cv2.COLOR_BGR2GRAY)\n",
    "    fm = cv2.Laplacian(image, cv2.CV_64F).var()\n",
    "    return fm"
   ]
  },
  {
   "cell_type": "code",
   "execution_count": null,
   "metadata": {},
   "outputs": [],
   "source": [
    "%%time\n",
    "dk_features['blurrness'] = dk_features['image'].apply(get_blurrness_score, meta=('float16')).compute(num_workers=10)"
   ]
  },
  {
   "cell_type": "markdown",
   "metadata": {},
   "source": [
    "## Get size"
   ]
  },
  {
   "cell_type": "code",
   "execution_count": 6,
   "metadata": {},
   "outputs": [],
   "source": [
    "def get_size(img):\n",
    "    path = images_path + img \n",
    "    img = cv2.imread(path)\n",
    "    height, width, channels = img.shape\n",
    "    return height, width\n",
    "\n",
    "def get_size_height(img):\n",
    "    path = images_path + img \n",
    "    img = cv2.imread(path)\n",
    "    height, width, channels = img.shape\n",
    "    return height\n",
    "\n",
    "def get_size_width(img):\n",
    "    path = images_path + img \n",
    "    img = cv2.imread(path)\n",
    "    height, width, channels = img.shape\n",
    "    return width"
   ]
  },
  {
   "cell_type": "code",
   "execution_count": 12,
   "metadata": {},
   "outputs": [
    {
     "name": "stdout",
     "output_type": "stream",
     "text": [
      "CPU times: user 1h 15min 38s, sys: 2min 25s, total: 1h 18min 3s\n",
      "Wall time: 8min 19s\n"
     ]
    }
   ],
   "source": [
    "%%time\n",
    "dk_features['height'] = dk_features['image'].apply(get_size_height, meta=('int')).compute(num_workers=10)"
   ]
  },
  {
   "cell_type": "code",
   "execution_count": 16,
   "metadata": {},
   "outputs": [
    {
     "name": "stdout",
     "output_type": "stream",
     "text": [
      "CPU times: user 1h 16min 10s, sys: 2min 26s, total: 1h 18min 37s\n",
      "Wall time: 8min 23s\n"
     ]
    }
   ],
   "source": [
    "%%time\n",
    "dk_features['width'] = dk_features['image'].apply(get_size_width, meta=('int')).compute(num_workers=10)"
   ]
  },
  {
   "cell_type": "markdown",
   "metadata": {},
   "source": [
    "# Neural Net Object Prediction"
   ]
  },
  {
   "cell_type": "markdown",
   "metadata": {},
   "source": [
    "### Force to use one specific GPU, so it won't occupy the other GPUs memories"
   ]
  },
  {
   "cell_type": "code",
   "execution_count": 4,
   "metadata": {},
   "outputs": [
    {
     "name": "stderr",
     "output_type": "stream",
     "text": [
      "/media/data/anaconda3/envs/tensorflow/lib/python3.6/site-packages/h5py/__init__.py:36: FutureWarning: Conversion of the second argument of issubdtype from `float` to `np.floating` is deprecated. In future, it will be treated as `np.float64 == np.dtype(float).type`.\n",
      "  from ._conv import register_converters as _register_converters\n"
     ]
    },
    {
     "name": "stdout",
     "output_type": "stream",
     "text": [
      "[name: \"/device:CPU:0\"\n",
      "device_type: \"CPU\"\n",
      "memory_limit: 268435456\n",
      "locality {\n",
      "}\n",
      "incarnation: 8074794954149134893\n",
      ", name: \"/device:GPU:0\"\n",
      "device_type: \"GPU\"\n",
      "memory_limit: 10921259828\n",
      "locality {\n",
      "  bus_id: 1\n",
      "  links {\n",
      "  }\n",
      "}\n",
      "incarnation: 13632413966509426724\n",
      "physical_device_desc: \"device: 0, name: GeForce GTX 1080 Ti, pci bus id: 0000:04:00.0, compute capability: 6.1\"\n",
      "]\n"
     ]
    }
   ],
   "source": [
    "# using GPU #0\n",
    "os.environ[\"CUDA_VISIBLE_DEVICES\"]=\"0\"\n",
    "\n",
    "## checking\n",
    "from tensorflow.python.client import device_lib\n",
    "print(device_lib.list_local_devices())"
   ]
  },
  {
   "cell_type": "code",
   "execution_count": 5,
   "metadata": {},
   "outputs": [
    {
     "name": "stderr",
     "output_type": "stream",
     "text": [
      "Using TensorFlow backend.\n"
     ]
    }
   ],
   "source": [
    "import os\n",
    "\n",
    "import numpy as np\n",
    "import pandas as pd\n",
    "from keras.preprocessing import image\n",
    "import keras.applications.xception as xception\n",
    "import keras.applications.inception_v3 as inception_v3\n",
    "import keras.applications.inception_resnet_v2 as inception_resnet_v2\n",
    "inception_model = inception_v3.InceptionV3(weights='imagenet')\n",
    "xception_model = xception.Xception(weights='imagenet')\n",
    "inception_resnet_model = inception_resnet_v2.InceptionResNetV2(weights='imagenet')"
   ]
  },
  {
   "cell_type": "code",
   "execution_count": 8,
   "metadata": {},
   "outputs": [],
   "source": [
    "def image_classify(model, pak, img, top_n=1):\n",
    "    \"\"\"Classify image and return top matches.\"\"\"\n",
    "    img = os.path.join(images_path, img)\n",
    "    img = Image.open(img)\n",
    "    target_size = (224, 224)\n",
    "    if img.size != target_size:\n",
    "        img = img.resize(target_size)\n",
    "    x = image.img_to_array(img)\n",
    "    x = np.expand_dims(x, axis=0)\n",
    "    x = pak.preprocess_input(x)\n",
    "    preds = model.predict(x)\n",
    "    [(useless , pred_name, pred_score)] = pak.decode_predictions(preds, top=top_n)[0]\n",
    "    return pred_name, pred_score"
   ]
  },
  {
   "cell_type": "markdown",
   "metadata": {},
   "source": [
    "### testing it in small set first (Dusk VS Pandas)"
   ]
  },
  {
   "cell_type": "code",
   "execution_count": 108,
   "metadata": {},
   "outputs": [],
   "source": [
    "dk_features_500 = dk_features[:500]"
   ]
  },
  {
   "cell_type": "code",
   "execution_count": 111,
   "metadata": {},
   "outputs": [
    {
     "name": "stdout",
     "output_type": "stream",
     "text": [
      "CPU times: user 20.7 s, sys: 3.5 s, total: 24.2 s\n",
      "Wall time: 17.4 s\n"
     ]
    }
   ],
   "source": [
    "%%time\n",
    "# check using dusk speed of GPU application\n",
    "dk_features_500['pred_name_incept'] = dk_features_500['image'].apply(\n",
    "    lambda x: image_classify_name(inception_model, inception_v3, x), meta=('str')).compute(num_workers=10)"
   ]
  },
  {
   "cell_type": "code",
   "execution_count": 112,
   "metadata": {},
   "outputs": [],
   "source": [
    "features_500 = features[:500]"
   ]
  },
  {
   "cell_type": "code",
   "execution_count": 114,
   "metadata": {},
   "outputs": [
    {
     "name": "stdout",
     "output_type": "stream",
     "text": [
      "CPU times: user 21.6 s, sys: 3.4 s, total: 25 s\n",
      "Wall time: 18 s\n"
     ]
    },
    {
     "name": "stderr",
     "output_type": "stream",
     "text": [
      "/media/data/anaconda3/envs/tensorflow/lib/python3.6/site-packages/ipykernel_launcher.py:4: SettingWithCopyWarning: \n",
      "A value is trying to be set on a copy of a slice from a DataFrame.\n",
      "Try using .loc[row_indexer,col_indexer] = value instead\n",
      "\n",
      "See the caveats in the documentation: http://pandas.pydata.org/pandas-docs/stable/indexing.html#indexing-view-versus-copy\n",
      "  after removing the cwd from sys.path.\n"
     ]
    }
   ],
   "source": [
    "%%time\n",
    "## check using panda speed of GPU application\n",
    "\n",
    "features_500['pred_name_incept'] = features_500['image'].apply(\n",
    "    lambda x: image_classify_name(inception_model, inception_v3, x))"
   ]
  },
  {
   "cell_type": "markdown",
   "metadata": {},
   "source": [
    "### Result, Pandas is same speed with Dask for Inference in NN, so, use Pandas"
   ]
  },
  {
   "cell_type": "markdown",
   "metadata": {},
   "source": [
    "## run for Inception model <a id='apply_multiple'></a>\n",
    "(Use .apply() for mulitple output columns)"
   ]
  },
  {
   "cell_type": "code",
   "execution_count": 124,
   "metadata": {},
   "outputs": [
    {
     "name": "stdout",
     "output_type": "stream",
     "text": [
      "CPU times: user 16h 2min 58s, sys: 2h 10min 20s, total: 18h 13min 19s\n",
      "Wall time: 14h 6min 42s\n"
     ]
    }
   ],
   "source": [
    "%%time\n",
    "## start: 12:51am, 13/06\n",
    "\n",
    "features[['pred_name_inc', 'pred_score_inc']] = features.apply(lambda x: pd.Series(image_classify(inception_model, inception_v3, x['image'])), axis=1)"
   ]
  },
  {
   "cell_type": "markdown",
   "metadata": {},
   "source": [
    "## run for Xception"
   ]
  },
  {
   "cell_type": "code",
   "execution_count": null,
   "metadata": {},
   "outputs": [],
   "source": [
    "%%time\n",
    "## start: 12:51am, 13/06\n",
    "\n",
    "features[['pred_name_xcep', 'pred_score_xcep']] = features.apply(lambda x: pd.Series(image_classify(xception_model, xception, x['image'])), axis=1)"
   ]
  },
  {
   "cell_type": "markdown",
   "metadata": {},
   "source": [
    "## run for Inception resnet model"
   ]
  },
  {
   "cell_type": "code",
   "execution_count": null,
   "metadata": {},
   "outputs": [],
   "source": [
    "%%time\n",
    "\n",
    "features[['pred_name_incRes', 'pred_score_incRes']] = features.apply(lambda x: pd.Series(image_classify(inception_resnet_model, inception_resnet_v2, x['image'])), axis=1)\n"
   ]
  },
  {
   "cell_type": "markdown",
   "metadata": {},
   "source": [
    "## Try top 5 results"
   ]
  },
  {
   "cell_type": "code",
   "execution_count": 38,
   "metadata": {},
   "outputs": [],
   "source": [
    "def image_classify_top5(model, pak, img):\n",
    "    \"\"\"Classify image and return top matches.\"\"\"\n",
    "    top_n = 5\n",
    "    img = os.path.join(images_path, img)\n",
    "    img = Image.open(img)\n",
    "    target_size = (224, 224)\n",
    "    if img.size != target_size:\n",
    "        img = img.resize(target_size)\n",
    "    x = image.img_to_array(img)\n",
    "    x = np.expand_dims(x, axis=0)\n",
    "    x = pak.preprocess_input(x)\n",
    "    preds = model.predict(x)\n",
    "    [top_1, top_2, top_3, top_4, top_5] = pak.decode_predictions(preds, top=top_n)[0]\n",
    "    (useless , pred_name_1, pred_score_1) = top_1\n",
    "    (useless , pred_name_2, pred_score_2) = top_2\n",
    "    (useless , pred_name_3, pred_score_3) = top_3\n",
    "    (useless , pred_name_4, pred_score_4) = top_4\n",
    "    (useless , pred_name_5, pred_score_5) = top_5\n",
    "    return pred_name_1, pred_score_1, pred_name_2, pred_score_2, pred_name_3, pred_score_3, pred_name_4, pred_score_4, pred_name_5, pred_score_5"
   ]
  },
  {
   "cell_type": "code",
   "execution_count": 43,
   "metadata": {},
   "outputs": [],
   "source": [
    "from PIL import Image\n",
    "features[['pred_name_incRes_1', 'pred_score_incRes_1',\n",
    "             'pred_name_incRes_2', 'pred_score_incRes_2',\n",
    "             'pred_name_incRes_3', 'pred_score_incRes_3',\n",
    "             'pred_name_incRes_4', 'pred_score_incRes_4',\n",
    "             'pred_name_incRes_5', 'pred_score_incRes_5']] = features.apply(lambda x: pd.Series(image_classify_top5(inception_resnet_model, inception_resnet_v2, x['image'])), axis=1)\n"
   ]
  },
  {
   "cell_type": "code",
   "execution_count": 46,
   "metadata": {},
   "outputs": [],
   "source": [
    "# features.drop(['pred_name_xcep', 'pred_score_xcep'], axis=1, inplace=True)"
   ]
  },
  {
   "cell_type": "code",
   "execution_count": 47,
   "metadata": {},
   "outputs": [
    {
     "data": {
      "text/html": [
       "<div>\n",
       "<style scoped>\n",
       "    .dataframe tbody tr th:only-of-type {\n",
       "        vertical-align: middle;\n",
       "    }\n",
       "\n",
       "    .dataframe tbody tr th {\n",
       "        vertical-align: top;\n",
       "    }\n",
       "\n",
       "    .dataframe thead th {\n",
       "        text-align: right;\n",
       "    }\n",
       "</style>\n",
       "<table border=\"1\" class=\"dataframe\">\n",
       "  <thead>\n",
       "    <tr style=\"text-align: right;\">\n",
       "      <th></th>\n",
       "      <th>image</th>\n",
       "      <th>dullness</th>\n",
       "      <th>average_pixel_width</th>\n",
       "      <th>height</th>\n",
       "      <th>width</th>\n",
       "      <th>blurrness</th>\n",
       "      <th>pred_name_inc</th>\n",
       "      <th>pred_score_inc</th>\n",
       "      <th>pred_name_incRes_1</th>\n",
       "      <th>pred_score_incRes_1</th>\n",
       "      <th>pred_name_incRes_2</th>\n",
       "      <th>pred_score_incRes_2</th>\n",
       "      <th>pred_name_incRes_3</th>\n",
       "      <th>pred_score_incRes_3</th>\n",
       "      <th>pred_name_incRes_4</th>\n",
       "      <th>pred_score_incRes_4</th>\n",
       "      <th>pred_name_incRes_5</th>\n",
       "      <th>pred_score_incRes_5</th>\n",
       "    </tr>\n",
       "  </thead>\n",
       "  <tbody>\n",
       "    <tr>\n",
       "      <th>0</th>\n",
       "      <td>2806fe3b7d9a5c40be1c2e4d779b2ce692d8cf9a37dbb3...</td>\n",
       "      <td>87.005</td>\n",
       "      <td>2.287298</td>\n",
       "      <td>461</td>\n",
       "      <td>360</td>\n",
       "      <td>236.471150</td>\n",
       "      <td>velvet</td>\n",
       "      <td>0.925952</td>\n",
       "      <td>gown</td>\n",
       "      <td>0.485501</td>\n",
       "      <td>velvet</td>\n",
       "      <td>0.227062</td>\n",
       "      <td>maillot</td>\n",
       "      <td>0.172575</td>\n",
       "      <td>miniskirt</td>\n",
       "      <td>0.042976</td>\n",
       "      <td>overskirt</td>\n",
       "      <td>0.033888</td>\n",
       "    </tr>\n",
       "    <tr>\n",
       "      <th>1</th>\n",
       "      <td>1daed325a3521372eae13f4ece142df03058b82fa91af6...</td>\n",
       "      <td>0.000</td>\n",
       "      <td>1.984568</td>\n",
       "      <td>480</td>\n",
       "      <td>270</td>\n",
       "      <td>395.042261</td>\n",
       "      <td>minivan</td>\n",
       "      <td>0.531279</td>\n",
       "      <td>minivan</td>\n",
       "      <td>0.996289</td>\n",
       "      <td>jeep</td>\n",
       "      <td>0.002061</td>\n",
       "      <td>beach_wagon</td>\n",
       "      <td>0.001338</td>\n",
       "      <td>minibus</td>\n",
       "      <td>0.000171</td>\n",
       "      <td>car_wheel</td>\n",
       "      <td>0.000060</td>\n",
       "    </tr>\n",
       "    <tr>\n",
       "      <th>2</th>\n",
       "      <td>1119e08e9ea54d68c6401cffd05b75ed701e41eb179387...</td>\n",
       "      <td>0.000</td>\n",
       "      <td>1.108796</td>\n",
       "      <td>480</td>\n",
       "      <td>360</td>\n",
       "      <td>422.078373</td>\n",
       "      <td>modem</td>\n",
       "      <td>0.910144</td>\n",
       "      <td>remote_control</td>\n",
       "      <td>0.352886</td>\n",
       "      <td>modem</td>\n",
       "      <td>0.317294</td>\n",
       "      <td>radio</td>\n",
       "      <td>0.246771</td>\n",
       "      <td>microphone</td>\n",
       "      <td>0.068979</td>\n",
       "      <td>switch</td>\n",
       "      <td>0.006091</td>\n",
       "    </tr>\n",
       "    <tr>\n",
       "      <th>3</th>\n",
       "      <td>7bb5b7d6b6fd0f65c34a6cac3908c6c4978266c81af150...</td>\n",
       "      <td>0.000</td>\n",
       "      <td>1.298611</td>\n",
       "      <td>360</td>\n",
       "      <td>480</td>\n",
       "      <td>162.055513</td>\n",
       "      <td>entertainment_center</td>\n",
       "      <td>0.729065</td>\n",
       "      <td>wardrobe</td>\n",
       "      <td>0.499231</td>\n",
       "      <td>sliding_door</td>\n",
       "      <td>0.405502</td>\n",
       "      <td>home_theater</td>\n",
       "      <td>0.033462</td>\n",
       "      <td>medicine_chest</td>\n",
       "      <td>0.019430</td>\n",
       "      <td>entertainment_center</td>\n",
       "      <td>0.013589</td>\n",
       "    </tr>\n",
       "    <tr>\n",
       "      <th>4</th>\n",
       "      <td>51cedbb17eb50b7448a123309892796e3922ed6c905025...</td>\n",
       "      <td>50.105</td>\n",
       "      <td>3.009115</td>\n",
       "      <td>480</td>\n",
       "      <td>320</td>\n",
       "      <td>1261.238135</td>\n",
       "      <td>stove</td>\n",
       "      <td>0.980051</td>\n",
       "      <td>stove</td>\n",
       "      <td>0.566353</td>\n",
       "      <td>microwave</td>\n",
       "      <td>0.316988</td>\n",
       "      <td>dishwasher</td>\n",
       "      <td>0.109359</td>\n",
       "      <td>safe</td>\n",
       "      <td>0.005139</td>\n",
       "      <td>washer</td>\n",
       "      <td>0.001773</td>\n",
       "    </tr>\n",
       "  </tbody>\n",
       "</table>\n",
       "</div>"
      ],
      "text/plain": [
       "                                               image  dullness  \\\n",
       "0  2806fe3b7d9a5c40be1c2e4d779b2ce692d8cf9a37dbb3...    87.005   \n",
       "1  1daed325a3521372eae13f4ece142df03058b82fa91af6...     0.000   \n",
       "2  1119e08e9ea54d68c6401cffd05b75ed701e41eb179387...     0.000   \n",
       "3  7bb5b7d6b6fd0f65c34a6cac3908c6c4978266c81af150...     0.000   \n",
       "4  51cedbb17eb50b7448a123309892796e3922ed6c905025...    50.105   \n",
       "\n",
       "   average_pixel_width  height  width    blurrness         pred_name_inc  \\\n",
       "0             2.287298     461    360   236.471150                velvet   \n",
       "1             1.984568     480    270   395.042261               minivan   \n",
       "2             1.108796     480    360   422.078373                 modem   \n",
       "3             1.298611     360    480   162.055513  entertainment_center   \n",
       "4             3.009115     480    320  1261.238135                 stove   \n",
       "\n",
       "   pred_score_inc pred_name_incRes_1  pred_score_incRes_1 pred_name_incRes_2  \\\n",
       "0        0.925952               gown             0.485501             velvet   \n",
       "1        0.531279            minivan             0.996289               jeep   \n",
       "2        0.910144     remote_control             0.352886              modem   \n",
       "3        0.729065           wardrobe             0.499231       sliding_door   \n",
       "4        0.980051              stove             0.566353          microwave   \n",
       "\n",
       "   pred_score_incRes_2 pred_name_incRes_3  pred_score_incRes_3  \\\n",
       "0             0.227062            maillot             0.172575   \n",
       "1             0.002061        beach_wagon             0.001338   \n",
       "2             0.317294              radio             0.246771   \n",
       "3             0.405502       home_theater             0.033462   \n",
       "4             0.316988         dishwasher             0.109359   \n",
       "\n",
       "  pred_name_incRes_4  pred_score_incRes_4    pred_name_incRes_5  \\\n",
       "0          miniskirt             0.042976             overskirt   \n",
       "1            minibus             0.000171             car_wheel   \n",
       "2         microphone             0.068979                switch   \n",
       "3     medicine_chest             0.019430  entertainment_center   \n",
       "4               safe             0.005139                washer   \n",
       "\n",
       "   pred_score_incRes_5  \n",
       "0             0.033888  \n",
       "1             0.000060  \n",
       "2             0.006091  \n",
       "3             0.013589  \n",
       "4             0.001773  "
      ]
     },
     "execution_count": 47,
     "metadata": {},
     "output_type": "execute_result"
    }
   ],
   "source": [
    "features.head()"
   ]
  },
  {
   "cell_type": "code",
   "execution_count": null,
   "metadata": {},
   "outputs": [],
   "source": [
    "from PIL import Image\n",
    "features[['pred_name_xcep_1', 'pred_score_xcep_1',\n",
    "             'pred_name_xcep_2', 'pred_score_xcep_2',\n",
    "             'pred_name_xcep_3', 'pred_score_xcep_3',\n",
    "             'pred_name_xcep_4', 'pred_score_xcep_4',\n",
    "             'pred_name_xcep_5', 'pred_score_xcep_5']] = features.apply(lambda x: pd.Series(image_classify_top5(xception_model, xception, x['image'])), axis=1)\n"
   ]
  },
  {
   "cell_type": "markdown",
   "metadata": {},
   "source": [
    "## Keypoints extraction"
   ]
  },
  {
   "cell_type": "code",
   "execution_count": 95,
   "metadata": {},
   "outputs": [],
   "source": [
    "def keypoints(img_path):\n",
    "    img = os.path.join(images_path, img_path)\n",
    "    img = cv2.imread(img)\n",
    "    gray= cv2.cvtColor(img,cv2.COLOR_BGR2GRAY)\n",
    "\n",
    "#     sift = cv2.xfeatures2d.SIFT_create()\n",
    "    fast = cv2.FastFeatureDetector_create()\n",
    "#     s_kp = sift.detect(gray,None)\n",
    "    f_kp = fast.detect(gray,None)\n",
    "    return len(f_kp)"
   ]
  },
  {
   "cell_type": "code",
   "execution_count": 96,
   "metadata": {},
   "outputs": [],
   "source": [
    "# testing with 100 samples first\n",
    "\n",
    "features_100 = features.iloc[:100]"
   ]
  },
  {
   "cell_type": "code",
   "execution_count": 108,
   "metadata": {
    "scrolled": true
   },
   "outputs": [
    {
     "name": "stdout",
     "output_type": "stream",
     "text": [
      "CPU times: user 7.82 s, sys: 497 ms, total: 8.31 s\n",
      "Wall time: 610 ms\n"
     ]
    },
    {
     "name": "stderr",
     "output_type": "stream",
     "text": [
      "/media/data/anaconda3/envs/tensorflow/lib/python3.6/site-packages/pandas/core/frame.py:3137: SettingWithCopyWarning: \n",
      "A value is trying to be set on a copy of a slice from a DataFrame.\n",
      "Try using .loc[row_indexer,col_indexer] = value instead\n",
      "\n",
      "See the caveats in the documentation: http://pandas.pydata.org/pandas-docs/stable/indexing.html#indexing-view-versus-copy\n",
      "  self[k1] = value[k2]\n"
     ]
    }
   ],
   "source": [
    "%%time\n",
    "\n",
    "features_100[['keypoints_fast']] = features_100.apply(lambda x: pd.Series(keypoints(x['image'])), axis=1)"
   ]
  },
  {
   "cell_type": "code",
   "execution_count": null,
   "metadata": {},
   "outputs": [],
   "source": [
    "import time\n",
    "tic = time.time()\n",
    "\n",
    "features[['keypoints_fast']] = features.apply(lambda x: pd.Series(keypoints(x['image'])), axis=1)\n",
    "\n",
    "used_hours = (time.time() - tic)/3600"
   ]
  },
  {
   "cell_type": "code",
   "execution_count": 109,
   "metadata": {},
   "outputs": [
    {
     "data": {
      "text/html": [
       "<div>\n",
       "<style scoped>\n",
       "    .dataframe tbody tr th:only-of-type {\n",
       "        vertical-align: middle;\n",
       "    }\n",
       "\n",
       "    .dataframe tbody tr th {\n",
       "        vertical-align: top;\n",
       "    }\n",
       "\n",
       "    .dataframe thead th {\n",
       "        text-align: right;\n",
       "    }\n",
       "</style>\n",
       "<table border=\"1\" class=\"dataframe\">\n",
       "  <thead>\n",
       "    <tr style=\"text-align: right;\">\n",
       "      <th></th>\n",
       "      <th>image</th>\n",
       "      <th>dullness</th>\n",
       "      <th>average_pixel_width</th>\n",
       "      <th>height</th>\n",
       "      <th>width</th>\n",
       "      <th>blurrness</th>\n",
       "      <th>pred_name_inc</th>\n",
       "      <th>pred_score_inc</th>\n",
       "      <th>pred_name_incRes_1</th>\n",
       "      <th>pred_score_incRes_1</th>\n",
       "      <th>pred_name_incRes_2</th>\n",
       "      <th>pred_score_incRes_2</th>\n",
       "      <th>pred_name_incRes_3</th>\n",
       "      <th>pred_score_incRes_3</th>\n",
       "      <th>pred_name_incRes_4</th>\n",
       "      <th>pred_score_incRes_4</th>\n",
       "      <th>pred_name_incRes_5</th>\n",
       "      <th>pred_score_incRes_5</th>\n",
       "      <th>pred_name_xcep_1</th>\n",
       "      <th>pred_score_xcep_1</th>\n",
       "      <th>pred_name_xcep_2</th>\n",
       "      <th>pred_score_xcep_2</th>\n",
       "      <th>pred_name_xcep_3</th>\n",
       "      <th>pred_score_xcep_3</th>\n",
       "      <th>pred_name_xcep_4</th>\n",
       "      <th>pred_score_xcep_4</th>\n",
       "      <th>pred_name_xcep_5</th>\n",
       "      <th>pred_score_xcep_5</th>\n",
       "    </tr>\n",
       "  </thead>\n",
       "  <tbody>\n",
       "    <tr>\n",
       "      <th>0</th>\n",
       "      <td>2806fe3b7d9a5c40be1c2e4d779b2ce692d8cf9a37dbb3...</td>\n",
       "      <td>87.005</td>\n",
       "      <td>2.287298</td>\n",
       "      <td>461</td>\n",
       "      <td>360</td>\n",
       "      <td>236.471150</td>\n",
       "      <td>velvet</td>\n",
       "      <td>0.925952</td>\n",
       "      <td>gown</td>\n",
       "      <td>0.485501</td>\n",
       "      <td>velvet</td>\n",
       "      <td>0.227062</td>\n",
       "      <td>maillot</td>\n",
       "      <td>0.172575</td>\n",
       "      <td>miniskirt</td>\n",
       "      <td>0.042976</td>\n",
       "      <td>overskirt</td>\n",
       "      <td>0.033888</td>\n",
       "      <td>miniskirt</td>\n",
       "      <td>0.601376</td>\n",
       "      <td>overskirt</td>\n",
       "      <td>0.341374</td>\n",
       "      <td>gown</td>\n",
       "      <td>0.026536</td>\n",
       "      <td>hoopskirt</td>\n",
       "      <td>0.019449</td>\n",
       "      <td>velvet</td>\n",
       "      <td>0.008446</td>\n",
       "    </tr>\n",
       "    <tr>\n",
       "      <th>1</th>\n",
       "      <td>1daed325a3521372eae13f4ece142df03058b82fa91af6...</td>\n",
       "      <td>0.000</td>\n",
       "      <td>1.984568</td>\n",
       "      <td>480</td>\n",
       "      <td>270</td>\n",
       "      <td>395.042261</td>\n",
       "      <td>minivan</td>\n",
       "      <td>0.531279</td>\n",
       "      <td>minivan</td>\n",
       "      <td>0.996289</td>\n",
       "      <td>jeep</td>\n",
       "      <td>0.002061</td>\n",
       "      <td>beach_wagon</td>\n",
       "      <td>0.001338</td>\n",
       "      <td>minibus</td>\n",
       "      <td>0.000171</td>\n",
       "      <td>car_wheel</td>\n",
       "      <td>0.000060</td>\n",
       "      <td>jeep</td>\n",
       "      <td>0.259239</td>\n",
       "      <td>pickup</td>\n",
       "      <td>0.149008</td>\n",
       "      <td>convertible</td>\n",
       "      <td>0.148121</td>\n",
       "      <td>beach_wagon</td>\n",
       "      <td>0.130799</td>\n",
       "      <td>car_wheel</td>\n",
       "      <td>0.070279</td>\n",
       "    </tr>\n",
       "    <tr>\n",
       "      <th>2</th>\n",
       "      <td>1119e08e9ea54d68c6401cffd05b75ed701e41eb179387...</td>\n",
       "      <td>0.000</td>\n",
       "      <td>1.108796</td>\n",
       "      <td>480</td>\n",
       "      <td>360</td>\n",
       "      <td>422.078373</td>\n",
       "      <td>modem</td>\n",
       "      <td>0.910144</td>\n",
       "      <td>remote_control</td>\n",
       "      <td>0.352886</td>\n",
       "      <td>modem</td>\n",
       "      <td>0.317294</td>\n",
       "      <td>radio</td>\n",
       "      <td>0.246771</td>\n",
       "      <td>microphone</td>\n",
       "      <td>0.068979</td>\n",
       "      <td>switch</td>\n",
       "      <td>0.006091</td>\n",
       "      <td>pencil_sharpener</td>\n",
       "      <td>0.232891</td>\n",
       "      <td>modem</td>\n",
       "      <td>0.202196</td>\n",
       "      <td>rubber_eraser</td>\n",
       "      <td>0.095057</td>\n",
       "      <td>lighter</td>\n",
       "      <td>0.081265</td>\n",
       "      <td>loupe</td>\n",
       "      <td>0.045516</td>\n",
       "    </tr>\n",
       "    <tr>\n",
       "      <th>3</th>\n",
       "      <td>7bb5b7d6b6fd0f65c34a6cac3908c6c4978266c81af150...</td>\n",
       "      <td>0.000</td>\n",
       "      <td>1.298611</td>\n",
       "      <td>360</td>\n",
       "      <td>480</td>\n",
       "      <td>162.055513</td>\n",
       "      <td>entertainment_center</td>\n",
       "      <td>0.729065</td>\n",
       "      <td>wardrobe</td>\n",
       "      <td>0.499231</td>\n",
       "      <td>sliding_door</td>\n",
       "      <td>0.405502</td>\n",
       "      <td>home_theater</td>\n",
       "      <td>0.033462</td>\n",
       "      <td>medicine_chest</td>\n",
       "      <td>0.019430</td>\n",
       "      <td>entertainment_center</td>\n",
       "      <td>0.013589</td>\n",
       "      <td>wardrobe</td>\n",
       "      <td>0.921331</td>\n",
       "      <td>crate</td>\n",
       "      <td>0.043320</td>\n",
       "      <td>chiffonier</td>\n",
       "      <td>0.013404</td>\n",
       "      <td>entertainment_center</td>\n",
       "      <td>0.006901</td>\n",
       "      <td>sliding_door</td>\n",
       "      <td>0.002897</td>\n",
       "    </tr>\n",
       "    <tr>\n",
       "      <th>4</th>\n",
       "      <td>51cedbb17eb50b7448a123309892796e3922ed6c905025...</td>\n",
       "      <td>50.105</td>\n",
       "      <td>3.009115</td>\n",
       "      <td>480</td>\n",
       "      <td>320</td>\n",
       "      <td>1261.238135</td>\n",
       "      <td>stove</td>\n",
       "      <td>0.980051</td>\n",
       "      <td>stove</td>\n",
       "      <td>0.566353</td>\n",
       "      <td>microwave</td>\n",
       "      <td>0.316988</td>\n",
       "      <td>dishwasher</td>\n",
       "      <td>0.109359</td>\n",
       "      <td>safe</td>\n",
       "      <td>0.005139</td>\n",
       "      <td>washer</td>\n",
       "      <td>0.001773</td>\n",
       "      <td>washer</td>\n",
       "      <td>0.785429</td>\n",
       "      <td>photocopier</td>\n",
       "      <td>0.196046</td>\n",
       "      <td>stove</td>\n",
       "      <td>0.009669</td>\n",
       "      <td>printer</td>\n",
       "      <td>0.005815</td>\n",
       "      <td>microwave</td>\n",
       "      <td>0.001132</td>\n",
       "    </tr>\n",
       "  </tbody>\n",
       "</table>\n",
       "</div>"
      ],
      "text/plain": [
       "                                               image  dullness  \\\n",
       "0  2806fe3b7d9a5c40be1c2e4d779b2ce692d8cf9a37dbb3...    87.005   \n",
       "1  1daed325a3521372eae13f4ece142df03058b82fa91af6...     0.000   \n",
       "2  1119e08e9ea54d68c6401cffd05b75ed701e41eb179387...     0.000   \n",
       "3  7bb5b7d6b6fd0f65c34a6cac3908c6c4978266c81af150...     0.000   \n",
       "4  51cedbb17eb50b7448a123309892796e3922ed6c905025...    50.105   \n",
       "\n",
       "   average_pixel_width  height  width    blurrness         pred_name_inc  \\\n",
       "0             2.287298     461    360   236.471150                velvet   \n",
       "1             1.984568     480    270   395.042261               minivan   \n",
       "2             1.108796     480    360   422.078373                 modem   \n",
       "3             1.298611     360    480   162.055513  entertainment_center   \n",
       "4             3.009115     480    320  1261.238135                 stove   \n",
       "\n",
       "   pred_score_inc pred_name_incRes_1  pred_score_incRes_1 pred_name_incRes_2  \\\n",
       "0        0.925952               gown             0.485501             velvet   \n",
       "1        0.531279            minivan             0.996289               jeep   \n",
       "2        0.910144     remote_control             0.352886              modem   \n",
       "3        0.729065           wardrobe             0.499231       sliding_door   \n",
       "4        0.980051              stove             0.566353          microwave   \n",
       "\n",
       "   pred_score_incRes_2 pred_name_incRes_3  pred_score_incRes_3  \\\n",
       "0             0.227062            maillot             0.172575   \n",
       "1             0.002061        beach_wagon             0.001338   \n",
       "2             0.317294              radio             0.246771   \n",
       "3             0.405502       home_theater             0.033462   \n",
       "4             0.316988         dishwasher             0.109359   \n",
       "\n",
       "  pred_name_incRes_4  pred_score_incRes_4    pred_name_incRes_5  \\\n",
       "0          miniskirt             0.042976             overskirt   \n",
       "1            minibus             0.000171             car_wheel   \n",
       "2         microphone             0.068979                switch   \n",
       "3     medicine_chest             0.019430  entertainment_center   \n",
       "4               safe             0.005139                washer   \n",
       "\n",
       "   pred_score_incRes_5  pred_name_xcep_1  pred_score_xcep_1 pred_name_xcep_2  \\\n",
       "0             0.033888         miniskirt           0.601376        overskirt   \n",
       "1             0.000060              jeep           0.259239           pickup   \n",
       "2             0.006091  pencil_sharpener           0.232891            modem   \n",
       "3             0.013589          wardrobe           0.921331            crate   \n",
       "4             0.001773            washer           0.785429      photocopier   \n",
       "\n",
       "   pred_score_xcep_2 pred_name_xcep_3  pred_score_xcep_3  \\\n",
       "0           0.341374             gown           0.026536   \n",
       "1           0.149008      convertible           0.148121   \n",
       "2           0.202196    rubber_eraser           0.095057   \n",
       "3           0.043320       chiffonier           0.013404   \n",
       "4           0.196046            stove           0.009669   \n",
       "\n",
       "       pred_name_xcep_4  pred_score_xcep_4 pred_name_xcep_5  pred_score_xcep_5  \n",
       "0             hoopskirt           0.019449           velvet           0.008446  \n",
       "1           beach_wagon           0.130799        car_wheel           0.070279  \n",
       "2               lighter           0.081265            loupe           0.045516  \n",
       "3  entertainment_center           0.006901     sliding_door           0.002897  \n",
       "4               printer           0.005815        microwave           0.001132  "
      ]
     },
     "execution_count": 109,
     "metadata": {},
     "output_type": "execute_result"
    }
   ],
   "source": [
    "features.head()"
   ]
  },
  {
   "cell_type": "code",
   "execution_count": 93,
   "metadata": {},
   "outputs": [
    {
     "data": {
      "image/png": "[encoded data removed]",
      "text/plain": [
       "<Figure size 432x288 with 1 Axes>"
      ]
     },
     "metadata": {},
     "output_type": "display_data"
    },
    {
     "name": "stdout",
     "output_type": "stream",
     "text": [
      "343 907\n"
     ]
    }
   ],
   "source": [
    "# Checking for SIFT and FAST Keypoints extractions\n",
    "\n",
    "img = os.path.join(images_path, features.image[200])\n",
    "img = cv2.imread(img)\n",
    "plt.imshow(img)\n",
    "plt.show()\n",
    "\n",
    "gray= cv2.cvtColor(img,cv2.COLOR_BGR2GRAY)\n",
    "\n",
    "sift = cv2.xfeatures2d.SIFT_create()\n",
    "fast = cv2.FastFeatureDetector_create()\n",
    "\n",
    "s_kp = sift.detect(gray,None)\n",
    "f_kp = fast.detect(gray,None)\n",
    "print(len(s_kp), len(f_kp))"
   ]
  },
  {
   "cell_type": "code",
   "execution_count": null,
   "metadata": {},
   "outputs": [],
   "source": [
    "# Saving in the end\n",
    "features.to_pickle(\"/media/data/avito/preprocessed/image_train_feat_f29.pkl\")"
   ]
  }
 ],
 "metadata": {
  "kernelspec": {
   "display_name": "Python 3",
   "language": "python",
   "name": "python3"
  },
  "language_info": {
   "codemirror_mode": {
    "name": "ipython",
    "version": 3
   },
   "file_extension": ".py",
   "mimetype": "text/x-python",
   "name": "python",
   "nbconvert_exporter": "python",
   "pygments_lexer": "ipython3",
   "version": "3.6.5"
  }
 },
 "nbformat": 4,
 "nbformat_minor": 2
}
