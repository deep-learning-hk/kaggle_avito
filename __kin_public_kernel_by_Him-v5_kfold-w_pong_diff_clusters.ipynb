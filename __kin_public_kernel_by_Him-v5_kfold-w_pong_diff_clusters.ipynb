{
 "cells": [
  {
   "cell_type": "markdown",
   "metadata": {},
   "source": [
    "The code is adopted from the public kernel\n",
    "\n",
    "## Objectives\n",
    "- This notebook tries to use 5 different clusters to train different model (here, we only train one specific model for one specific cluster, which shows pretty low RMSE in the validation.\n",
    "\n",
    "## Knowledge points\n",
    "- Using save_npz to save the scipy's sparse matrix\n",
    "\n",
    "\n"
   ]
  },
  {
   "cell_type": "code",
   "execution_count": null,
   "metadata": {},
   "outputs": [],
   "source": [
    "import time\n",
    "notebookstart= time.time()\n",
    "\n",
    "import numpy as np # linear algebra\n",
    "import pandas as pd # data processing, CSV file I/O (e.g. pd.read_csv)\n",
    "import os\n",
    "import gc\n",
    "import pickle\n",
    "print(\"Data:\\n\",os.listdir(\"../data\"))"
   ]
  },
  {
   "cell_type": "code",
   "execution_count": 2,
   "metadata": {},
   "outputs": [],
   "source": [
    "# import sys\n",
    "# # the mock-0.3.1 dir contains testcase.py, testutils.py & mock.py\n",
    "# sys.path.append('/home/user/san/project_p/LightGBM/python-package/')\n",
    "\n",
    "import lightgbm as lgb"
   ]
  },
  {
   "cell_type": "code",
   "execution_count": 9,
   "metadata": {},
   "outputs": [
    {
     "name": "stderr",
     "output_type": "stream",
     "text": [
      "/home/ubuntu/anaconda3/lib/python3.6/site-packages/sklearn/cross_validation.py:41: DeprecationWarning: This module was deprecated in version 0.18 in favor of the model_selection module into which all the refactored classes and functions are moved. Also note that the interface of the new CV iterators are different from that of this module. This module will be removed in 0.20.\n",
      "  \"This module will be removed in 0.20.\", DeprecationWarning)\n"
     ]
    }
   ],
   "source": [
    "# Models Packages\n",
    "from sklearn import metrics\n",
    "from sklearn.metrics import mean_squared_error\n",
    "from sklearn import feature_selection\n",
    "from sklearn.model_selection import train_test_split\n",
    "from sklearn import preprocessing\n",
    "\n",
    "# Gradient Boosting\n",
    "import lightgbm as lgb\n",
    "from sklearn.linear_model import Ridge\n",
    "from sklearn.cross_validation import KFold\n",
    "from sklearn.model_selection import StratifiedKFold\n",
    "\n",
    "# Tf-Idf\n",
    "from sklearn.feature_extraction.text import CountVectorizer, TfidfVectorizer\n",
    "from sklearn.pipeline import FeatureUnion\n",
    "from scipy.sparse import hstack, csr_matrix\n",
    "from nltk.corpus import stopwords \n",
    "\n",
    "# Viz\n",
    "import seaborn as sns\n",
    "import matplotlib.pyplot as plt\n",
    "import re\n",
    "import string\n",
    "\n",
    "%matplotlib inline"
   ]
  },
  {
   "cell_type": "code",
   "execution_count": 13,
   "metadata": {},
   "outputs": [],
   "source": [
    "NFOLDS = 5\n",
    "SEED = 42\n",
    "VALID = True\n",
    "class SklearnWrapper(object):\n",
    "    def __init__(self, clf, seed=0, params=None, seed_bool = True):\n",
    "        if(seed_bool == True):\n",
    "            params['random_state'] = seed\n",
    "        self.clf = clf(**params)\n",
    "\n",
    "    def train(self, x_train, y_train):\n",
    "        self.clf.fit(x_train, y_train)\n",
    "\n",
    "    def predict(self, x):\n",
    "        return self.clf.predict(x)\n",
    "        \n",
    "def get_oof(clf, x_train, y, x_test):\n",
    "    oof_train = np.zeros((ntrain,))\n",
    "    oof_test = np.zeros((ntest,))\n",
    "    oof_test_skf = np.empty((NFOLDS, ntest))\n",
    "\n",
    "    for i, (train_index, test_index) in enumerate(kf):\n",
    "        print('\\nFold {}'.format(i))\n",
    "        x_tr = x_train[train_index]\n",
    "        y_tr = y[train_index]\n",
    "        x_te = x_train[test_index]\n",
    "\n",
    "        clf.train(x_tr, y_tr)\n",
    "\n",
    "        oof_train[test_index] = clf.predict(x_te)\n",
    "        oof_test_skf[i, :] = clf.predict(x_test)\n",
    "\n",
    "    oof_test[:] = oof_test_skf.mean(axis=0)\n",
    "    return oof_train.reshape(-1, 1), oof_test.reshape(-1, 1)\n",
    "    \n",
    "def cleanName(text):\n",
    "    try:\n",
    "        textProc = text.lower()\n",
    "        # textProc = \" \".join(map(str.strip, re.split('(\\d+)',textProc)))\n",
    "        #regex = re.compile(u'[^[:alpha:]]')\n",
    "        #textProc = regex.sub(\" \", textProc)\n",
    "        textProc = re.sub('[!@#$_“”¨«»®´·º½¾¿¡§£₤‘’]', '', textProc)\n",
    "        textProc = \" \".join(textProc.split())\n",
    "        return textProc\n",
    "    except: \n",
    "        return \"name error\"\n",
    "    \n",
    "    \n",
    "def rmse(y, y0):\n",
    "    assert len(y) == len(y0)\n",
    "    return np.sqrt(np.mean(np.power((y - y0), 2)))"
   ]
  },
  {
   "cell_type": "code",
   "execution_count": 3,
   "metadata": {},
   "outputs": [
    {
     "name": "stdout",
     "output_type": "stream",
     "text": [
      "\n",
      "Data Load Stage\n"
     ]
    }
   ],
   "source": [
    "print(\"\\nData Load Stage\")\n",
    "training = pd.read_csv('../data/train.csv', index_col = \"item_id\", parse_dates = [\"activation_date\"])\n",
    "traindex = training.index\n",
    "testing_set = pd.read_csv('../data/test.csv', index_col = \"item_id\", parse_dates = [\"activation_date\"])\n",
    "testdex = testing_set.index"
   ]
  },
  {
   "cell_type": "code",
   "execution_count": 7,
   "metadata": {},
   "outputs": [
    {
     "data": {
      "text/plain": [
       "<matplotlib.axes._subplots.AxesSubplot at 0x7f1900215908>"
      ]
     },
     "execution_count": 7,
     "metadata": {},
     "output_type": "execute_result"
    },
    {
     "data": {
      "image/png": "[encoded data removed]",
      "text/plain": [
       "<Figure size 720x360 with 1 Axes>"
      ]
     },
     "metadata": {},
     "output_type": "display_data"
    }
   ],
   "source": [
    "training.image_top_1.hist(bins=1000, figsize=(10,5))"
   ]
  },
  {
   "cell_type": "code",
   "execution_count": 5,
   "metadata": {},
   "outputs": [
    {
     "data": {
      "text/plain": [
       "<matplotlib.axes._subplots.AxesSubplot at 0x7f19004dd5c0>"
      ]
     },
     "execution_count": 5,
     "metadata": {},
     "output_type": "execute_result"
    },
    {
     "data": {
      "image/png": "[encoded data removed]",
      "text/plain": [
       "<Figure size 720x360 with 1 Axes>"
      ]
     },
     "metadata": {},
     "output_type": "display_data"
    }
   ],
   "source": [
    "training.deal_probability.hist(bins=200, figsize=(10,5))"
   ]
  },
  {
   "cell_type": "code",
   "execution_count": 18,
   "metadata": {
    "scrolled": true
   },
   "outputs": [
    {
     "data": {
      "text/plain": [
       "<matplotlib.axes._subplots.AxesSubplot at 0x7f190bd42320>"
      ]
     },
     "execution_count": 18,
     "metadata": {},
     "output_type": "execute_result"
    },
    {
     "data": {
      "image/png": "[encoded data removed]",
      "text/plain": [
       "<Figure size 720x360 with 1 Axes>"
      ]
     },
     "metadata": {},
     "output_type": "display_data"
    }
   ],
   "source": [
    "testing_set.image_top_1.hist(bins=1000, figsize=(10,5))"
   ]
  },
  {
   "cell_type": "code",
   "execution_count": 14,
   "metadata": {},
   "outputs": [
    {
     "name": "stdout",
     "output_type": "stream",
     "text": [
      "Train shape: 1503424 Rows, 16 Columns\n",
      "Test shape: 508438 Rows, 16 Columns\n",
      "Combine Train and Test\n",
      "\n",
      "All Data shape: 2011862 Rows, 16 Columns\n"
     ]
    }
   ],
   "source": [
    "ntrain = training.shape[0]\n",
    "ntest = testing_set.shape[0]\n",
    "\n",
    "kf = KFold(ntrain, n_folds=NFOLDS, shuffle=True, random_state=SEED)\n",
    "\n",
    "y = training.deal_probability.copy()\n",
    "training.drop(\"deal_probability\",axis=1, inplace=True)\n",
    "print('Train shape: {} Rows, {} Columns'.format(*training.shape))\n",
    "print('Test shape: {} Rows, {} Columns'.format(*testing_set.shape))\n",
    "\n",
    "print(\"Combine Train and Test\")\n",
    "df = pd.concat([training,testing_set],axis=0)\n",
    "# del training, testing\n",
    "gc.collect()\n",
    "print('\\nAll Data shape: {} Rows, {} Columns'.format(*df.shape))"
   ]
  },
  {
   "cell_type": "code",
   "execution_count": 15,
   "metadata": {},
   "outputs": [
    {
     "name": "stdout",
     "output_type": "stream",
     "text": [
      "Feature Engineering\n",
      "\n",
      "Create Time Variables\n",
      "\n",
      "Encode Variables\n",
      "Encoding : ['user_id', 'region', 'city', 'parent_category_name', 'category_name', 'user_type', 'image_top_1', 'param_1', 'param_2', 'param_3']\n"
     ]
    }
   ],
   "source": [
    "print(\"Feature Engineering\")\n",
    "df[\"price\"] = np.log(df[\"price\"]+0.001)\n",
    "df[\"price\"].fillna(df.price.mean(),inplace=True)\n",
    "df[\"image_top_1\"].fillna(-999,inplace=True)\n",
    "\n",
    "print(\"\\nCreate Time Variables\")\n",
    "df[\"Weekday\"] = df['activation_date'].dt.weekday\n",
    "df[\"Weekd of Year\"] = df['activation_date'].dt.week\n",
    "df[\"Day of Month\"] = df['activation_date'].dt.day\n",
    "\n",
    "# Create Validation Index and Remove Dead Variables\n",
    "training_index = df.loc[df.activation_date<=pd.to_datetime('2017-04-07')].index\n",
    "validation_index = df.loc[df.activation_date>=pd.to_datetime('2017-04-08')].index\n",
    "df.drop([\"activation_date\"],axis=1,inplace=True)\n",
    "\n",
    "print(\"\\nEncode Variables\")\n",
    "categorical = [\"user_id\",\"region\",\"city\",\"parent_category_name\",\"category_name\",\"user_type\",\"image_top_1\",\"param_1\",\"param_2\",\"param_3\"]\n",
    "print(\"Encoding :\",categorical)"
   ]
  },
  {
   "cell_type": "markdown",
   "metadata": {},
   "source": [
    "### Label Encoding for all categorical columnsm"
   ]
  },
  {
   "cell_type": "code",
   "execution_count": 16,
   "metadata": {},
   "outputs": [],
   "source": [
    "# Encoder:\n",
    "lbl = preprocessing.LabelEncoder()\n",
    "for col in categorical:\n",
    "    df[col].fillna('Unknown')\n",
    "    df[col] = lbl.fit_transform(df[col].astype(str))"
   ]
  },
  {
   "cell_type": "code",
   "execution_count": 17,
   "metadata": {},
   "outputs": [
    {
     "name": "stdout",
     "output_type": "stream",
     "text": [
      "[nltk_data] Downloading package stopwords to /home/ubuntu/nltk_data...\n",
      "[nltk_data]   Package stopwords is already up-to-date!\n"
     ]
    },
    {
     "data": {
      "text/plain": [
       "True"
      ]
     },
     "execution_count": 17,
     "metadata": {},
     "output_type": "execute_result"
    }
   ],
   "source": [
    "import nltk\n",
    "nltk.download('stopwords')"
   ]
  },
  {
   "cell_type": "code",
   "execution_count": 18,
   "metadata": {},
   "outputs": [
    {
     "name": "stdout",
     "output_type": "stream",
     "text": [
      "\n",
      "Text Features\n",
      "\n",
      "[TF-IDF] Term Frequency Inverse Document Frequency Stage\n"
     ]
    }
   ],
   "source": [
    "print(\"\\nText Features\")\n",
    "\n",
    "# Feature Engineering \n",
    "\n",
    "# Meta Text Features\n",
    "textfeats = [\"description\", \"title\"]\n",
    "df['desc_punc'] = df['description'].apply(lambda x: len([c for c in str(x) if c in string.punctuation]))\n",
    "\n",
    "df['title'] = df['title'].apply(lambda x: cleanName(x))\n",
    "df[\"description\"]   = df[\"description\"].apply(lambda x: cleanName(x))\n",
    "\n",
    "for cols in textfeats:\n",
    "    df[cols] = df[cols].astype(str) \n",
    "    df[cols] = df[cols].astype(str).fillna('missing') # FILL NA\n",
    "    df[cols] = df[cols].str.lower() # Lowercase all text, so that capitalized words dont get treated differently\n",
    "    df[cols + '_num_words'] = df[cols].apply(lambda comment: len(comment.split())) # Count number of Words\n",
    "    df[cols + '_num_unique_words'] = df[cols].apply(lambda comment: len(set(w for w in comment.split())))\n",
    "    df[cols + '_words_vs_unique'] = df[cols+'_num_unique_words'] / df[cols+'_num_words'] * 100 # Count Unique Words\n",
    "    \n",
    "\n",
    "print(\"\\n[TF-IDF] Term Frequency Inverse Document Frequency Stage\")\n",
    "russian_stop = set(stopwords.words('russian'))\n",
    "\n",
    "tfidf_para = {\n",
    "    \"stop_words\": russian_stop,\n",
    "    \"analyzer\": 'word',\n",
    "    \"token_pattern\": r'\\w{1,}',\n",
    "    \"sublinear_tf\": True,\n",
    "    \"dtype\": np.float32,\n",
    "    \"norm\": 'l2',\n",
    "    #\"min_df\":5,\n",
    "    #\"max_df\":.9,\n",
    "    \"smooth_idf\":False\n",
    "}"
   ]
  },
  {
   "cell_type": "code",
   "execution_count": 26,
   "metadata": {},
   "outputs": [],
   "source": [
    "def get_col(col_name): return lambda x: x[col_name]\n",
    "##I added to the max_features of the description. It did not change my score much but it may be worth investigating\n",
    "vectorizer = FeatureUnion([\n",
    "        ('description',TfidfVectorizer(\n",
    "            ngram_range=(1, 2),\n",
    "            max_features=17000,\n",
    "            **tfidf_para,\n",
    "            preprocessor=get_col('description'))),\n",
    "        ('title',CountVectorizer(\n",
    "            ngram_range=(1, 2),\n",
    "            stop_words = russian_stop,\n",
    "            #max_features=7000,\n",
    "            preprocessor=get_col('title')))\n",
    "    ])\n"
   ]
  },
  {
   "cell_type": "code",
   "execution_count": 27,
   "metadata": {},
   "outputs": [
    {
     "data": {
      "text/plain": [
       "FeatureUnion(n_jobs=1,\n",
       "       transformer_list=[('description', TfidfVectorizer(analyzer='word', binary=False, decode_error='strict',\n",
       "        dtype=<class 'numpy.float32'>, encoding='utf-8', input='content',\n",
       "        lowercase=True, max_df=1.0, max_features=17000, min_df=1,\n",
       "        ngram_range=(1, 2), norm='l2',\n",
       "        preproces...   strip_accents=None, token_pattern='(?u)\\\\b\\\\w\\\\w+\\\\b',\n",
       "        tokenizer=None, vocabulary=None))],\n",
       "       transformer_weights=None)"
      ]
     },
     "execution_count": 27,
     "metadata": {},
     "output_type": "execute_result"
    }
   ],
   "source": [
    "start_vect=time.time()\n",
    "\n",
    "#Fit my vectorizer on the entire dataset instead of the training rows\n",
    "#Score improved by .0001\n",
    "vectorizer.fit(df.to_dict('records'))"
   ]
  },
  {
   "cell_type": "markdown",
   "metadata": {},
   "source": [
    "# Create different ready_df for clusters"
   ]
  },
  {
   "cell_type": "code",
   "execution_count": 15,
   "metadata": {},
   "outputs": [],
   "source": [
    "with open('../data/training_total_item_id_new.pkl', 'rb') as file_output:\n",
    "    total_item_id = pickle.load(file_output)\n",
    "\n",
    "with open('../data/testing_total_item_id_new.pkl', 'rb') as file_output:\n",
    "    testing_total_item_id = pickle.load(file_output)"
   ]
  },
  {
   "cell_type": "code",
   "execution_count": 22,
   "metadata": {},
   "outputs": [
    {
     "name": "stdout",
     "output_type": "stream",
     "text": [
      "(542743, 25)\n",
      "(170548, 25)\n",
      "(115093, 25)\n",
      "(232474, 25)\n",
      "(441502, 25)\n",
      "total:  1502360\n"
     ]
    }
   ],
   "source": [
    "# create 10 clusters, 5 for training, 5 for testing\n",
    "print(df[df.index.isin(total_item_id[0])].shape)\n",
    "print(df[df.index.isin(total_item_id[1])].shape)\n",
    "print(df[df.index.isin(total_item_id[2])].shape)\n",
    "print(df[df.index.isin(total_item_id[3])].shape)\n",
    "print(df[df.index.isin(total_item_id[4])].shape)\n",
    "print('total: ', 542743 +170548 +115093 +232474 +441502)"
   ]
  },
  {
   "cell_type": "code",
   "execution_count": 31,
   "metadata": {},
   "outputs": [
    {
     "name": "stdout",
     "output_type": "stream",
     "text": [
      "(540516, 25)\n",
      "(171936, 25)\n",
      "(116256, 25)\n",
      "(232912, 25)\n",
      "(441804, 25)\n"
     ]
    }
   ],
   "source": [
    "# create 10 clusters, 5 for training, 5 for testing\n",
    "print(df[df.index.isin(total_item_id[0])].shape)\n",
    "print(df[df.index.isin(total_item_id[1])].shape)\n",
    "print(df[df.index.isin(total_item_id[2])].shape)\n",
    "print(df[df.index.isin(total_item_id[3])].shape)\n",
    "print(df[df.index.isin(total_item_id[4])].shape)"
   ]
  },
  {
   "cell_type": "code",
   "execution_count": 32,
   "metadata": {},
   "outputs": [],
   "source": [
    "ready_df_train_1 = vectorizer.transform(df[df.index.isin(total_item_id[0])].to_dict('records'))\n",
    "ready_df_train_2 = vectorizer.transform(df[df.index.isin(total_item_id[1])].to_dict('records'))\n",
    "ready_df_train_3 = vectorizer.transform(df[df.index.isin(total_item_id[2])].to_dict('records'))\n",
    "ready_df_train_4 = vectorizer.transform(df[df.index.isin(total_item_id[3])].to_dict('records'))\n",
    "ready_df_train_5 = vectorizer.transform(df[df.index.isin(total_item_id[4])].to_dict('records'))"
   ]
  },
  {
   "cell_type": "code",
   "execution_count": 34,
   "metadata": {},
   "outputs": [
    {
     "name": "stdout",
     "output_type": "stream",
     "text": [
      "(201071, 25)\n",
      "(61329, 25)\n",
      "(39875, 25)\n",
      "(70131, 25)\n",
      "(136031, 25)\n",
      "total for test:  201171\n"
     ]
    }
   ],
   "source": [
    "# for test set\n",
    "print(df[df.index.isin(testing_total_item_id[0])].shape)\n",
    "print(df[df.index.isin(testing_total_item_id[1])].shape)\n",
    "print(df[df.index.isin(testing_total_item_id[2])].shape)\n",
    "print(df[df.index.isin(testing_total_item_id[3])].shape)\n",
    "print(df[df.index.isin(testing_total_item_id[4])].shape)\n",
    "print('total for test: ', df[df.index.isin(testing_total_item_id[0])].shape[0] + df[df.index.isin(testing_total_item_id[1])].shape[1] + df[df.index.isin(testing_total_item_id[2])].shape[1] + df[df.index.isin(testing_total_item_id[3])].shape[1] + df[df.index.isin(testing_total_item_id[4])].shape[1])"
   ]
  },
  {
   "cell_type": "code",
   "execution_count": 35,
   "metadata": {},
   "outputs": [],
   "source": [
    "ready_df_test_1 = vectorizer.transform(df[df.index.isin(testing_total_item_id[0])].to_dict('records'))\n",
    "ready_df_test_2 = vectorizer.transform(df[df.index.isin(testing_total_item_id[1])].to_dict('records'))\n",
    "ready_df_test_3 = vectorizer.transform(df[df.index.isin(testing_total_item_id[2])].to_dict('records'))\n",
    "ready_df_test_4 = vectorizer.transform(df[df.index.isin(testing_total_item_id[3])].to_dict('records'))\n",
    "ready_df_test_5 = vectorizer.transform(df[df.index.isin(testing_total_item_id[4])].to_dict('records'))"
   ]
  },
  {
   "cell_type": "markdown",
   "metadata": {},
   "source": [
    "## Using save_npz to save the scipy's sparse matrix"
   ]
  },
  {
   "cell_type": "code",
   "execution_count": 36,
   "metadata": {},
   "outputs": [],
   "source": [
    "# save all\n",
    "from scipy import sparse\n",
    "\n",
    "sparse.save_npz('../data/ready_df_train_1.hdf', ready_df_train_1)\n",
    "sparse.save_npz('../data/ready_df_train_2.hdf', ready_df_train_2)\n",
    "sparse.save_npz('../data/ready_df_train_3.hdf', ready_df_train_3)\n",
    "sparse.save_npz('../data/ready_df_train_4.hdf', ready_df_train_4)\n",
    "sparse.save_npz('../data/ready_df_train_5.hdf', ready_df_train_5)\n",
    "\n",
    "sparse.save_npz('../data/ready_df_test_1.hdf', ready_df_test_1)\n",
    "sparse.save_npz('../data/ready_df_test_2.hdf', ready_df_test_2)\n",
    "sparse.save_npz('../data/ready_df_test_3.hdf', ready_df_test_3)\n",
    "sparse.save_npz('../data/ready_df_test_4.hdf', ready_df_test_4)\n",
    "sparse.save_npz('../data/ready_df_test_5.hdf', ready_df_test_5)"
   ]
  },
  {
   "cell_type": "markdown",
   "metadata": {},
   "source": [
    "## Load all cluster"
   ]
  },
  {
   "cell_type": "code",
   "execution_count": 5,
   "metadata": {},
   "outputs": [],
   "source": [
    "# save all\n",
    "from scipy import sparse\n",
    "\n",
    "ready_df_train_1 = sparse.load_npz(\"../data/ready_df_train_1.hdf.npz\")\n",
    "ready_df_train_2 = sparse.load_npz(\"../data/ready_df_train_2.hdf.npz\")\n",
    "ready_df_train_3 = sparse.load_npz(\"../data/ready_df_train_3.hdf.npz\")\n",
    "ready_df_train_4 = sparse.load_npz(\"../data/ready_df_train_4.hdf.npz\")\n",
    "ready_df_train_5 = sparse.load_npz(\"../data/ready_df_train_5.hdf.npz\")"
   ]
  },
  {
   "cell_type": "code",
   "execution_count": 6,
   "metadata": {},
   "outputs": [],
   "source": [
    "ready_df_test_1 = sparse.load_npz(\"../data/ready_df_test_1.hdf.npz\")\n",
    "ready_df_test_2 = sparse.load_npz(\"../data/ready_df_test_2.hdf.npz\")\n",
    "ready_df_test_3 = sparse.load_npz(\"../data/ready_df_test_3.hdf.npz\")\n",
    "ready_df_test_4 = sparse.load_npz(\"../data/ready_df_test_4.hdf.npz\")\n",
    "ready_df_test_5 = sparse.load_npz(\"../data/ready_df_test_5.hdf.npz\")"
   ]
  },
  {
   "cell_type": "markdown",
   "metadata": {},
   "source": [
    "### finished making clustered Ready_df"
   ]
  },
  {
   "cell_type": "code",
   "execution_count": 10,
   "metadata": {},
   "outputs": [
    {
     "name": "stdout",
     "output_type": "stream",
     "text": [
      "Vectorization Runtime: 10.02 Minutes\n"
     ]
    }
   ],
   "source": [
    "tfvocab = vectorizer.get_feature_names()\n",
    "print(\"Vectorization Runtime: %0.2f Minutes\"%((time.time() - start_vect)/60))\n",
    "\n",
    "# Drop Text Cols\n",
    "textfeats = [\"description\", \"title\"]\n",
    "df.drop(textfeats, axis=1,inplace=True)"
   ]
  },
  {
   "cell_type": "code",
   "execution_count": 11,
   "metadata": {},
   "outputs": [
    {
     "name": "stdout",
     "output_type": "stream",
     "text": [
      "\n",
      "Fold 0\n",
      "\n",
      "Fold 1\n",
      "\n",
      "Fold 2\n",
      "\n",
      "Fold 3\n",
      "\n",
      "Fold 4\n",
      "Ridge OOF RMSE: 0.23034390282097936\n"
     ]
    }
   ],
   "source": [
    "from sklearn.metrics import mean_squared_error\n",
    "from math import sqrt\n",
    "\n",
    "ridge_params = {'alpha':30.0, 'fit_intercept':True, 'normalize':False, 'copy_X':True,\n",
    "                'max_iter':None, 'tol':0.001, 'solver':'auto', 'random_state':SEED}\n",
    "\n",
    "#Ridge oof method from Faron's kernel\n",
    "#I was using this to analyze my vectorization, but figured it would be interesting to add the results back into the dataset\n",
    "#It doesn't really add much to the score, but it does help lightgbm converge faster\n",
    "ridge = SklearnWrapper(clf=Ridge, seed = SEED, params = ridge_params)\n",
    "ridge_oof_train, ridge_oof_test = get_oof(ridge, ready_df[:ntrain], y, ready_df[ntrain:])\n",
    "\n",
    "rms = sqrt(mean_squared_error(y, ridge_oof_train))\n",
    "print('Ridge OOF RMSE: {}'.format(rms))"
   ]
  },
  {
   "cell_type": "code",
   "execution_count": 12,
   "metadata": {},
   "outputs": [
    {
     "name": "stdout",
     "output_type": "stream",
     "text": [
      "Modeling Stage\n"
     ]
    }
   ],
   "source": [
    "print(\"Modeling Stage\")\n",
    "\n",
    "ridge_preds = np.concatenate([ridge_oof_train, ridge_oof_test])\n",
    "\n",
    "df['ridge_preds'] = ridge_preds"
   ]
  },
  {
   "cell_type": "markdown",
   "metadata": {},
   "source": [
    "## Save ready_df and df"
   ]
  },
  {
   "cell_type": "code",
   "execution_count": null,
   "metadata": {
    "collapsed": true
   },
   "outputs": [],
   "source": [
    "# from scipy import sparse\n",
    "\n",
    "# sparse.save_npz('/media/data/avito/preprocessed/ready_df_02222.hdf', ready_df)\n",
    "\n",
    "# df.to_hdf('/media/data/avito/preprocessed/df_02222.hdf', key='table')\n",
    "\n",
    "# import pickle\n",
    "\n",
    "# with open('/media/data/avito/preprocessed/traindex.pkl', 'wb') as file_output:\n",
    "#     pickle.dump(traindex, file_output, protocol=pickle.HIGHEST_PROTOCOL)\n",
    "    \n",
    "# with open('/media/data/avito/preprocessed/testdex.pkl', 'wb') as file_output:\n",
    "#     pickle.dump(testdex, file_output, protocol=pickle.HIGHEST_PROTOCOL)"
   ]
  },
  {
   "cell_type": "markdown",
   "metadata": {},
   "source": [
    "## Load read_df, df, traindex, testdex & tfvocab"
   ]
  },
  {
   "cell_type": "code",
   "execution_count": 7,
   "metadata": {},
   "outputs": [],
   "source": [
    "from scipy import sparse\n",
    "\n",
    "## The SVD TFIDF\n",
    "# ready_df = np.load('..data/ready_df_svd.npy')\n",
    "\n",
    "## Original TFIDF\n",
    "# ready_df = sparse.load_npz(\"../data/ready_df_02222.hdf.npz\")\n",
    "\n",
    "df = pd.read_hdf('../data/df_02222.hdf', key='table')\n",
    "\n",
    "with open('../data/traindex.pkl', 'rb') as file_output:\n",
    "    traindex = pickle.load(file_output)\n",
    "with open('../data/testdex.pkl', 'rb') as file_output:\n",
    "    testdex = pickle.load(file_output)\n",
    "with open('../data/df_tfvocab_pub_ker.pkl', 'rb') as file_output:\n",
    "    tfvocab = pickle.load(file_output)\n",
    "    \n",
    "y = pd.read_hdf('../data/y.hdf', key='table')\n",
    "\n",
    "## load image features\n",
    "\n",
    "categorical = [\"user_id\",\"region\",\"city\",\"parent_category_name\",\"category_name\",\"user_type\",\"image_top_1\",\"param_1\",\"param_2\",\"param_3\"]"
   ]
  },
  {
   "cell_type": "code",
   "execution_count": 8,
   "metadata": {},
   "outputs": [
    {
     "name": "stdout",
     "output_type": "stream",
     "text": [
      "Image Feature: Combine Train and Test\n",
      "(1856661, 9)\n",
      "d10c7e016e03247a3bf2d13348fe959fe6f436c1caf64c7679f17c333c959b19.jpg\n",
      "(1856661, 9)\n",
      "(2011862, 32)\n"
     ]
    }
   ],
   "source": [
    "df_train_img_feat = pd.read_hdf('../data/df_train_img_feat.hdf', key='table')\n",
    "df_test_img_feat = pd.read_hdf('../data/df_test_img_feat.hdf', key='table')\n",
    "\n",
    "print(\"Image Feature: Combine Train and Test\")\n",
    "df_img_feat = pd.concat([df_train_img_feat,df_test_img_feat], axis=0)\n",
    "print(df_img_feat.shape)\n",
    "\n",
    "# Add .jpg\n",
    "df.image = df.image + '.jpg'\n",
    "\n",
    "# Review added .jpg\n",
    "print(df.image[0])\n",
    "print(df_img_feat.shape)\n",
    "\n",
    "df = df.reset_index().merge(df_img_feat, on='image', how=\"left\").set_index(df.index.names)\n",
    "print(df.shape)\n",
    "\n",
    "# del df_train_img_feat; del df_test_img_feat; del df_img_feat"
   ]
  },
  {
   "cell_type": "code",
   "execution_count": 9,
   "metadata": {},
   "outputs": [],
   "source": [
    "with open('../data/df_pong.pkl', 'rb') as file_output:\n",
    "    df_pong = pickle.load(file_output)\n",
    "\n",
    "useful_list_from_pong = ['category_name_one_ratio',\n",
    "                         'category_name_zero_ratio',\n",
    "                         'category_name_score_lower_extreme',\n",
    "                        'category_name_score_upper_extreme',\n",
    "                            'city_one_ratio',\n",
    "                             'city_zero_ratio',\n",
    "                             'image_top_1_one_ratio',\n",
    "                             'image_top_1_zero_ratio',\n",
    "                         'param_1_one_ratio', \n",
    "                           'param_1_score_lower_extreme',\n",
    "                         'param_1_score_upper_extreme',\n",
    "                           'param_1_zero_ratio',  'param_1_score',\n",
    "                         'param_2_one_ratio',\n",
    "                         'param_2_score_lower_extreme','param_2_score_upper_extreme',\n",
    "                         'param_2_zero_ratio',  'param_2_score',\n",
    "                       'param_3_one_ratio', 'param_3_score',\n",
    "                       'param_3_score_lower_extreme', 'param_3_score_upper_extreme',\n",
    "                        'param_3_zero_ratio',\n",
    "        'region_one_ratio', 'region_zero_ratio', \n",
    "     'user_type_one_ratio','user_type_zero_ratio']\n",
    "\n",
    "df_pong_useful = df_pong[useful_list_from_pong]"
   ]
  },
  {
   "cell_type": "code",
   "execution_count": 10,
   "metadata": {
    "scrolled": true
   },
   "outputs": [
    {
     "data": {
      "text/plain": [
       "(2011862, 27)"
      ]
     },
     "execution_count": 10,
     "metadata": {},
     "output_type": "execute_result"
    }
   ],
   "source": [
    "df_pong_useful.shape"
   ]
  },
  {
   "cell_type": "code",
   "execution_count": 11,
   "metadata": {},
   "outputs": [],
   "source": [
    "df = df.merge(df_pong_useful, how='left', right_index=True, left_index=True).set_index(df.index)"
   ]
  },
  {
   "cell_type": "code",
   "execution_count": 12,
   "metadata": {},
   "outputs": [],
   "source": [
    "# remove useless features\n",
    "\n",
    "df.drop(['image', 'Weekd of Year', 'Day of Month'], axis=1, inplace=True)"
   ]
  },
  {
   "cell_type": "markdown",
   "metadata": {},
   "source": [
    "## Split into 5 clusters (by img_top_1)"
   ]
  },
  {
   "cell_type": "code",
   "execution_count": 13,
   "metadata": {},
   "outputs": [
    {
     "name": "stdout",
     "output_type": "stream",
     "text": [
      "Feature Names Length:  1430816\n"
     ]
    }
   ],
   "source": [
    "tfvocab = df.columns.tolist() + tfvocab\n",
    "\n",
    "print(\"Feature Names Length: \",len(tfvocab))"
   ]
  },
  {
   "cell_type": "code",
   "execution_count": 90,
   "metadata": {},
   "outputs": [],
   "source": [
    "# with open('../data/df_pong.pkl', 'rb') as file_output:\n",
    "#     df_pong = pickle.load(file_output)\n",
    "\n",
    "test_pong = df_pong.loc[testdex]\n",
    "\n",
    "# def get_quantiles(k):\n",
    "#     group_zero_ratio = test_pong.groupby('image_top_1')['image_top_1_zero_ratio'].unique().apply(lambda n : n[0])\n",
    "#     quantiles = group_zero_ratio.quantile([0., 0.2, 0.4, 0.6, 0.8, 1])\n",
    "    \n",
    "#     return test_pong[test_pong['image_top_1'].isin(group_zero_ratio[(group_zero_ratio > quantiles.iloc[k]) & (group_zero_ratio < quantiles.iloc[k+1])].index)].index\n",
    "\n",
    "# selected_index_test_ONE = df_index[df_index.item_id.isin(get_quantiles(0))].index\n",
    "# selected_index_test_TWO = df_index[df_index.item_id.isin(get_quantiles(1))].index\n",
    "# selected_index_test_THREE = df_index[df_index.item_id.isin(get_quantiles(2))].index\n",
    "# selected_index_test_FOUR = df_index[df_index.item_id.isin(get_quantiles(3))].index\n",
    "# selected_index_test_FIVE = df_index[df_index.item_id.isin(get_quantiles(4))].index"
   ]
  },
  {
   "cell_type": "code",
   "execution_count": 16,
   "metadata": {},
   "outputs": [
    {
     "name": "stdout",
     "output_type": "stream",
     "text": [
      "540516 Rows and 1430816 Cols\n",
      "201071 Rows and 1430816 Cols\n",
      "y len is: 540516\n"
     ]
    }
   ],
   "source": [
    "### ONE ###\n",
    "# Combine Dense Features with Sparse Text Bag of Words Features\n",
    "X_1 = hstack([csr_matrix(df.loc[total_item_id[0],:].values),ready_df_train_1]) # Sparse Matrix\n",
    "print(\"{} Rows and {} Cols\".format(X_1.shape[0], X_1.shape[1]))\n",
    "\n",
    "testing_1 = hstack([csr_matrix(df.loc[testing_total_item_id[0],:].values),ready_df_test_1])\n",
    "print(\"{} Rows and {} Cols\".format(testing_1.shape[0], testing_1.shape[1]))\n",
    "\n",
    "y_1 = y.loc[total_item_id[0]]\n",
    "y_4_bins_1 = pd.cut(y_1, [-0.01,0.01,0.163, 0.76, 1], labels=['0', '0.01', '0.163', '0.76'], right=True)\n",
    "print('y len is:', len(y_4_bins_1))"
   ]
  },
  {
   "cell_type": "code",
   "execution_count": 17,
   "metadata": {},
   "outputs": [
    {
     "name": "stdout",
     "output_type": "stream",
     "text": [
      "171936 Rows and 1430816 Cols\n",
      "61329 Rows and 1430816 Cols\n",
      "y len is: 171936\n"
     ]
    }
   ],
   "source": [
    "### TWO ###\n",
    "# Combine Dense Features with Sparse Text Bag of Words Features\n",
    "X_2 = hstack([csr_matrix(df.loc[total_item_id[1],:].values),ready_df_train_2]) # Sparse Matrix\n",
    "print(\"{} Rows and {} Cols\".format(X_2.shape[0], X_2.shape[1]))\n",
    "\n",
    "testing_2 = hstack([csr_matrix(df.loc[testing_total_item_id[1],:].values),ready_df_test_2])\n",
    "print(\"{} Rows and {} Cols\".format(testing_2.shape[0], testing_2.shape[1]))\n",
    "\n",
    "y_2 = y.loc[total_item_id[1]]\n",
    "y_4_bins_2 = pd.cut(y_2, [-0.01,0.01,0.163, 0.76, 1], labels=['0', '0.01', '0.163', '0.76'], right=True)\n",
    "print('y len is:', len(y_4_bins_2))"
   ]
  },
  {
   "cell_type": "code",
   "execution_count": 18,
   "metadata": {},
   "outputs": [
    {
     "name": "stdout",
     "output_type": "stream",
     "text": [
      "116256 Rows and 1430816 Cols\n",
      "39875 Rows and 1430816 Cols\n",
      "y len is: 116256\n"
     ]
    }
   ],
   "source": [
    "### THREE ###\n",
    "# Combine Dense Features with Sparse Text Bag of Words Features\n",
    "X_3 = hstack([csr_matrix(df.loc[total_item_id[2],:].values),ready_df_train_3]) # Sparse Matrix\n",
    "print(\"{} Rows and {} Cols\".format(X_3.shape[0], X_3.shape[1]))\n",
    "\n",
    "testing_3 = hstack([csr_matrix(df.loc[testing_total_item_id[2],:].values),ready_df_test_3])\n",
    "print(\"{} Rows and {} Cols\".format(testing_3.shape[0], testing_3.shape[1]))\n",
    "\n",
    "y_3 = y.loc[total_item_id[2]]\n",
    "y_4_bins_3 = pd.cut(y_3, [-0.01,0.01,0.163, 0.76, 1], labels=['0', '0.01', '0.163', '0.76'], right=True)\n",
    "print('y len is:', len(y_4_bins_3))"
   ]
  },
  {
   "cell_type": "code",
   "execution_count": 19,
   "metadata": {},
   "outputs": [
    {
     "name": "stdout",
     "output_type": "stream",
     "text": [
      "232912 Rows and 1430816 Cols\n",
      "70131 Rows and 1430816 Cols\n",
      "y len is: 232912\n"
     ]
    }
   ],
   "source": [
    "### FOUR ###\n",
    "# Combine Dense Features with Sparse Text Bag of Words Features\n",
    "X_4 = hstack([csr_matrix(df.loc[total_item_id[3],:].values),ready_df_train_4]) # Sparse Matrix\n",
    "print(\"{} Rows and {} Cols\".format(X_4.shape[0], X_4.shape[1]))\n",
    "\n",
    "testing_4 = hstack([csr_matrix(df.loc[testing_total_item_id[3],:].values),ready_df_test_4])\n",
    "print(\"{} Rows and {} Cols\".format(testing_4.shape[0], testing_4.shape[1]))\n",
    "\n",
    "y_4 = y.loc[total_item_id[3]]\n",
    "y_4_bins_4 = pd.cut(y_4, [-0.01,0.01,0.163, 0.76, 1], labels=['0', '0.01', '0.163', '0.76'], right=True)\n",
    "print('y len is:', len(y_4_bins_4))"
   ]
  },
  {
   "cell_type": "code",
   "execution_count": 20,
   "metadata": {},
   "outputs": [
    {
     "name": "stdout",
     "output_type": "stream",
     "text": [
      "441804 Rows and 1430816 Cols\n",
      "136031 Rows and 1430816 Cols\n",
      "y len is: 441804\n"
     ]
    }
   ],
   "source": [
    "### FIVE ###\n",
    "# Combine Dense Features with Sparse Text Bag of Words Features\n",
    "X_5 = hstack([csr_matrix(df.loc[total_item_id[4],:].values),ready_df_train_5]) # Sparse Matrix\n",
    "print(\"{} Rows and {} Cols\".format(X_5.shape[0], X_5.shape[1]))\n",
    "\n",
    "testing_5 = hstack([csr_matrix(df.loc[testing_total_item_id[4],:].values),ready_df_test_5])\n",
    "print(\"{} Rows and {} Cols\".format(testing_5.shape[0], testing_5.shape[1]))\n",
    "\n",
    "y_5 = y.loc[total_item_id[4]]\n",
    "y_4_bins_5 = pd.cut(y_5, [-0.01,0.01,0.163, 0.76, 1], labels=['0', '0.01', '0.163', '0.76'], right=True)\n",
    "print('y len is:', len(y_4_bins_5))"
   ]
  },
  {
   "cell_type": "markdown",
   "metadata": {},
   "source": [
    "\n",
    "# Create K fold (stratified)"
   ]
  },
  {
   "cell_type": "code",
   "execution_count": 21,
   "metadata": {},
   "outputs": [],
   "source": [
    "X_1 = X_1.tocsr()\n",
    "X_2 = X_2.tocsr()\n",
    "X_3 = X_3.tocsr()\n",
    "X_4 = X_4.tocsr()\n",
    "X_5 = X_5.tocsr()\n",
    "\n",
    "testing_1 = testing_1.tocsr()\n",
    "testing_2 = testing_2.tocsr()\n",
    "testing_3 = testing_3.tocsr()\n",
    "testing_4 = testing_4.tocsr()\n",
    "testing_5 = testing_5.tocsr()"
   ]
  },
  {
   "cell_type": "code",
   "execution_count": 22,
   "metadata": {},
   "outputs": [
    {
     "name": "stdout",
     "output_type": "stream",
     "text": [
      "train set\n",
      "(540516, 1430816)\n",
      "(171936, 1430816)\n",
      "(116256, 1430816)\n",
      "(232912, 1430816)\n",
      "(441804, 1430816)\n",
      "y label\n",
      "(540516,)\n",
      "(171936,)\n",
      "(116256,)\n",
      "(232912,)\n",
      "(441804,)\n",
      "test set\n",
      "(201071, 1430816)\n",
      "(61329, 1430816)\n",
      "(39875, 1430816)\n",
      "(70131, 1430816)\n",
      "(136031, 1430816)\n"
     ]
    }
   ],
   "source": [
    "## Sanity check\n",
    "print('train set')\n",
    "print(X_1.shape)\n",
    "print(X_2.shape)\n",
    "print(X_3.shape)\n",
    "print(X_4.shape)\n",
    "print(X_5.shape)\n",
    "print('y label')\n",
    "print(y_1.shape)\n",
    "print(y_2.shape)\n",
    "print(y_3.shape)\n",
    "print(y_4.shape)\n",
    "print(y_5.shape)\n",
    "\n",
    "print('test set')\n",
    "print(testing_1.shape)\n",
    "print(testing_2.shape)\n",
    "print(testing_3.shape)\n",
    "print(testing_4.shape)\n",
    "print(testing_5.shape)"
   ]
  },
  {
   "cell_type": "code",
   "execution_count": 25,
   "metadata": {},
   "outputs": [],
   "source": [
    "cluster_list = [\n",
    "    (X_5, y_4_bins_5, y_5, testing_5, testing_total_item_id[4]),\n",
    "    (X_4, y_4_bins_4, y_4, testing_4, testing_total_item_id[3]),\n",
    "    (X_3, y_4_bins_3, y_3, testing_3, testing_total_item_id[2]),\n",
    "    (X_1, y_4_bins_1, y_1, testing_1, testing_total_item_id[0]),\n",
    "    (X_2, y_4_bins_2, y_2, testing_2, testing_total_item_id[1]),\n",
    "]"
   ]
  },
  {
   "cell_type": "code",
   "execution_count": 28,
   "metadata": {
    "scrolled": false
   },
   "outputs": [
    {
     "name": "stdout",
     "output_type": "stream",
     "text": [
      "Light Gradient Boosting Regressor\n",
      "+++++  Starting with cluster:  0  +++++\n",
      "strat kf starting... 5\n",
      "--> StratifiedKFold(n_splits=5, random_state=189, shuffle=True)\n",
      "starting Fold:  1 353441 88363\n"
     ]
    },
    {
     "name": "stderr",
     "output_type": "stream",
     "text": [
      "/home/ubuntu/anaconda3/lib/python3.6/site-packages/lightgbm/basic.py:1036: UserWarning: Using categorical_feature in Dataset.\n",
      "  warnings.warn('Using categorical_feature in Dataset.')\n",
      "/home/ubuntu/anaconda3/lib/python3.6/site-packages/lightgbm/basic.py:681: UserWarning: categorical_feature in param dict is overridden.\n",
      "  warnings.warn('categorical_feature in param dict is overridden.')\n"
     ]
    },
    {
     "name": "stdout",
     "output_type": "stream",
     "text": [
      "Training until validation scores don't improve for 50 rounds.\n",
      "[10]\ttrain's rmse: 0.14876\tvalid's rmse: 0.149008\n",
      "[20]\ttrain's rmse: 0.147514\tvalid's rmse: 0.148289\n",
      "[30]\ttrain's rmse: 0.146367\tvalid's rmse: 0.14771\n",
      "[40]\ttrain's rmse: 0.145383\tvalid's rmse: 0.147245\n",
      "[50]\ttrain's rmse: 0.144458\tvalid's rmse: 0.146868\n",
      "[60]\ttrain's rmse: 0.143674\tvalid's rmse: 0.146568\n",
      "[70]\ttrain's rmse: 0.142861\tvalid's rmse: 0.14632\n",
      "[80]\ttrain's rmse: 0.142132\tvalid's rmse: 0.146126\n",
      "[90]\ttrain's rmse: 0.14144\tvalid's rmse: 0.145951\n",
      "[100]\ttrain's rmse: 0.140836\tvalid's rmse: 0.145815\n",
      "[110]\ttrain's rmse: 0.140306\tvalid's rmse: 0.145705\n",
      "[120]\ttrain's rmse: 0.139728\tvalid's rmse: 0.145616\n",
      "[130]\ttrain's rmse: 0.139198\tvalid's rmse: 0.145523\n",
      "[140]\ttrain's rmse: 0.138677\tvalid's rmse: 0.145446\n",
      "[150]\ttrain's rmse: 0.138142\tvalid's rmse: 0.145377\n",
      "[160]\ttrain's rmse: 0.13767\tvalid's rmse: 0.145318\n",
      "[170]\ttrain's rmse: 0.137189\tvalid's rmse: 0.145278\n",
      "[180]\ttrain's rmse: 0.136721\tvalid's rmse: 0.145235\n",
      "[190]\ttrain's rmse: 0.136292\tvalid's rmse: 0.145195\n",
      "[200]\ttrain's rmse: 0.135861\tvalid's rmse: 0.145177\n",
      "[210]\ttrain's rmse: 0.135433\tvalid's rmse: 0.145147\n",
      "[220]\ttrain's rmse: 0.13499\tvalid's rmse: 0.145124\n",
      "[230]\ttrain's rmse: 0.134557\tvalid's rmse: 0.145097\n",
      "[240]\ttrain's rmse: 0.134144\tvalid's rmse: 0.14507\n",
      "[250]\ttrain's rmse: 0.133751\tvalid's rmse: 0.145052\n",
      "[260]\ttrain's rmse: 0.133338\tvalid's rmse: 0.145035\n",
      "[270]\ttrain's rmse: 0.132945\tvalid's rmse: 0.145022\n",
      "[280]\ttrain's rmse: 0.132559\tvalid's rmse: 0.145006\n",
      "[290]\ttrain's rmse: 0.132156\tvalid's rmse: 0.144991\n",
      "[300]\ttrain's rmse: 0.131793\tvalid's rmse: 0.144983\n",
      "[310]\ttrain's rmse: 0.131428\tvalid's rmse: 0.144971\n",
      "[320]\ttrain's rmse: 0.131071\tvalid's rmse: 0.144953\n",
      "[330]\ttrain's rmse: 0.130735\tvalid's rmse: 0.144945\n",
      "[340]\ttrain's rmse: 0.130391\tvalid's rmse: 0.144937\n",
      "[350]\ttrain's rmse: 0.130058\tvalid's rmse: 0.144929\n",
      "[360]\ttrain's rmse: 0.129726\tvalid's rmse: 0.144925\n",
      "[370]\ttrain's rmse: 0.129388\tvalid's rmse: 0.144917\n",
      "[380]\ttrain's rmse: 0.129078\tvalid's rmse: 0.144904\n",
      "[390]\ttrain's rmse: 0.128736\tvalid's rmse: 0.144909\n",
      "[400]\ttrain's rmse: 0.128421\tvalid's rmse: 0.144913\n",
      "[410]\ttrain's rmse: 0.128096\tvalid's rmse: 0.144907\n",
      "[420]\ttrain's rmse: 0.127743\tvalid's rmse: 0.144906\n",
      "[430]\ttrain's rmse: 0.127445\tvalid's rmse: 0.1449\n",
      "[440]\ttrain's rmse: 0.127134\tvalid's rmse: 0.144903\n",
      "[450]\ttrain's rmse: 0.126842\tvalid's rmse: 0.14489\n",
      "[460]\ttrain's rmse: 0.126536\tvalid's rmse: 0.144886\n",
      "[470]\ttrain's rmse: 0.126232\tvalid's rmse: 0.14488\n",
      "[480]\ttrain's rmse: 0.125941\tvalid's rmse: 0.144881\n",
      "[490]\ttrain's rmse: 0.125648\tvalid's rmse: 0.144887\n",
      "[500]\ttrain's rmse: 0.125368\tvalid's rmse: 0.144891\n",
      "[510]\ttrain's rmse: 0.125079\tvalid's rmse: 0.144895\n",
      "[520]\ttrain's rmse: 0.124778\tvalid's rmse: 0.144897\n",
      "Early stopping, best iteration is:\n",
      "[471]\ttrain's rmse: 0.126202\tvalid's rmse: 0.144879\n",
      "Model Evaluation Stage - Test set prediction...\n",
      "== Finished this round ==\n",
      "starting Fold:  2 353442 88362\n"
     ]
    },
    {
     "name": "stderr",
     "output_type": "stream",
     "text": [
      "/home/ubuntu/anaconda3/lib/python3.6/site-packages/lightgbm/basic.py:1036: UserWarning: Using categorical_feature in Dataset.\n",
      "  warnings.warn('Using categorical_feature in Dataset.')\n",
      "/home/ubuntu/anaconda3/lib/python3.6/site-packages/lightgbm/basic.py:681: UserWarning: categorical_feature in param dict is overridden.\n",
      "  warnings.warn('categorical_feature in param dict is overridden.')\n",
      "/home/ubuntu/anaconda3/lib/python3.6/site-packages/lightgbm/basic.py:681: UserWarning: categorical_feature in param dict is overridden.\n",
      "  warnings.warn('categorical_feature in param dict is overridden.')\n"
     ]
    },
    {
     "name": "stdout",
     "output_type": "stream",
     "text": [
      "Training until validation scores don't improve for 50 rounds.\n",
      "[10]\ttrain's rmse: 0.148596\tvalid's rmse: 0.149512\n",
      "[20]\ttrain's rmse: 0.147309\tvalid's rmse: 0.148787\n",
      "[30]\ttrain's rmse: 0.146226\tvalid's rmse: 0.14823\n",
      "[40]\ttrain's rmse: 0.145213\tvalid's rmse: 0.147785\n",
      "[50]\ttrain's rmse: 0.144245\tvalid's rmse: 0.147396\n",
      "[60]\ttrain's rmse: 0.143417\tvalid's rmse: 0.147103\n",
      "[70]\ttrain's rmse: 0.142659\tvalid's rmse: 0.146834\n",
      "[80]\ttrain's rmse: 0.141976\tvalid's rmse: 0.146625\n",
      "[90]\ttrain's rmse: 0.141326\tvalid's rmse: 0.14646\n",
      "[100]\ttrain's rmse: 0.140675\tvalid's rmse: 0.146323\n",
      "[110]\ttrain's rmse: 0.140082\tvalid's rmse: 0.146217\n",
      "[120]\ttrain's rmse: 0.139471\tvalid's rmse: 0.146119\n",
      "[130]\ttrain's rmse: 0.138947\tvalid's rmse: 0.14604\n",
      "[140]\ttrain's rmse: 0.13839\tvalid's rmse: 0.145962\n",
      "[150]\ttrain's rmse: 0.137905\tvalid's rmse: 0.14589\n",
      "[160]\ttrain's rmse: 0.137364\tvalid's rmse: 0.145841\n",
      "[170]\ttrain's rmse: 0.136877\tvalid's rmse: 0.145791\n",
      "[180]\ttrain's rmse: 0.136385\tvalid's rmse: 0.14575\n",
      "[190]\ttrain's rmse: 0.135916\tvalid's rmse: 0.145708\n",
      "[200]\ttrain's rmse: 0.135465\tvalid's rmse: 0.14567\n",
      "[210]\ttrain's rmse: 0.135013\tvalid's rmse: 0.145638\n",
      "[220]\ttrain's rmse: 0.13458\tvalid's rmse: 0.145615\n",
      "[230]\ttrain's rmse: 0.134139\tvalid's rmse: 0.145589\n",
      "[240]\ttrain's rmse: 0.133721\tvalid's rmse: 0.14558\n",
      "[250]\ttrain's rmse: 0.133356\tvalid's rmse: 0.145557\n",
      "[260]\ttrain's rmse: 0.132942\tvalid's rmse: 0.145546\n",
      "[270]\ttrain's rmse: 0.132547\tvalid's rmse: 0.14552\n",
      "[280]\ttrain's rmse: 0.132153\tvalid's rmse: 0.145511\n",
      "[290]\ttrain's rmse: 0.131769\tvalid's rmse: 0.145502\n",
      "[300]\ttrain's rmse: 0.131383\tvalid's rmse: 0.145491\n",
      "[310]\ttrain's rmse: 0.131042\tvalid's rmse: 0.145474\n",
      "[320]\ttrain's rmse: 0.130702\tvalid's rmse: 0.145468\n",
      "[330]\ttrain's rmse: 0.130357\tvalid's rmse: 0.145459\n",
      "[340]\ttrain's rmse: 0.129987\tvalid's rmse: 0.145459\n",
      "[350]\ttrain's rmse: 0.129611\tvalid's rmse: 0.145455\n",
      "[360]\ttrain's rmse: 0.129243\tvalid's rmse: 0.145464\n",
      "[370]\ttrain's rmse: 0.128909\tvalid's rmse: 0.145463\n",
      "[380]\ttrain's rmse: 0.128564\tvalid's rmse: 0.145457\n",
      "[390]\ttrain's rmse: 0.128229\tvalid's rmse: 0.145458\n",
      "Early stopping, best iteration is:\n",
      "[347]\ttrain's rmse: 0.129717\tvalid's rmse: 0.145454\n",
      "Model Evaluation Stage - Test set prediction...\n",
      "== Finished this round ==\n",
      "starting Fold:  3 353444 88360\n"
     ]
    },
    {
     "name": "stderr",
     "output_type": "stream",
     "text": [
      "/home/ubuntu/anaconda3/lib/python3.6/site-packages/lightgbm/basic.py:1036: UserWarning: Using categorical_feature in Dataset.\n",
      "  warnings.warn('Using categorical_feature in Dataset.')\n",
      "/home/ubuntu/anaconda3/lib/python3.6/site-packages/lightgbm/basic.py:681: UserWarning: categorical_feature in param dict is overridden.\n",
      "  warnings.warn('categorical_feature in param dict is overridden.')\n",
      "/home/ubuntu/anaconda3/lib/python3.6/site-packages/lightgbm/basic.py:681: UserWarning: categorical_feature in param dict is overridden.\n",
      "  warnings.warn('categorical_feature in param dict is overridden.')\n"
     ]
    },
    {
     "name": "stdout",
     "output_type": "stream",
     "text": [
      "Training until validation scores don't improve for 50 rounds.\n",
      "[10]\ttrain's rmse: 0.148618\tvalid's rmse: 0.149191\n",
      "[20]\ttrain's rmse: 0.147306\tvalid's rmse: 0.148414\n",
      "[30]\ttrain's rmse: 0.146183\tvalid's rmse: 0.147828\n",
      "[40]\ttrain's rmse: 0.145164\tvalid's rmse: 0.147345\n",
      "[50]\ttrain's rmse: 0.144316\tvalid's rmse: 0.146975\n",
      "[60]\ttrain's rmse: 0.143463\tvalid's rmse: 0.146674\n",
      "[70]\ttrain's rmse: 0.142731\tvalid's rmse: 0.14644\n",
      "[80]\ttrain's rmse: 0.142027\tvalid's rmse: 0.146236\n",
      "[90]\ttrain's rmse: 0.141378\tvalid's rmse: 0.14607\n",
      "[100]\ttrain's rmse: 0.140738\tvalid's rmse: 0.145943\n",
      "[110]\ttrain's rmse: 0.140133\tvalid's rmse: 0.145808\n",
      "[120]\ttrain's rmse: 0.139553\tvalid's rmse: 0.145703\n",
      "[130]\ttrain's rmse: 0.139007\tvalid's rmse: 0.145622\n",
      "[140]\ttrain's rmse: 0.138448\tvalid's rmse: 0.145557\n",
      "[150]\ttrain's rmse: 0.137919\tvalid's rmse: 0.145489\n",
      "[160]\ttrain's rmse: 0.137406\tvalid's rmse: 0.145452\n",
      "[170]\ttrain's rmse: 0.136928\tvalid's rmse: 0.145412\n",
      "[180]\ttrain's rmse: 0.136439\tvalid's rmse: 0.145374\n",
      "[190]\ttrain's rmse: 0.13597\tvalid's rmse: 0.145329\n",
      "[200]\ttrain's rmse: 0.135529\tvalid's rmse: 0.145304\n",
      "[210]\ttrain's rmse: 0.135091\tvalid's rmse: 0.145272\n",
      "[220]\ttrain's rmse: 0.13467\tvalid's rmse: 0.14525\n",
      "[230]\ttrain's rmse: 0.134268\tvalid's rmse: 0.145228\n",
      "[240]\ttrain's rmse: 0.133872\tvalid's rmse: 0.145209\n",
      "[250]\ttrain's rmse: 0.133484\tvalid's rmse: 0.145186\n",
      "[260]\ttrain's rmse: 0.133081\tvalid's rmse: 0.145169\n",
      "[270]\ttrain's rmse: 0.132702\tvalid's rmse: 0.145155\n",
      "[280]\ttrain's rmse: 0.132342\tvalid's rmse: 0.145145\n",
      "[290]\ttrain's rmse: 0.131981\tvalid's rmse: 0.145133\n",
      "[300]\ttrain's rmse: 0.131627\tvalid's rmse: 0.145119\n",
      "[310]\ttrain's rmse: 0.131274\tvalid's rmse: 0.145115\n",
      "[320]\ttrain's rmse: 0.130927\tvalid's rmse: 0.145107\n",
      "[330]\ttrain's rmse: 0.130571\tvalid's rmse: 0.145097\n",
      "[340]\ttrain's rmse: 0.13024\tvalid's rmse: 0.145091\n",
      "[350]\ttrain's rmse: 0.129889\tvalid's rmse: 0.145087\n",
      "[360]\ttrain's rmse: 0.12954\tvalid's rmse: 0.145093\n",
      "[370]\ttrain's rmse: 0.129199\tvalid's rmse: 0.145092\n",
      "[380]\ttrain's rmse: 0.128877\tvalid's rmse: 0.145099\n",
      "[390]\ttrain's rmse: 0.128569\tvalid's rmse: 0.145093\n",
      "[400]\ttrain's rmse: 0.128235\tvalid's rmse: 0.145088\n",
      "[410]\ttrain's rmse: 0.12793\tvalid's rmse: 0.145091\n",
      "[420]\ttrain's rmse: 0.127604\tvalid's rmse: 0.145086\n",
      "[430]\ttrain's rmse: 0.127288\tvalid's rmse: 0.145092\n",
      "[440]\ttrain's rmse: 0.127004\tvalid's rmse: 0.145095\n",
      "Early stopping, best iteration is:\n",
      "[396]\ttrain's rmse: 0.128377\tvalid's rmse: 0.145085\n",
      "Model Evaluation Stage - Test set prediction...\n",
      "== Finished this round ==\n",
      "starting Fold:  4 353444 88360\n"
     ]
    },
    {
     "name": "stderr",
     "output_type": "stream",
     "text": [
      "/home/ubuntu/anaconda3/lib/python3.6/site-packages/lightgbm/basic.py:1036: UserWarning: Using categorical_feature in Dataset.\n",
      "  warnings.warn('Using categorical_feature in Dataset.')\n",
      "/home/ubuntu/anaconda3/lib/python3.6/site-packages/lightgbm/basic.py:681: UserWarning: categorical_feature in param dict is overridden.\n",
      "  warnings.warn('categorical_feature in param dict is overridden.')\n",
      "/home/ubuntu/anaconda3/lib/python3.6/site-packages/lightgbm/basic.py:681: UserWarning: categorical_feature in param dict is overridden.\n",
      "  warnings.warn('categorical_feature in param dict is overridden.')\n"
     ]
    },
    {
     "name": "stdout",
     "output_type": "stream",
     "text": [
      "Training until validation scores don't improve for 50 rounds.\n",
      "[10]\ttrain's rmse: 0.148733\tvalid's rmse: 0.149059\n",
      "[20]\ttrain's rmse: 0.14744\tvalid's rmse: 0.148336\n",
      "[30]\ttrain's rmse: 0.146286\tvalid's rmse: 0.147715\n",
      "[40]\ttrain's rmse: 0.145236\tvalid's rmse: 0.147258\n",
      "[50]\ttrain's rmse: 0.144363\tvalid's rmse: 0.146907\n",
      "[60]\ttrain's rmse: 0.14356\tvalid's rmse: 0.146619\n",
      "[70]\ttrain's rmse: 0.14282\tvalid's rmse: 0.146372\n",
      "[80]\ttrain's rmse: 0.142128\tvalid's rmse: 0.146171\n",
      "[90]\ttrain's rmse: 0.141446\tvalid's rmse: 0.146\n",
      "[100]\ttrain's rmse: 0.140829\tvalid's rmse: 0.145849\n",
      "[110]\ttrain's rmse: 0.140196\tvalid's rmse: 0.145715\n",
      "[120]\ttrain's rmse: 0.139615\tvalid's rmse: 0.145617\n",
      "[130]\ttrain's rmse: 0.139044\tvalid's rmse: 0.145534\n",
      "[140]\ttrain's rmse: 0.138511\tvalid's rmse: 0.145456\n",
      "[150]\ttrain's rmse: 0.137995\tvalid's rmse: 0.145384\n",
      "[160]\ttrain's rmse: 0.137492\tvalid's rmse: 0.145334\n",
      "[170]\ttrain's rmse: 0.136991\tvalid's rmse: 0.145303\n",
      "[180]\ttrain's rmse: 0.13651\tvalid's rmse: 0.145261\n",
      "[190]\ttrain's rmse: 0.136023\tvalid's rmse: 0.145223\n",
      "[200]\ttrain's rmse: 0.135582\tvalid's rmse: 0.145188\n",
      "[210]\ttrain's rmse: 0.135109\tvalid's rmse: 0.145157\n",
      "[220]\ttrain's rmse: 0.13467\tvalid's rmse: 0.145127\n",
      "[230]\ttrain's rmse: 0.134214\tvalid's rmse: 0.145102\n",
      "[240]\ttrain's rmse: 0.133786\tvalid's rmse: 0.145074\n",
      "[250]\ttrain's rmse: 0.133392\tvalid's rmse: 0.145052\n",
      "[260]\ttrain's rmse: 0.13297\tvalid's rmse: 0.145016\n",
      "[270]\ttrain's rmse: 0.132595\tvalid's rmse: 0.145001\n",
      "[280]\ttrain's rmse: 0.132198\tvalid's rmse: 0.144986\n",
      "[290]\ttrain's rmse: 0.131834\tvalid's rmse: 0.144974\n",
      "[300]\ttrain's rmse: 0.131467\tvalid's rmse: 0.144953\n",
      "[310]\ttrain's rmse: 0.131104\tvalid's rmse: 0.144933\n",
      "[320]\ttrain's rmse: 0.130733\tvalid's rmse: 0.144929\n",
      "[330]\ttrain's rmse: 0.13039\tvalid's rmse: 0.144919\n",
      "[340]\ttrain's rmse: 0.130036\tvalid's rmse: 0.144913\n",
      "[350]\ttrain's rmse: 0.1297\tvalid's rmse: 0.144907\n",
      "[360]\ttrain's rmse: 0.12936\tvalid's rmse: 0.144897\n",
      "[370]\ttrain's rmse: 0.129021\tvalid's rmse: 0.144901\n",
      "[380]\ttrain's rmse: 0.128707\tvalid's rmse: 0.144891\n",
      "[390]\ttrain's rmse: 0.128384\tvalid's rmse: 0.144889\n",
      "[400]\ttrain's rmse: 0.128051\tvalid's rmse: 0.144886\n",
      "[410]\ttrain's rmse: 0.127717\tvalid's rmse: 0.144882\n",
      "[420]\ttrain's rmse: 0.127404\tvalid's rmse: 0.14488\n",
      "[430]\ttrain's rmse: 0.127094\tvalid's rmse: 0.144873\n",
      "[440]\ttrain's rmse: 0.126803\tvalid's rmse: 0.144874\n",
      "[450]\ttrain's rmse: 0.126506\tvalid's rmse: 0.14487\n",
      "[460]\ttrain's rmse: 0.126205\tvalid's rmse: 0.144869\n",
      "[470]\ttrain's rmse: 0.12591\tvalid's rmse: 0.144867\n",
      "[480]\ttrain's rmse: 0.125612\tvalid's rmse: 0.14487\n",
      "[490]\ttrain's rmse: 0.12533\tvalid's rmse: 0.144869\n",
      "[500]\ttrain's rmse: 0.12505\tvalid's rmse: 0.144872\n",
      "[510]\ttrain's rmse: 0.124768\tvalid's rmse: 0.144876\n",
      "[520]\ttrain's rmse: 0.124489\tvalid's rmse: 0.144878\n",
      "Early stopping, best iteration is:\n",
      "[471]\ttrain's rmse: 0.125885\tvalid's rmse: 0.144866\n",
      "Model Evaluation Stage - Test set prediction...\n",
      "== Finished this round ==\n",
      "starting Fold:  5 353445 88359\n"
     ]
    },
    {
     "name": "stderr",
     "output_type": "stream",
     "text": [
      "/home/ubuntu/anaconda3/lib/python3.6/site-packages/lightgbm/basic.py:1036: UserWarning: Using categorical_feature in Dataset.\n",
      "  warnings.warn('Using categorical_feature in Dataset.')\n",
      "/home/ubuntu/anaconda3/lib/python3.6/site-packages/lightgbm/basic.py:681: UserWarning: categorical_feature in param dict is overridden.\n",
      "  warnings.warn('categorical_feature in param dict is overridden.')\n",
      "/home/ubuntu/anaconda3/lib/python3.6/site-packages/lightgbm/basic.py:681: UserWarning: categorical_feature in param dict is overridden.\n",
      "  warnings.warn('categorical_feature in param dict is overridden.')\n"
     ]
    },
    {
     "name": "stdout",
     "output_type": "stream",
     "text": [
      "Training until validation scores don't improve for 50 rounds.\n",
      "[10]\ttrain's rmse: 0.148688\tvalid's rmse: 0.149165\n",
      "[20]\ttrain's rmse: 0.147445\tvalid's rmse: 0.148419\n",
      "[30]\ttrain's rmse: 0.14637\tvalid's rmse: 0.147833\n",
      "[40]\ttrain's rmse: 0.145362\tvalid's rmse: 0.147324\n",
      "[50]\ttrain's rmse: 0.14447\tvalid's rmse: 0.146924\n",
      "[60]\ttrain's rmse: 0.143683\tvalid's rmse: 0.146602\n",
      "[70]\ttrain's rmse: 0.14297\tvalid's rmse: 0.146336\n",
      "[80]\ttrain's rmse: 0.142275\tvalid's rmse: 0.146115\n",
      "[90]\ttrain's rmse: 0.141579\tvalid's rmse: 0.145935\n",
      "[100]\ttrain's rmse: 0.140936\tvalid's rmse: 0.145775\n",
      "[110]\ttrain's rmse: 0.140296\tvalid's rmse: 0.145631\n",
      "[120]\ttrain's rmse: 0.139753\tvalid's rmse: 0.145529\n",
      "[130]\ttrain's rmse: 0.139167\tvalid's rmse: 0.145432\n",
      "[140]\ttrain's rmse: 0.1386\tvalid's rmse: 0.14535\n",
      "[150]\ttrain's rmse: 0.138072\tvalid's rmse: 0.145274\n",
      "[160]\ttrain's rmse: 0.137571\tvalid's rmse: 0.145223\n",
      "[170]\ttrain's rmse: 0.137082\tvalid's rmse: 0.14518\n",
      "[180]\ttrain's rmse: 0.13658\tvalid's rmse: 0.145148\n",
      "[190]\ttrain's rmse: 0.136136\tvalid's rmse: 0.145089\n",
      "[200]\ttrain's rmse: 0.135689\tvalid's rmse: 0.145051\n",
      "[210]\ttrain's rmse: 0.135214\tvalid's rmse: 0.145007\n",
      "[220]\ttrain's rmse: 0.13477\tvalid's rmse: 0.144974\n",
      "[230]\ttrain's rmse: 0.134372\tvalid's rmse: 0.144943\n",
      "[240]\ttrain's rmse: 0.133953\tvalid's rmse: 0.144928\n",
      "[250]\ttrain's rmse: 0.133547\tvalid's rmse: 0.144898\n",
      "[260]\ttrain's rmse: 0.133147\tvalid's rmse: 0.144879\n",
      "[270]\ttrain's rmse: 0.13274\tvalid's rmse: 0.144871\n",
      "[280]\ttrain's rmse: 0.132373\tvalid's rmse: 0.144859\n",
      "[290]\ttrain's rmse: 0.132008\tvalid's rmse: 0.144841\n",
      "[300]\ttrain's rmse: 0.131638\tvalid's rmse: 0.144818\n",
      "[310]\ttrain's rmse: 0.13127\tvalid's rmse: 0.144803\n",
      "[320]\ttrain's rmse: 0.130898\tvalid's rmse: 0.144779\n",
      "[330]\ttrain's rmse: 0.130542\tvalid's rmse: 0.144769\n",
      "[340]\ttrain's rmse: 0.130194\tvalid's rmse: 0.144756\n",
      "[350]\ttrain's rmse: 0.129848\tvalid's rmse: 0.144754\n",
      "[360]\ttrain's rmse: 0.129523\tvalid's rmse: 0.144749\n",
      "[370]\ttrain's rmse: 0.129206\tvalid's rmse: 0.144736\n",
      "[380]\ttrain's rmse: 0.128884\tvalid's rmse: 0.14473\n",
      "[390]\ttrain's rmse: 0.128548\tvalid's rmse: 0.144723\n",
      "[400]\ttrain's rmse: 0.128239\tvalid's rmse: 0.144718\n",
      "[410]\ttrain's rmse: 0.127931\tvalid's rmse: 0.14471\n",
      "[420]\ttrain's rmse: 0.127612\tvalid's rmse: 0.144706\n",
      "[430]\ttrain's rmse: 0.127299\tvalid's rmse: 0.144708\n",
      "[440]\ttrain's rmse: 0.127009\tvalid's rmse: 0.144696\n",
      "[450]\ttrain's rmse: 0.126711\tvalid's rmse: 0.144692\n",
      "[460]\ttrain's rmse: 0.126426\tvalid's rmse: 0.144692\n",
      "[470]\ttrain's rmse: 0.126144\tvalid's rmse: 0.14469\n",
      "[480]\ttrain's rmse: 0.12585\tvalid's rmse: 0.144692\n",
      "[490]\ttrain's rmse: 0.125571\tvalid's rmse: 0.144698\n",
      "[500]\ttrain's rmse: 0.125266\tvalid's rmse: 0.144692\n",
      "[510]\ttrain's rmse: 0.124978\tvalid's rmse: 0.144687\n",
      "[520]\ttrain's rmse: 0.124685\tvalid's rmse: 0.144686\n",
      "[530]\ttrain's rmse: 0.124421\tvalid's rmse: 0.144687\n",
      "[540]\ttrain's rmse: 0.124153\tvalid's rmse: 0.144685\n",
      "[550]\ttrain's rmse: 0.123888\tvalid's rmse: 0.144693\n",
      "[560]\ttrain's rmse: 0.123607\tvalid's rmse: 0.144692\n",
      "Early stopping, best iteration is:\n",
      "[516]\ttrain's rmse: 0.124806\tvalid's rmse: 0.144683\n",
      "Model Evaluation Stage - Test set prediction...\n",
      "== Finished this round ==\n",
      "+++++  Starting with cluster:  1  +++++\n",
      "strat kf starting... 5\n",
      "--> StratifiedKFold(n_splits=5, random_state=189, shuffle=True)\n",
      "starting Fold:  1 186328 46584\n"
     ]
    },
    {
     "name": "stderr",
     "output_type": "stream",
     "text": [
      "/home/ubuntu/anaconda3/lib/python3.6/site-packages/lightgbm/basic.py:1036: UserWarning: Using categorical_feature in Dataset.\n",
      "  warnings.warn('Using categorical_feature in Dataset.')\n",
      "/home/ubuntu/anaconda3/lib/python3.6/site-packages/lightgbm/basic.py:681: UserWarning: categorical_feature in param dict is overridden.\n",
      "  warnings.warn('categorical_feature in param dict is overridden.')\n",
      "/home/ubuntu/anaconda3/lib/python3.6/site-packages/lightgbm/basic.py:681: UserWarning: categorical_feature in param dict is overridden.\n",
      "  warnings.warn('categorical_feature in param dict is overridden.')\n"
     ]
    },
    {
     "name": "stdout",
     "output_type": "stream",
     "text": [
      "Training until validation scores don't improve for 50 rounds.\n",
      "[10]\ttrain's rmse: 0.212071\tvalid's rmse: 0.213333\n",
      "[20]\ttrain's rmse: 0.209819\tvalid's rmse: 0.21203\n",
      "[30]\ttrain's rmse: 0.207584\tvalid's rmse: 0.210838\n",
      "[40]\ttrain's rmse: 0.205761\tvalid's rmse: 0.209984\n",
      "[50]\ttrain's rmse: 0.204188\tvalid's rmse: 0.209292\n",
      "[60]\ttrain's rmse: 0.20266\tvalid's rmse: 0.208679\n",
      "[70]\ttrain's rmse: 0.201232\tvalid's rmse: 0.208186\n",
      "[80]\ttrain's rmse: 0.199973\tvalid's rmse: 0.20781\n",
      "[90]\ttrain's rmse: 0.198806\tvalid's rmse: 0.207501\n",
      "[100]\ttrain's rmse: 0.197698\tvalid's rmse: 0.207199\n",
      "[110]\ttrain's rmse: 0.196555\tvalid's rmse: 0.206928\n",
      "[120]\ttrain's rmse: 0.195464\tvalid's rmse: 0.206708\n",
      "[130]\ttrain's rmse: 0.194438\tvalid's rmse: 0.206538\n",
      "[140]\ttrain's rmse: 0.193444\tvalid's rmse: 0.206384\n",
      "[150]\ttrain's rmse: 0.192554\tvalid's rmse: 0.206266\n",
      "[160]\ttrain's rmse: 0.191646\tvalid's rmse: 0.206155\n",
      "[170]\ttrain's rmse: 0.19079\tvalid's rmse: 0.206051\n",
      "[180]\ttrain's rmse: 0.1899\tvalid's rmse: 0.20595\n",
      "[190]\ttrain's rmse: 0.189047\tvalid's rmse: 0.205889\n",
      "[200]\ttrain's rmse: 0.188269\tvalid's rmse: 0.205807\n",
      "[210]\ttrain's rmse: 0.187427\tvalid's rmse: 0.205737\n",
      "[220]\ttrain's rmse: 0.186614\tvalid's rmse: 0.205698\n",
      "[230]\ttrain's rmse: 0.18582\tvalid's rmse: 0.205643\n",
      "[240]\ttrain's rmse: 0.185029\tvalid's rmse: 0.205611\n",
      "[250]\ttrain's rmse: 0.184281\tvalid's rmse: 0.205566\n",
      "[260]\ttrain's rmse: 0.183566\tvalid's rmse: 0.205542\n",
      "[270]\ttrain's rmse: 0.182848\tvalid's rmse: 0.205505\n",
      "[280]\ttrain's rmse: 0.18212\tvalid's rmse: 0.205458\n",
      "[290]\ttrain's rmse: 0.181442\tvalid's rmse: 0.205439\n",
      "[300]\ttrain's rmse: 0.180754\tvalid's rmse: 0.205413\n",
      "[310]\ttrain's rmse: 0.180063\tvalid's rmse: 0.205401\n",
      "[320]\ttrain's rmse: 0.179382\tvalid's rmse: 0.205376\n",
      "[330]\ttrain's rmse: 0.178717\tvalid's rmse: 0.205366\n",
      "[340]\ttrain's rmse: 0.178067\tvalid's rmse: 0.205354\n",
      "[350]\ttrain's rmse: 0.177461\tvalid's rmse: 0.205345\n",
      "[360]\ttrain's rmse: 0.176861\tvalid's rmse: 0.205342\n",
      "[370]\ttrain's rmse: 0.176276\tvalid's rmse: 0.205346\n",
      "[380]\ttrain's rmse: 0.175655\tvalid's rmse: 0.205354\n",
      "[390]\ttrain's rmse: 0.175076\tvalid's rmse: 0.205363\n",
      "[400]\ttrain's rmse: 0.174491\tvalid's rmse: 0.205373\n",
      "Early stopping, best iteration is:\n",
      "[354]\ttrain's rmse: 0.177225\tvalid's rmse: 0.205338\n",
      "Model Evaluation Stage - Test set prediction...\n",
      "== Finished this round ==\n",
      "starting Fold:  2 186328 46584\n"
     ]
    },
    {
     "name": "stderr",
     "output_type": "stream",
     "text": [
      "/home/ubuntu/anaconda3/lib/python3.6/site-packages/lightgbm/basic.py:1036: UserWarning: Using categorical_feature in Dataset.\n",
      "  warnings.warn('Using categorical_feature in Dataset.')\n",
      "/home/ubuntu/anaconda3/lib/python3.6/site-packages/lightgbm/basic.py:681: UserWarning: categorical_feature in param dict is overridden.\n",
      "  warnings.warn('categorical_feature in param dict is overridden.')\n",
      "/home/ubuntu/anaconda3/lib/python3.6/site-packages/lightgbm/basic.py:681: UserWarning: categorical_feature in param dict is overridden.\n",
      "  warnings.warn('categorical_feature in param dict is overridden.')\n"
     ]
    },
    {
     "name": "stdout",
     "output_type": "stream",
     "text": [
      "Training until validation scores don't improve for 50 rounds.\n",
      "[10]\ttrain's rmse: 0.21228\tvalid's rmse: 0.212831\n",
      "[20]\ttrain's rmse: 0.209878\tvalid's rmse: 0.211472\n",
      "[30]\ttrain's rmse: 0.207841\tvalid's rmse: 0.210428\n",
      "[40]\ttrain's rmse: 0.206114\tvalid's rmse: 0.209629\n",
      "[50]\ttrain's rmse: 0.204476\tvalid's rmse: 0.20892\n",
      "[60]\ttrain's rmse: 0.20285\tvalid's rmse: 0.208298\n",
      "[70]\ttrain's rmse: 0.201418\tvalid's rmse: 0.207796\n",
      "[80]\ttrain's rmse: 0.200113\tvalid's rmse: 0.207382\n",
      "[90]\ttrain's rmse: 0.198881\tvalid's rmse: 0.20708\n",
      "[100]\ttrain's rmse: 0.197662\tvalid's rmse: 0.206787\n",
      "[110]\ttrain's rmse: 0.196553\tvalid's rmse: 0.206538\n",
      "[120]\ttrain's rmse: 0.19547\tvalid's rmse: 0.206316\n",
      "[130]\ttrain's rmse: 0.194502\tvalid's rmse: 0.206147\n",
      "[140]\ttrain's rmse: 0.193525\tvalid's rmse: 0.206019\n",
      "[150]\ttrain's rmse: 0.192594\tvalid's rmse: 0.205887\n",
      "[160]\ttrain's rmse: 0.191719\tvalid's rmse: 0.205798\n",
      "[170]\ttrain's rmse: 0.190803\tvalid's rmse: 0.205717\n",
      "[180]\ttrain's rmse: 0.189956\tvalid's rmse: 0.205633\n",
      "[190]\ttrain's rmse: 0.189165\tvalid's rmse: 0.205578\n",
      "[200]\ttrain's rmse: 0.188323\tvalid's rmse: 0.205548\n",
      "[210]\ttrain's rmse: 0.187501\tvalid's rmse: 0.205514\n",
      "[220]\ttrain's rmse: 0.186735\tvalid's rmse: 0.205458\n",
      "[230]\ttrain's rmse: 0.185906\tvalid's rmse: 0.205434\n",
      "[240]\ttrain's rmse: 0.185135\tvalid's rmse: 0.205385\n",
      "[250]\ttrain's rmse: 0.184366\tvalid's rmse: 0.205354\n",
      "[260]\ttrain's rmse: 0.183638\tvalid's rmse: 0.205335\n",
      "[270]\ttrain's rmse: 0.182914\tvalid's rmse: 0.205312\n",
      "[280]\ttrain's rmse: 0.182192\tvalid's rmse: 0.205293\n",
      "[290]\ttrain's rmse: 0.181484\tvalid's rmse: 0.205282\n",
      "[300]\ttrain's rmse: 0.180786\tvalid's rmse: 0.205265\n",
      "[310]\ttrain's rmse: 0.180138\tvalid's rmse: 0.205246\n",
      "[320]\ttrain's rmse: 0.179448\tvalid's rmse: 0.205229\n",
      "[330]\ttrain's rmse: 0.178804\tvalid's rmse: 0.205211\n",
      "[340]\ttrain's rmse: 0.178132\tvalid's rmse: 0.205205\n",
      "[350]\ttrain's rmse: 0.177529\tvalid's rmse: 0.205198\n",
      "[360]\ttrain's rmse: 0.176853\tvalid's rmse: 0.205205\n",
      "[370]\ttrain's rmse: 0.176265\tvalid's rmse: 0.205194\n",
      "[380]\ttrain's rmse: 0.175656\tvalid's rmse: 0.205181\n",
      "[390]\ttrain's rmse: 0.175089\tvalid's rmse: 0.205188\n",
      "[400]\ttrain's rmse: 0.174476\tvalid's rmse: 0.205193\n",
      "[410]\ttrain's rmse: 0.173889\tvalid's rmse: 0.205176\n",
      "[420]\ttrain's rmse: 0.1733\tvalid's rmse: 0.205182\n",
      "[430]\ttrain's rmse: 0.172748\tvalid's rmse: 0.20519\n",
      "[440]\ttrain's rmse: 0.17219\tvalid's rmse: 0.205191\n",
      "[450]\ttrain's rmse: 0.171627\tvalid's rmse: 0.205206\n",
      "Early stopping, best iteration is:\n",
      "[408]\ttrain's rmse: 0.174007\tvalid's rmse: 0.205174\n",
      "Model Evaluation Stage - Test set prediction...\n",
      "== Finished this round ==\n",
      "starting Fold:  3 186330 46582\n"
     ]
    },
    {
     "name": "stderr",
     "output_type": "stream",
     "text": [
      "/home/ubuntu/anaconda3/lib/python3.6/site-packages/lightgbm/basic.py:1036: UserWarning: Using categorical_feature in Dataset.\n",
      "  warnings.warn('Using categorical_feature in Dataset.')\n",
      "/home/ubuntu/anaconda3/lib/python3.6/site-packages/lightgbm/basic.py:681: UserWarning: categorical_feature in param dict is overridden.\n",
      "  warnings.warn('categorical_feature in param dict is overridden.')\n",
      "/home/ubuntu/anaconda3/lib/python3.6/site-packages/lightgbm/basic.py:681: UserWarning: categorical_feature in param dict is overridden.\n",
      "  warnings.warn('categorical_feature in param dict is overridden.')\n"
     ]
    },
    {
     "name": "stdout",
     "output_type": "stream",
     "text": [
      "Training until validation scores don't improve for 50 rounds.\n",
      "[10]\ttrain's rmse: 0.212196\tvalid's rmse: 0.213224\n",
      "[20]\ttrain's rmse: 0.209893\tvalid's rmse: 0.211875\n",
      "[30]\ttrain's rmse: 0.207699\tvalid's rmse: 0.210705\n",
      "[40]\ttrain's rmse: 0.205917\tvalid's rmse: 0.209868\n",
      "[50]\ttrain's rmse: 0.204156\tvalid's rmse: 0.209107\n",
      "[60]\ttrain's rmse: 0.2026\tvalid's rmse: 0.208516\n",
      "[70]\ttrain's rmse: 0.201151\tvalid's rmse: 0.208029\n",
      "[80]\ttrain's rmse: 0.199891\tvalid's rmse: 0.207663\n",
      "[90]\ttrain's rmse: 0.198644\tvalid's rmse: 0.207391\n",
      "[100]\ttrain's rmse: 0.197475\tvalid's rmse: 0.207105\n",
      "[110]\ttrain's rmse: 0.196403\tvalid's rmse: 0.206905\n",
      "[120]\ttrain's rmse: 0.195305\tvalid's rmse: 0.206721\n",
      "[130]\ttrain's rmse: 0.194346\tvalid's rmse: 0.206567\n",
      "[140]\ttrain's rmse: 0.193362\tvalid's rmse: 0.206446\n",
      "[150]\ttrain's rmse: 0.192445\tvalid's rmse: 0.206325\n",
      "[160]\ttrain's rmse: 0.191516\tvalid's rmse: 0.206217\n",
      "[170]\ttrain's rmse: 0.190548\tvalid's rmse: 0.206155\n",
      "[180]\ttrain's rmse: 0.189696\tvalid's rmse: 0.206065\n",
      "[190]\ttrain's rmse: 0.188871\tvalid's rmse: 0.205978\n",
      "[200]\ttrain's rmse: 0.188074\tvalid's rmse: 0.205928\n",
      "[210]\ttrain's rmse: 0.187275\tvalid's rmse: 0.205888\n",
      "[220]\ttrain's rmse: 0.18649\tvalid's rmse: 0.205846\n",
      "[230]\ttrain's rmse: 0.18574\tvalid's rmse: 0.205797\n",
      "[240]\ttrain's rmse: 0.184953\tvalid's rmse: 0.205777\n",
      "[250]\ttrain's rmse: 0.184226\tvalid's rmse: 0.20577\n",
      "[260]\ttrain's rmse: 0.183526\tvalid's rmse: 0.20574\n",
      "[270]\ttrain's rmse: 0.182814\tvalid's rmse: 0.205705\n",
      "[280]\ttrain's rmse: 0.182138\tvalid's rmse: 0.205687\n",
      "[290]\ttrain's rmse: 0.181454\tvalid's rmse: 0.205667\n",
      "[300]\ttrain's rmse: 0.180774\tvalid's rmse: 0.205648\n",
      "[310]\ttrain's rmse: 0.180122\tvalid's rmse: 0.205631\n",
      "[320]\ttrain's rmse: 0.179474\tvalid's rmse: 0.205629\n",
      "[330]\ttrain's rmse: 0.178819\tvalid's rmse: 0.205614\n",
      "[340]\ttrain's rmse: 0.178155\tvalid's rmse: 0.205609\n",
      "[350]\ttrain's rmse: 0.17752\tvalid's rmse: 0.2056\n",
      "[360]\ttrain's rmse: 0.176878\tvalid's rmse: 0.205583\n",
      "[370]\ttrain's rmse: 0.176224\tvalid's rmse: 0.205591\n",
      "[380]\ttrain's rmse: 0.17565\tvalid's rmse: 0.205587\n",
      "[390]\ttrain's rmse: 0.175051\tvalid's rmse: 0.205596\n",
      "[400]\ttrain's rmse: 0.174466\tvalid's rmse: 0.205588\n",
      "Early stopping, best iteration is:\n",
      "[357]\ttrain's rmse: 0.177077\tvalid's rmse: 0.205579\n",
      "Model Evaluation Stage - Test set prediction...\n",
      "== Finished this round ==\n",
      "starting Fold:  4 186330 46582\n"
     ]
    },
    {
     "name": "stderr",
     "output_type": "stream",
     "text": [
      "/home/ubuntu/anaconda3/lib/python3.6/site-packages/lightgbm/basic.py:1036: UserWarning: Using categorical_feature in Dataset.\n",
      "  warnings.warn('Using categorical_feature in Dataset.')\n",
      "/home/ubuntu/anaconda3/lib/python3.6/site-packages/lightgbm/basic.py:681: UserWarning: categorical_feature in param dict is overridden.\n",
      "  warnings.warn('categorical_feature in param dict is overridden.')\n",
      "/home/ubuntu/anaconda3/lib/python3.6/site-packages/lightgbm/basic.py:681: UserWarning: categorical_feature in param dict is overridden.\n",
      "  warnings.warn('categorical_feature in param dict is overridden.')\n"
     ]
    },
    {
     "name": "stdout",
     "output_type": "stream",
     "text": [
      "Training until validation scores don't improve for 50 rounds.\n",
      "[10]\ttrain's rmse: 0.212092\tvalid's rmse: 0.213206\n",
      "[20]\ttrain's rmse: 0.209854\tvalid's rmse: 0.21189\n",
      "[30]\ttrain's rmse: 0.207592\tvalid's rmse: 0.210731\n",
      "[40]\ttrain's rmse: 0.20568\tvalid's rmse: 0.209833\n",
      "[50]\ttrain's rmse: 0.203994\tvalid's rmse: 0.209128\n",
      "[60]\ttrain's rmse: 0.202454\tvalid's rmse: 0.208576\n",
      "[70]\ttrain's rmse: 0.201071\tvalid's rmse: 0.208138\n",
      "[80]\ttrain's rmse: 0.199695\tvalid's rmse: 0.207769\n",
      "[90]\ttrain's rmse: 0.198471\tvalid's rmse: 0.207469\n",
      "[100]\ttrain's rmse: 0.197318\tvalid's rmse: 0.207219\n",
      "[110]\ttrain's rmse: 0.1963\tvalid's rmse: 0.207019\n",
      "[120]\ttrain's rmse: 0.195213\tvalid's rmse: 0.206844\n",
      "[130]\ttrain's rmse: 0.194205\tvalid's rmse: 0.206731\n",
      "[140]\ttrain's rmse: 0.193259\tvalid's rmse: 0.206611\n",
      "[150]\ttrain's rmse: 0.192288\tvalid's rmse: 0.20654\n",
      "[160]\ttrain's rmse: 0.191382\tvalid's rmse: 0.206454\n",
      "[170]\ttrain's rmse: 0.19046\tvalid's rmse: 0.206391\n",
      "[180]\ttrain's rmse: 0.189554\tvalid's rmse: 0.206352\n",
      "[190]\ttrain's rmse: 0.188669\tvalid's rmse: 0.206311\n",
      "[200]\ttrain's rmse: 0.18783\tvalid's rmse: 0.206248\n",
      "[210]\ttrain's rmse: 0.187012\tvalid's rmse: 0.206194\n",
      "[220]\ttrain's rmse: 0.186243\tvalid's rmse: 0.206169\n",
      "[230]\ttrain's rmse: 0.185469\tvalid's rmse: 0.206127\n",
      "[240]\ttrain's rmse: 0.184683\tvalid's rmse: 0.20611\n",
      "[250]\ttrain's rmse: 0.183929\tvalid's rmse: 0.206097\n",
      "[260]\ttrain's rmse: 0.183178\tvalid's rmse: 0.206068\n",
      "[270]\ttrain's rmse: 0.182445\tvalid's rmse: 0.206046\n",
      "[280]\ttrain's rmse: 0.181747\tvalid's rmse: 0.206037\n",
      "[290]\ttrain's rmse: 0.181047\tvalid's rmse: 0.206029\n",
      "[300]\ttrain's rmse: 0.180325\tvalid's rmse: 0.206022\n",
      "[310]\ttrain's rmse: 0.179638\tvalid's rmse: 0.206021\n",
      "[320]\ttrain's rmse: 0.179012\tvalid's rmse: 0.206023\n",
      "[330]\ttrain's rmse: 0.178372\tvalid's rmse: 0.206032\n",
      "[340]\ttrain's rmse: 0.177716\tvalid's rmse: 0.206039\n",
      "[350]\ttrain's rmse: 0.177096\tvalid's rmse: 0.206054\n",
      "Early stopping, best iteration is:\n",
      "[301]\ttrain's rmse: 0.180253\tvalid's rmse: 0.206016\n",
      "Model Evaluation Stage - Test set prediction...\n",
      "== Finished this round ==\n",
      "starting Fold:  5 186332 46580\n"
     ]
    },
    {
     "name": "stderr",
     "output_type": "stream",
     "text": [
      "/home/ubuntu/anaconda3/lib/python3.6/site-packages/lightgbm/basic.py:1036: UserWarning: Using categorical_feature in Dataset.\n",
      "  warnings.warn('Using categorical_feature in Dataset.')\n",
      "/home/ubuntu/anaconda3/lib/python3.6/site-packages/lightgbm/basic.py:681: UserWarning: categorical_feature in param dict is overridden.\n",
      "  warnings.warn('categorical_feature in param dict is overridden.')\n",
      "/home/ubuntu/anaconda3/lib/python3.6/site-packages/lightgbm/basic.py:681: UserWarning: categorical_feature in param dict is overridden.\n",
      "  warnings.warn('categorical_feature in param dict is overridden.')\n"
     ]
    },
    {
     "name": "stdout",
     "output_type": "stream",
     "text": [
      "Training until validation scores don't improve for 50 rounds.\n",
      "[10]\ttrain's rmse: 0.212099\tvalid's rmse: 0.213037\n",
      "[20]\ttrain's rmse: 0.209982\tvalid's rmse: 0.211873\n",
      "[30]\ttrain's rmse: 0.207937\tvalid's rmse: 0.210754\n",
      "[40]\ttrain's rmse: 0.206127\tvalid's rmse: 0.209882\n",
      "[50]\ttrain's rmse: 0.204541\tvalid's rmse: 0.209189\n",
      "[60]\ttrain's rmse: 0.203015\tvalid's rmse: 0.208611\n",
      "[70]\ttrain's rmse: 0.201608\tvalid's rmse: 0.208083\n",
      "[80]\ttrain's rmse: 0.200294\tvalid's rmse: 0.207695\n",
      "[90]\ttrain's rmse: 0.198989\tvalid's rmse: 0.207289\n",
      "[100]\ttrain's rmse: 0.197744\tvalid's rmse: 0.206981\n",
      "[110]\ttrain's rmse: 0.196655\tvalid's rmse: 0.206748\n",
      "[120]\ttrain's rmse: 0.195552\tvalid's rmse: 0.206512\n",
      "[130]\ttrain's rmse: 0.194567\tvalid's rmse: 0.206332\n",
      "[140]\ttrain's rmse: 0.193505\tvalid's rmse: 0.206163\n",
      "[150]\ttrain's rmse: 0.192584\tvalid's rmse: 0.206045\n",
      "[160]\ttrain's rmse: 0.19163\tvalid's rmse: 0.205919\n",
      "[170]\ttrain's rmse: 0.190745\tvalid's rmse: 0.205852\n",
      "[180]\ttrain's rmse: 0.189808\tvalid's rmse: 0.205764\n",
      "[190]\ttrain's rmse: 0.188923\tvalid's rmse: 0.205691\n",
      "[200]\ttrain's rmse: 0.188117\tvalid's rmse: 0.205623\n",
      "[210]\ttrain's rmse: 0.187303\tvalid's rmse: 0.205581\n",
      "[220]\ttrain's rmse: 0.18654\tvalid's rmse: 0.205502\n",
      "[230]\ttrain's rmse: 0.185785\tvalid's rmse: 0.205444\n",
      "[240]\ttrain's rmse: 0.184992\tvalid's rmse: 0.205405\n",
      "[250]\ttrain's rmse: 0.184217\tvalid's rmse: 0.205344\n",
      "[260]\ttrain's rmse: 0.183461\tvalid's rmse: 0.205302\n",
      "[270]\ttrain's rmse: 0.182735\tvalid's rmse: 0.205283\n",
      "[280]\ttrain's rmse: 0.182029\tvalid's rmse: 0.205253\n",
      "[290]\ttrain's rmse: 0.181369\tvalid's rmse: 0.20522\n",
      "[300]\ttrain's rmse: 0.180688\tvalid's rmse: 0.205195\n",
      "[310]\ttrain's rmse: 0.180044\tvalid's rmse: 0.205169\n",
      "[320]\ttrain's rmse: 0.179412\tvalid's rmse: 0.205152\n",
      "[330]\ttrain's rmse: 0.178791\tvalid's rmse: 0.205125\n",
      "[340]\ttrain's rmse: 0.178169\tvalid's rmse: 0.20511\n",
      "[350]\ttrain's rmse: 0.177584\tvalid's rmse: 0.205098\n",
      "[360]\ttrain's rmse: 0.176935\tvalid's rmse: 0.205085\n",
      "[370]\ttrain's rmse: 0.176338\tvalid's rmse: 0.205063\n",
      "[380]\ttrain's rmse: 0.175756\tvalid's rmse: 0.205058\n",
      "[390]\ttrain's rmse: 0.175217\tvalid's rmse: 0.205047\n",
      "[400]\ttrain's rmse: 0.174628\tvalid's rmse: 0.205031\n",
      "[410]\ttrain's rmse: 0.174054\tvalid's rmse: 0.205041\n",
      "[420]\ttrain's rmse: 0.173484\tvalid's rmse: 0.205038\n",
      "[430]\ttrain's rmse: 0.172925\tvalid's rmse: 0.205037\n",
      "[440]\ttrain's rmse: 0.172385\tvalid's rmse: 0.205032\n",
      "[450]\ttrain's rmse: 0.171852\tvalid's rmse: 0.205022\n",
      "[460]\ttrain's rmse: 0.171312\tvalid's rmse: 0.205016\n",
      "[470]\ttrain's rmse: 0.170765\tvalid's rmse: 0.205021\n",
      "[480]\ttrain's rmse: 0.170199\tvalid's rmse: 0.205028\n",
      "[490]\ttrain's rmse: 0.16966\tvalid's rmse: 0.205035\n",
      "[500]\ttrain's rmse: 0.169105\tvalid's rmse: 0.205034\n",
      "[510]\ttrain's rmse: 0.168621\tvalid's rmse: 0.20502\n",
      "Early stopping, best iteration is:\n",
      "[460]\ttrain's rmse: 0.171312\tvalid's rmse: 0.205016\n",
      "Model Evaluation Stage - Test set prediction...\n",
      "== Finished this round ==\n",
      "+++++  Starting with cluster:  2  +++++\n",
      "strat kf starting... 5\n",
      "--> StratifiedKFold(n_splits=5, random_state=189, shuffle=True)\n",
      "starting Fold:  1 93003 23253\n"
     ]
    },
    {
     "name": "stderr",
     "output_type": "stream",
     "text": [
      "/home/ubuntu/anaconda3/lib/python3.6/site-packages/lightgbm/basic.py:1036: UserWarning: Using categorical_feature in Dataset.\n",
      "  warnings.warn('Using categorical_feature in Dataset.')\n",
      "/home/ubuntu/anaconda3/lib/python3.6/site-packages/lightgbm/basic.py:681: UserWarning: categorical_feature in param dict is overridden.\n",
      "  warnings.warn('categorical_feature in param dict is overridden.')\n",
      "/home/ubuntu/anaconda3/lib/python3.6/site-packages/lightgbm/basic.py:681: UserWarning: categorical_feature in param dict is overridden.\n",
      "  warnings.warn('categorical_feature in param dict is overridden.')\n"
     ]
    },
    {
     "name": "stdout",
     "output_type": "stream",
     "text": [
      "Training until validation scores don't improve for 50 rounds.\n",
      "[10]\ttrain's rmse: 0.244613\tvalid's rmse: 0.246359\n",
      "[20]\ttrain's rmse: 0.240069\tvalid's rmse: 0.243811\n",
      "[30]\ttrain's rmse: 0.236202\tvalid's rmse: 0.241973\n",
      "[40]\ttrain's rmse: 0.232836\tvalid's rmse: 0.240511\n",
      "[50]\ttrain's rmse: 0.229922\tvalid's rmse: 0.239384\n",
      "[60]\ttrain's rmse: 0.227135\tvalid's rmse: 0.238517\n",
      "[70]\ttrain's rmse: 0.224656\tvalid's rmse: 0.237788\n",
      "[80]\ttrain's rmse: 0.222242\tvalid's rmse: 0.237215\n",
      "[90]\ttrain's rmse: 0.220066\tvalid's rmse: 0.236695\n",
      "[100]\ttrain's rmse: 0.217862\tvalid's rmse: 0.236322\n",
      "[110]\ttrain's rmse: 0.215953\tvalid's rmse: 0.235996\n",
      "[120]\ttrain's rmse: 0.21405\tvalid's rmse: 0.235735\n",
      "[130]\ttrain's rmse: 0.212283\tvalid's rmse: 0.235528\n",
      "[140]\ttrain's rmse: 0.210571\tvalid's rmse: 0.235369\n",
      "[150]\ttrain's rmse: 0.20899\tvalid's rmse: 0.235249\n",
      "[160]\ttrain's rmse: 0.207514\tvalid's rmse: 0.235136\n",
      "[170]\ttrain's rmse: 0.205903\tvalid's rmse: 0.235046\n",
      "[180]\ttrain's rmse: 0.204411\tvalid's rmse: 0.234959\n",
      "[190]\ttrain's rmse: 0.202929\tvalid's rmse: 0.23491\n",
      "[200]\ttrain's rmse: 0.201505\tvalid's rmse: 0.234861\n",
      "[210]\ttrain's rmse: 0.200092\tvalid's rmse: 0.234797\n",
      "[220]\ttrain's rmse: 0.198756\tvalid's rmse: 0.234762\n",
      "[230]\ttrain's rmse: 0.197429\tvalid's rmse: 0.234711\n",
      "[240]\ttrain's rmse: 0.196197\tvalid's rmse: 0.234657\n",
      "[250]\ttrain's rmse: 0.194954\tvalid's rmse: 0.23466\n",
      "[260]\ttrain's rmse: 0.193769\tvalid's rmse: 0.234627\n",
      "[270]\ttrain's rmse: 0.192652\tvalid's rmse: 0.234582\n",
      "[280]\ttrain's rmse: 0.191429\tvalid's rmse: 0.234584\n",
      "[290]\ttrain's rmse: 0.190299\tvalid's rmse: 0.234567\n",
      "[300]\ttrain's rmse: 0.189153\tvalid's rmse: 0.234576\n",
      "[310]\ttrain's rmse: 0.187969\tvalid's rmse: 0.234564\n",
      "[320]\ttrain's rmse: 0.186859\tvalid's rmse: 0.234546\n",
      "[330]\ttrain's rmse: 0.185727\tvalid's rmse: 0.234564\n",
      "[340]\ttrain's rmse: 0.184686\tvalid's rmse: 0.234568\n",
      "[350]\ttrain's rmse: 0.183621\tvalid's rmse: 0.234586\n",
      "[360]\ttrain's rmse: 0.182587\tvalid's rmse: 0.234617\n",
      "Early stopping, best iteration is:\n",
      "[319]\ttrain's rmse: 0.186958\tvalid's rmse: 0.234544\n",
      "Model Evaluation Stage - Test set prediction...\n",
      "== Finished this round ==\n",
      "starting Fold:  2 93003 23253\n"
     ]
    },
    {
     "name": "stderr",
     "output_type": "stream",
     "text": [
      "/home/ubuntu/anaconda3/lib/python3.6/site-packages/lightgbm/basic.py:1036: UserWarning: Using categorical_feature in Dataset.\n",
      "  warnings.warn('Using categorical_feature in Dataset.')\n",
      "/home/ubuntu/anaconda3/lib/python3.6/site-packages/lightgbm/basic.py:681: UserWarning: categorical_feature in param dict is overridden.\n",
      "  warnings.warn('categorical_feature in param dict is overridden.')\n",
      "/home/ubuntu/anaconda3/lib/python3.6/site-packages/lightgbm/basic.py:681: UserWarning: categorical_feature in param dict is overridden.\n",
      "  warnings.warn('categorical_feature in param dict is overridden.')\n"
     ]
    },
    {
     "name": "stdout",
     "output_type": "stream",
     "text": [
      "Training until validation scores don't improve for 50 rounds.\n",
      "[10]\ttrain's rmse: 0.244907\tvalid's rmse: 0.246001\n",
      "[20]\ttrain's rmse: 0.240353\tvalid's rmse: 0.24338\n",
      "[30]\ttrain's rmse: 0.236467\tvalid's rmse: 0.241305\n",
      "[40]\ttrain's rmse: 0.233\tvalid's rmse: 0.239726\n",
      "[50]\ttrain's rmse: 0.230123\tvalid's rmse: 0.238585\n",
      "[60]\ttrain's rmse: 0.22746\tvalid's rmse: 0.237743\n",
      "[70]\ttrain's rmse: 0.22493\tvalid's rmse: 0.237093\n",
      "[80]\ttrain's rmse: 0.222519\tvalid's rmse: 0.236455\n",
      "[90]\ttrain's rmse: 0.220279\tvalid's rmse: 0.23588\n",
      "[100]\ttrain's rmse: 0.218205\tvalid's rmse: 0.23538\n",
      "[110]\ttrain's rmse: 0.216302\tvalid's rmse: 0.234994\n",
      "[120]\ttrain's rmse: 0.2144\tvalid's rmse: 0.234696\n",
      "[130]\ttrain's rmse: 0.212718\tvalid's rmse: 0.234448\n",
      "[140]\ttrain's rmse: 0.210997\tvalid's rmse: 0.23423\n",
      "[150]\ttrain's rmse: 0.209306\tvalid's rmse: 0.234086\n",
      "[160]\ttrain's rmse: 0.207744\tvalid's rmse: 0.233999\n",
      "[170]\ttrain's rmse: 0.206207\tvalid's rmse: 0.233864\n",
      "[180]\ttrain's rmse: 0.204693\tvalid's rmse: 0.233759\n",
      "[190]\ttrain's rmse: 0.203262\tvalid's rmse: 0.233674\n",
      "[200]\ttrain's rmse: 0.201878\tvalid's rmse: 0.2336\n",
      "[210]\ttrain's rmse: 0.20044\tvalid's rmse: 0.233581\n",
      "[220]\ttrain's rmse: 0.199149\tvalid's rmse: 0.233537\n",
      "[230]\ttrain's rmse: 0.19785\tvalid's rmse: 0.233506\n",
      "[240]\ttrain's rmse: 0.196532\tvalid's rmse: 0.233484\n",
      "[250]\ttrain's rmse: 0.195299\tvalid's rmse: 0.233445\n",
      "[260]\ttrain's rmse: 0.194107\tvalid's rmse: 0.233415\n",
      "[270]\ttrain's rmse: 0.192948\tvalid's rmse: 0.233377\n",
      "[280]\ttrain's rmse: 0.191779\tvalid's rmse: 0.233354\n",
      "[290]\ttrain's rmse: 0.190576\tvalid's rmse: 0.23333\n",
      "[300]\ttrain's rmse: 0.189497\tvalid's rmse: 0.23337\n",
      "[310]\ttrain's rmse: 0.188373\tvalid's rmse: 0.233349\n",
      "[320]\ttrain's rmse: 0.187231\tvalid's rmse: 0.233335\n",
      "[330]\ttrain's rmse: 0.186121\tvalid's rmse: 0.233329\n",
      "[340]\ttrain's rmse: 0.185067\tvalid's rmse: 0.233375\n",
      "[350]\ttrain's rmse: 0.184051\tvalid's rmse: 0.233393\n",
      "[360]\ttrain's rmse: 0.183044\tvalid's rmse: 0.233421\n",
      "Early stopping, best iteration is:\n",
      "[317]\ttrain's rmse: 0.187569\tvalid's rmse: 0.233319\n",
      "Model Evaluation Stage - Test set prediction...\n",
      "== Finished this round ==\n",
      "starting Fold:  3 93005 23251\n"
     ]
    },
    {
     "name": "stderr",
     "output_type": "stream",
     "text": [
      "/home/ubuntu/anaconda3/lib/python3.6/site-packages/lightgbm/basic.py:1036: UserWarning: Using categorical_feature in Dataset.\n",
      "  warnings.warn('Using categorical_feature in Dataset.')\n",
      "/home/ubuntu/anaconda3/lib/python3.6/site-packages/lightgbm/basic.py:681: UserWarning: categorical_feature in param dict is overridden.\n",
      "  warnings.warn('categorical_feature in param dict is overridden.')\n",
      "/home/ubuntu/anaconda3/lib/python3.6/site-packages/lightgbm/basic.py:681: UserWarning: categorical_feature in param dict is overridden.\n",
      "  warnings.warn('categorical_feature in param dict is overridden.')\n"
     ]
    },
    {
     "name": "stdout",
     "output_type": "stream",
     "text": [
      "Training until validation scores don't improve for 50 rounds.\n",
      "[10]\ttrain's rmse: 0.244822\tvalid's rmse: 0.246188\n",
      "[20]\ttrain's rmse: 0.240287\tvalid's rmse: 0.243727\n",
      "[30]\ttrain's rmse: 0.236354\tvalid's rmse: 0.241764\n",
      "[40]\ttrain's rmse: 0.232957\tvalid's rmse: 0.240295\n",
      "[50]\ttrain's rmse: 0.229966\tvalid's rmse: 0.239066\n",
      "[60]\ttrain's rmse: 0.227302\tvalid's rmse: 0.238174\n",
      "[70]\ttrain's rmse: 0.224799\tvalid's rmse: 0.237459\n",
      "[80]\ttrain's rmse: 0.222499\tvalid's rmse: 0.236932\n",
      "[90]\ttrain's rmse: 0.220275\tvalid's rmse: 0.236365\n",
      "[100]\ttrain's rmse: 0.218206\tvalid's rmse: 0.236018\n",
      "[110]\ttrain's rmse: 0.216389\tvalid's rmse: 0.235661\n",
      "[120]\ttrain's rmse: 0.214539\tvalid's rmse: 0.23538\n",
      "[130]\ttrain's rmse: 0.212797\tvalid's rmse: 0.2352\n",
      "[140]\ttrain's rmse: 0.211107\tvalid's rmse: 0.235056\n",
      "[150]\ttrain's rmse: 0.209374\tvalid's rmse: 0.234913\n",
      "[160]\ttrain's rmse: 0.207817\tvalid's rmse: 0.234796\n",
      "[170]\ttrain's rmse: 0.206288\tvalid's rmse: 0.234707\n",
      "[180]\ttrain's rmse: 0.204776\tvalid's rmse: 0.234606\n",
      "[190]\ttrain's rmse: 0.203282\tvalid's rmse: 0.234568\n",
      "[200]\ttrain's rmse: 0.201932\tvalid's rmse: 0.234504\n",
      "[210]\ttrain's rmse: 0.200621\tvalid's rmse: 0.23446\n",
      "[220]\ttrain's rmse: 0.199299\tvalid's rmse: 0.234438\n",
      "[230]\ttrain's rmse: 0.198014\tvalid's rmse: 0.234425\n",
      "[240]\ttrain's rmse: 0.196639\tvalid's rmse: 0.234427\n",
      "[250]\ttrain's rmse: 0.195356\tvalid's rmse: 0.234419\n",
      "[260]\ttrain's rmse: 0.194109\tvalid's rmse: 0.234406\n",
      "[270]\ttrain's rmse: 0.192893\tvalid's rmse: 0.234414\n",
      "[280]\ttrain's rmse: 0.191667\tvalid's rmse: 0.23441\n",
      "[290]\ttrain's rmse: 0.190498\tvalid's rmse: 0.234411\n",
      "[300]\ttrain's rmse: 0.189384\tvalid's rmse: 0.234418\n",
      "[310]\ttrain's rmse: 0.188291\tvalid's rmse: 0.23442\n",
      "[320]\ttrain's rmse: 0.187192\tvalid's rmse: 0.23443\n",
      "Early stopping, best iteration is:\n",
      "[275]\ttrain's rmse: 0.192299\tvalid's rmse: 0.234403\n",
      "Model Evaluation Stage - Test set prediction...\n",
      "== Finished this round ==\n",
      "starting Fold:  4 93006 23250\n"
     ]
    },
    {
     "name": "stderr",
     "output_type": "stream",
     "text": [
      "/home/ubuntu/anaconda3/lib/python3.6/site-packages/lightgbm/basic.py:1036: UserWarning: Using categorical_feature in Dataset.\n",
      "  warnings.warn('Using categorical_feature in Dataset.')\n",
      "/home/ubuntu/anaconda3/lib/python3.6/site-packages/lightgbm/basic.py:681: UserWarning: categorical_feature in param dict is overridden.\n",
      "  warnings.warn('categorical_feature in param dict is overridden.')\n",
      "/home/ubuntu/anaconda3/lib/python3.6/site-packages/lightgbm/basic.py:681: UserWarning: categorical_feature in param dict is overridden.\n",
      "  warnings.warn('categorical_feature in param dict is overridden.')\n"
     ]
    },
    {
     "name": "stdout",
     "output_type": "stream",
     "text": [
      "Training until validation scores don't improve for 50 rounds.\n",
      "[10]\ttrain's rmse: 0.24465\tvalid's rmse: 0.24723\n",
      "[20]\ttrain's rmse: 0.24055\tvalid's rmse: 0.244893\n",
      "[30]\ttrain's rmse: 0.23655\tvalid's rmse: 0.242752\n",
      "[40]\ttrain's rmse: 0.233103\tvalid's rmse: 0.241179\n",
      "[50]\ttrain's rmse: 0.229924\tvalid's rmse: 0.239906\n",
      "[60]\ttrain's rmse: 0.22715\tvalid's rmse: 0.238945\n",
      "[70]\ttrain's rmse: 0.224523\tvalid's rmse: 0.238222\n",
      "[80]\ttrain's rmse: 0.222199\tvalid's rmse: 0.237585\n",
      "[90]\ttrain's rmse: 0.219938\tvalid's rmse: 0.2371\n",
      "[100]\ttrain's rmse: 0.217761\tvalid's rmse: 0.236731\n",
      "[110]\ttrain's rmse: 0.2158\tvalid's rmse: 0.236446\n",
      "[120]\ttrain's rmse: 0.213974\tvalid's rmse: 0.236195\n",
      "[130]\ttrain's rmse: 0.212261\tvalid's rmse: 0.236011\n",
      "[140]\ttrain's rmse: 0.210563\tvalid's rmse: 0.235826\n",
      "[150]\ttrain's rmse: 0.20892\tvalid's rmse: 0.235695\n",
      "[160]\ttrain's rmse: 0.20729\tvalid's rmse: 0.235598\n",
      "[170]\ttrain's rmse: 0.205743\tvalid's rmse: 0.235504\n",
      "[180]\ttrain's rmse: 0.20429\tvalid's rmse: 0.235415\n",
      "[190]\ttrain's rmse: 0.20278\tvalid's rmse: 0.235362\n",
      "[200]\ttrain's rmse: 0.201352\tvalid's rmse: 0.235347\n",
      "[210]\ttrain's rmse: 0.199925\tvalid's rmse: 0.23533\n",
      "[220]\ttrain's rmse: 0.198612\tvalid's rmse: 0.235282\n",
      "[230]\ttrain's rmse: 0.197283\tvalid's rmse: 0.235242\n",
      "[240]\ttrain's rmse: 0.196047\tvalid's rmse: 0.235196\n",
      "[250]\ttrain's rmse: 0.194783\tvalid's rmse: 0.235214\n",
      "[260]\ttrain's rmse: 0.193532\tvalid's rmse: 0.23521\n",
      "[270]\ttrain's rmse: 0.19233\tvalid's rmse: 0.235213\n",
      "[280]\ttrain's rmse: 0.191103\tvalid's rmse: 0.235242\n",
      "[290]\ttrain's rmse: 0.189958\tvalid's rmse: 0.235247\n",
      "Early stopping, best iteration is:\n",
      "[241]\ttrain's rmse: 0.195926\tvalid's rmse: 0.235195\n",
      "Model Evaluation Stage - Test set prediction...\n",
      "== Finished this round ==\n",
      "starting Fold:  5 93007 23249\n"
     ]
    },
    {
     "name": "stderr",
     "output_type": "stream",
     "text": [
      "/home/ubuntu/anaconda3/lib/python3.6/site-packages/lightgbm/basic.py:1036: UserWarning: Using categorical_feature in Dataset.\n",
      "  warnings.warn('Using categorical_feature in Dataset.')\n",
      "/home/ubuntu/anaconda3/lib/python3.6/site-packages/lightgbm/basic.py:681: UserWarning: categorical_feature in param dict is overridden.\n",
      "  warnings.warn('categorical_feature in param dict is overridden.')\n",
      "/home/ubuntu/anaconda3/lib/python3.6/site-packages/lightgbm/basic.py:681: UserWarning: categorical_feature in param dict is overridden.\n",
      "  warnings.warn('categorical_feature in param dict is overridden.')\n"
     ]
    },
    {
     "name": "stdout",
     "output_type": "stream",
     "text": [
      "Training until validation scores don't improve for 50 rounds.\n",
      "[10]\ttrain's rmse: 0.244692\tvalid's rmse: 0.247114\n",
      "[20]\ttrain's rmse: 0.240306\tvalid's rmse: 0.244364\n",
      "[30]\ttrain's rmse: 0.236843\tvalid's rmse: 0.242321\n",
      "[40]\ttrain's rmse: 0.233589\tvalid's rmse: 0.24051\n",
      "[50]\ttrain's rmse: 0.230685\tvalid's rmse: 0.239134\n",
      "[60]\ttrain's rmse: 0.227865\tvalid's rmse: 0.238002\n",
      "[70]\ttrain's rmse: 0.225438\tvalid's rmse: 0.237193\n",
      "[80]\ttrain's rmse: 0.222857\tvalid's rmse: 0.236386\n",
      "[90]\ttrain's rmse: 0.220718\tvalid's rmse: 0.235824\n",
      "[100]\ttrain's rmse: 0.218684\tvalid's rmse: 0.235348\n",
      "[110]\ttrain's rmse: 0.21682\tvalid's rmse: 0.234966\n",
      "[120]\ttrain's rmse: 0.214914\tvalid's rmse: 0.234666\n",
      "[130]\ttrain's rmse: 0.213125\tvalid's rmse: 0.234392\n",
      "[140]\ttrain's rmse: 0.211422\tvalid's rmse: 0.234092\n",
      "[150]\ttrain's rmse: 0.209776\tvalid's rmse: 0.233872\n",
      "[160]\ttrain's rmse: 0.208172\tvalid's rmse: 0.233726\n",
      "[170]\ttrain's rmse: 0.206662\tvalid's rmse: 0.233558\n",
      "[180]\ttrain's rmse: 0.205253\tvalid's rmse: 0.233425\n",
      "[190]\ttrain's rmse: 0.203823\tvalid's rmse: 0.233325\n",
      "[200]\ttrain's rmse: 0.202351\tvalid's rmse: 0.233222\n",
      "[210]\ttrain's rmse: 0.200994\tvalid's rmse: 0.233159\n",
      "[220]\ttrain's rmse: 0.199647\tvalid's rmse: 0.233099\n",
      "[230]\ttrain's rmse: 0.198353\tvalid's rmse: 0.233041\n",
      "[240]\ttrain's rmse: 0.197092\tvalid's rmse: 0.232983\n",
      "[250]\ttrain's rmse: 0.195875\tvalid's rmse: 0.232951\n",
      "[260]\ttrain's rmse: 0.194695\tvalid's rmse: 0.232903\n",
      "[270]\ttrain's rmse: 0.19349\tvalid's rmse: 0.232885\n",
      "[280]\ttrain's rmse: 0.192271\tvalid's rmse: 0.232836\n",
      "[290]\ttrain's rmse: 0.191137\tvalid's rmse: 0.232832\n",
      "[300]\ttrain's rmse: 0.190019\tvalid's rmse: 0.232844\n",
      "[310]\ttrain's rmse: 0.188942\tvalid's rmse: 0.232843\n",
      "[320]\ttrain's rmse: 0.18778\tvalid's rmse: 0.232855\n",
      "[330]\ttrain's rmse: 0.186733\tvalid's rmse: 0.232885\n",
      "[340]\ttrain's rmse: 0.185627\tvalid's rmse: 0.232896\n",
      "Early stopping, best iteration is:\n",
      "[295]\ttrain's rmse: 0.190615\tvalid's rmse: 0.232809\n",
      "Model Evaluation Stage - Test set prediction...\n",
      "== Finished this round ==\n",
      "+++++  Starting with cluster:  3  +++++\n",
      "strat kf starting... 5\n",
      "--> StratifiedKFold(n_splits=5, random_state=189, shuffle=True)\n",
      "starting Fold:  1 432411 108105\n"
     ]
    },
    {
     "name": "stderr",
     "output_type": "stream",
     "text": [
      "/home/ubuntu/anaconda3/lib/python3.6/site-packages/lightgbm/basic.py:1036: UserWarning: Using categorical_feature in Dataset.\n",
      "  warnings.warn('Using categorical_feature in Dataset.')\n",
      "/home/ubuntu/anaconda3/lib/python3.6/site-packages/lightgbm/basic.py:681: UserWarning: categorical_feature in param dict is overridden.\n",
      "  warnings.warn('categorical_feature in param dict is overridden.')\n",
      "/home/ubuntu/anaconda3/lib/python3.6/site-packages/lightgbm/basic.py:681: UserWarning: categorical_feature in param dict is overridden.\n",
      "  warnings.warn('categorical_feature in param dict is overridden.')\n"
     ]
    },
    {
     "name": "stdout",
     "output_type": "stream",
     "text": [
      "Training until validation scores don't improve for 50 rounds.\n",
      "[10]\ttrain's rmse: 0.289588\tvalid's rmse: 0.289787\n",
      "[20]\ttrain's rmse: 0.281593\tvalid's rmse: 0.28236\n",
      "[30]\ttrain's rmse: 0.275009\tvalid's rmse: 0.276437\n",
      "[40]\ttrain's rmse: 0.2699\tvalid's rmse: 0.271918\n",
      "[50]\ttrain's rmse: 0.26576\tvalid's rmse: 0.268385\n",
      "[60]\ttrain's rmse: 0.262432\tvalid's rmse: 0.265633\n",
      "[70]\ttrain's rmse: 0.25952\tvalid's rmse: 0.263378\n",
      "[80]\ttrain's rmse: 0.257161\tvalid's rmse: 0.26161\n",
      "[90]\ttrain's rmse: 0.255107\tvalid's rmse: 0.260189\n",
      "[100]\ttrain's rmse: 0.253336\tvalid's rmse: 0.25905\n",
      "[110]\ttrain's rmse: 0.251786\tvalid's rmse: 0.258097\n",
      "[120]\ttrain's rmse: 0.250416\tvalid's rmse: 0.257332\n",
      "[130]\ttrain's rmse: 0.249131\tvalid's rmse: 0.25667\n",
      "[140]\ttrain's rmse: 0.247979\tvalid's rmse: 0.256124\n",
      "[150]\ttrain's rmse: 0.246891\tvalid's rmse: 0.255657\n",
      "[160]\ttrain's rmse: 0.245909\tvalid's rmse: 0.255232\n",
      "[170]\ttrain's rmse: 0.244982\tvalid's rmse: 0.254891\n",
      "[180]\ttrain's rmse: 0.244165\tvalid's rmse: 0.254607\n",
      "[190]\ttrain's rmse: 0.243337\tvalid's rmse: 0.254328\n",
      "[200]\ttrain's rmse: 0.242599\tvalid's rmse: 0.2541\n",
      "[210]\ttrain's rmse: 0.241888\tvalid's rmse: 0.253922\n",
      "[220]\ttrain's rmse: 0.241185\tvalid's rmse: 0.253696\n",
      "[230]\ttrain's rmse: 0.240421\tvalid's rmse: 0.253507\n",
      "[240]\ttrain's rmse: 0.239713\tvalid's rmse: 0.253342\n",
      "[250]\ttrain's rmse: 0.239042\tvalid's rmse: 0.25317\n",
      "[260]\ttrain's rmse: 0.238385\tvalid's rmse: 0.253009\n",
      "[270]\ttrain's rmse: 0.237778\tvalid's rmse: 0.252879\n",
      "[280]\ttrain's rmse: 0.237216\tvalid's rmse: 0.252761\n",
      "[290]\ttrain's rmse: 0.236657\tvalid's rmse: 0.252647\n",
      "[300]\ttrain's rmse: 0.236018\tvalid's rmse: 0.252555\n",
      "[310]\ttrain's rmse: 0.235452\tvalid's rmse: 0.25245\n",
      "[320]\ttrain's rmse: 0.23491\tvalid's rmse: 0.25233\n",
      "[330]\ttrain's rmse: 0.234342\tvalid's rmse: 0.252243\n",
      "[340]\ttrain's rmse: 0.233814\tvalid's rmse: 0.252148\n",
      "[350]\ttrain's rmse: 0.233294\tvalid's rmse: 0.252051\n",
      "[360]\ttrain's rmse: 0.232772\tvalid's rmse: 0.251973\n",
      "[370]\ttrain's rmse: 0.232294\tvalid's rmse: 0.251912\n",
      "[380]\ttrain's rmse: 0.231789\tvalid's rmse: 0.251853\n",
      "[390]\ttrain's rmse: 0.231288\tvalid's rmse: 0.251793\n",
      "[400]\ttrain's rmse: 0.230794\tvalid's rmse: 0.251733\n",
      "[410]\ttrain's rmse: 0.230337\tvalid's rmse: 0.251676\n",
      "[420]\ttrain's rmse: 0.229873\tvalid's rmse: 0.251617\n",
      "[430]\ttrain's rmse: 0.229428\tvalid's rmse: 0.251564\n",
      "[440]\ttrain's rmse: 0.228955\tvalid's rmse: 0.2515\n",
      "[450]\ttrain's rmse: 0.228536\tvalid's rmse: 0.251474\n",
      "[460]\ttrain's rmse: 0.228107\tvalid's rmse: 0.251427\n",
      "[470]\ttrain's rmse: 0.227699\tvalid's rmse: 0.251391\n",
      "[480]\ttrain's rmse: 0.227266\tvalid's rmse: 0.251346\n",
      "[490]\ttrain's rmse: 0.226837\tvalid's rmse: 0.251293\n",
      "[500]\ttrain's rmse: 0.226406\tvalid's rmse: 0.251247\n",
      "[510]\ttrain's rmse: 0.226011\tvalid's rmse: 0.251199\n",
      "[520]\ttrain's rmse: 0.225615\tvalid's rmse: 0.251164\n",
      "[530]\ttrain's rmse: 0.225211\tvalid's rmse: 0.251119\n",
      "[540]\ttrain's rmse: 0.224837\tvalid's rmse: 0.251085\n",
      "[550]\ttrain's rmse: 0.224441\tvalid's rmse: 0.251036\n",
      "[560]\ttrain's rmse: 0.224067\tvalid's rmse: 0.250996\n",
      "[570]\ttrain's rmse: 0.223689\tvalid's rmse: 0.250969\n",
      "[580]\ttrain's rmse: 0.223312\tvalid's rmse: 0.250946\n",
      "[590]\ttrain's rmse: 0.222942\tvalid's rmse: 0.25091\n",
      "[600]\ttrain's rmse: 0.222572\tvalid's rmse: 0.250883\n",
      "[610]\ttrain's rmse: 0.222227\tvalid's rmse: 0.250858\n",
      "[620]\ttrain's rmse: 0.221878\tvalid's rmse: 0.250827\n",
      "[630]\ttrain's rmse: 0.221548\tvalid's rmse: 0.25081\n",
      "[640]\ttrain's rmse: 0.221207\tvalid's rmse: 0.250783\n",
      "[650]\ttrain's rmse: 0.220868\tvalid's rmse: 0.250766\n",
      "[660]\ttrain's rmse: 0.220523\tvalid's rmse: 0.250734\n",
      "[670]\ttrain's rmse: 0.220202\tvalid's rmse: 0.250714\n",
      "[680]\ttrain's rmse: 0.219869\tvalid's rmse: 0.250687\n",
      "[690]\ttrain's rmse: 0.219557\tvalid's rmse: 0.250665\n",
      "[700]\ttrain's rmse: 0.21924\tvalid's rmse: 0.250647\n",
      "[710]\ttrain's rmse: 0.218935\tvalid's rmse: 0.250637\n",
      "[720]\ttrain's rmse: 0.218631\tvalid's rmse: 0.250627\n",
      "[730]\ttrain's rmse: 0.218323\tvalid's rmse: 0.250613\n",
      "[740]\ttrain's rmse: 0.217994\tvalid's rmse: 0.2506\n",
      "[750]\ttrain's rmse: 0.217683\tvalid's rmse: 0.250583\n",
      "[760]\ttrain's rmse: 0.217371\tvalid's rmse: 0.250574\n",
      "[770]\ttrain's rmse: 0.217056\tvalid's rmse: 0.250563\n",
      "[780]\ttrain's rmse: 0.216758\tvalid's rmse: 0.250547\n",
      "[790]\ttrain's rmse: 0.216458\tvalid's rmse: 0.250532\n",
      "[800]\ttrain's rmse: 0.216137\tvalid's rmse: 0.250505\n",
      "[810]\ttrain's rmse: 0.215838\tvalid's rmse: 0.250482\n",
      "[820]\ttrain's rmse: 0.215563\tvalid's rmse: 0.250472\n",
      "[830]\ttrain's rmse: 0.215252\tvalid's rmse: 0.250456\n",
      "[840]\ttrain's rmse: 0.214975\tvalid's rmse: 0.250443\n",
      "[850]\ttrain's rmse: 0.214666\tvalid's rmse: 0.250426\n",
      "[860]\ttrain's rmse: 0.214375\tvalid's rmse: 0.25041\n",
      "[870]\ttrain's rmse: 0.214071\tvalid's rmse: 0.250396\n",
      "[880]\ttrain's rmse: 0.213798\tvalid's rmse: 0.250382\n",
      "[890]\ttrain's rmse: 0.213513\tvalid's rmse: 0.250375\n",
      "[900]\ttrain's rmse: 0.213212\tvalid's rmse: 0.25036\n",
      "[910]\ttrain's rmse: 0.212913\tvalid's rmse: 0.250349\n",
      "[920]\ttrain's rmse: 0.212602\tvalid's rmse: 0.250345\n",
      "[930]\ttrain's rmse: 0.212322\tvalid's rmse: 0.250338\n",
      "[940]\ttrain's rmse: 0.212053\tvalid's rmse: 0.250326\n",
      "[950]\ttrain's rmse: 0.211774\tvalid's rmse: 0.250314\n",
      "[960]\ttrain's rmse: 0.2115\tvalid's rmse: 0.250307\n",
      "[970]\ttrain's rmse: 0.211241\tvalid's rmse: 0.250308\n",
      "[980]\ttrain's rmse: 0.210974\tvalid's rmse: 0.250303\n",
      "[990]\ttrain's rmse: 0.210689\tvalid's rmse: 0.250306\n",
      "[1000]\ttrain's rmse: 0.210382\tvalid's rmse: 0.250299\n",
      "[1010]\ttrain's rmse: 0.210108\tvalid's rmse: 0.250299\n",
      "[1020]\ttrain's rmse: 0.209837\tvalid's rmse: 0.250296\n",
      "[1030]\ttrain's rmse: 0.209571\tvalid's rmse: 0.250291\n",
      "[1040]\ttrain's rmse: 0.209302\tvalid's rmse: 0.250286\n",
      "[1050]\ttrain's rmse: 0.209006\tvalid's rmse: 0.250285\n",
      "[1060]\ttrain's rmse: 0.208745\tvalid's rmse: 0.250281\n",
      "[1070]\ttrain's rmse: 0.20847\tvalid's rmse: 0.250277\n",
      "[1080]\ttrain's rmse: 0.208221\tvalid's rmse: 0.25027\n",
      "[1090]\ttrain's rmse: 0.207943\tvalid's rmse: 0.250256\n",
      "[1100]\ttrain's rmse: 0.207679\tvalid's rmse: 0.250251\n",
      "[1110]\ttrain's rmse: 0.207414\tvalid's rmse: 0.250243\n",
      "[1120]\ttrain's rmse: 0.207175\tvalid's rmse: 0.250244\n",
      "[1130]\ttrain's rmse: 0.206938\tvalid's rmse: 0.250245\n",
      "[1140]\ttrain's rmse: 0.206711\tvalid's rmse: 0.250249\n",
      "[1150]\ttrain's rmse: 0.206456\tvalid's rmse: 0.250253\n",
      "[1160]\ttrain's rmse: 0.206177\tvalid's rmse: 0.25024\n",
      "[1170]\ttrain's rmse: 0.205907\tvalid's rmse: 0.250234\n",
      "[1180]\ttrain's rmse: 0.205644\tvalid's rmse: 0.25023\n",
      "[1190]\ttrain's rmse: 0.205387\tvalid's rmse: 0.250225\n",
      "[1200]\ttrain's rmse: 0.205152\tvalid's rmse: 0.250225\n",
      "[1210]\ttrain's rmse: 0.204902\tvalid's rmse: 0.250226\n",
      "[1220]\ttrain's rmse: 0.204639\tvalid's rmse: 0.250216\n",
      "[1230]\ttrain's rmse: 0.204384\tvalid's rmse: 0.250206\n",
      "[1240]\ttrain's rmse: 0.204122\tvalid's rmse: 0.250205\n",
      "[1250]\ttrain's rmse: 0.203881\tvalid's rmse: 0.250208\n",
      "[1260]\ttrain's rmse: 0.203624\tvalid's rmse: 0.250209\n",
      "[1270]\ttrain's rmse: 0.203353\tvalid's rmse: 0.250196\n",
      "[1280]\ttrain's rmse: 0.203112\tvalid's rmse: 0.250186\n",
      "[1290]\ttrain's rmse: 0.202859\tvalid's rmse: 0.250181\n",
      "[1300]\ttrain's rmse: 0.20261\tvalid's rmse: 0.250183\n",
      "[1310]\ttrain's rmse: 0.202356\tvalid's rmse: 0.250178\n",
      "[1320]\ttrain's rmse: 0.202127\tvalid's rmse: 0.250177\n",
      "[1330]\ttrain's rmse: 0.201899\tvalid's rmse: 0.250181\n",
      "[1340]\ttrain's rmse: 0.201662\tvalid's rmse: 0.250186\n",
      "[1350]\ttrain's rmse: 0.201419\tvalid's rmse: 0.250185\n",
      "Early stopping, best iteration is:\n",
      "[1309]\ttrain's rmse: 0.202381\tvalid's rmse: 0.250175\n",
      "Model Evaluation Stage - Test set prediction...\n",
      "== Finished this round ==\n",
      "starting Fold:  2 432412 108104\n"
     ]
    },
    {
     "name": "stderr",
     "output_type": "stream",
     "text": [
      "/home/ubuntu/anaconda3/lib/python3.6/site-packages/lightgbm/basic.py:1036: UserWarning: Using categorical_feature in Dataset.\n",
      "  warnings.warn('Using categorical_feature in Dataset.')\n",
      "/home/ubuntu/anaconda3/lib/python3.6/site-packages/lightgbm/basic.py:681: UserWarning: categorical_feature in param dict is overridden.\n",
      "  warnings.warn('categorical_feature in param dict is overridden.')\n",
      "/home/ubuntu/anaconda3/lib/python3.6/site-packages/lightgbm/basic.py:681: UserWarning: categorical_feature in param dict is overridden.\n",
      "  warnings.warn('categorical_feature in param dict is overridden.')\n"
     ]
    },
    {
     "name": "stdout",
     "output_type": "stream",
     "text": [
      "Training until validation scores don't improve for 50 rounds.\n",
      "[10]\ttrain's rmse: 0.288963\tvalid's rmse: 0.290277\n",
      "[20]\ttrain's rmse: 0.281259\tvalid's rmse: 0.283024\n",
      "[30]\ttrain's rmse: 0.274809\tvalid's rmse: 0.277132\n",
      "[40]\ttrain's rmse: 0.269759\tvalid's rmse: 0.272633\n",
      "[50]\ttrain's rmse: 0.265552\tvalid's rmse: 0.269045\n",
      "[60]\ttrain's rmse: 0.262116\tvalid's rmse: 0.266204\n",
      "[70]\ttrain's rmse: 0.259364\tvalid's rmse: 0.264038\n",
      "[80]\ttrain's rmse: 0.25699\tvalid's rmse: 0.262266\n",
      "[90]\ttrain's rmse: 0.254993\tvalid's rmse: 0.260887\n",
      "[100]\ttrain's rmse: 0.253315\tvalid's rmse: 0.259737\n",
      "[110]\ttrain's rmse: 0.251734\tvalid's rmse: 0.258751\n",
      "[120]\ttrain's rmse: 0.250459\tvalid's rmse: 0.257965\n",
      "[130]\ttrain's rmse: 0.249265\tvalid's rmse: 0.257301\n",
      "[140]\ttrain's rmse: 0.248153\tvalid's rmse: 0.256743\n",
      "[150]\ttrain's rmse: 0.24717\tvalid's rmse: 0.25629\n",
      "[160]\ttrain's rmse: 0.246212\tvalid's rmse: 0.255896\n",
      "[170]\ttrain's rmse: 0.245306\tvalid's rmse: 0.255505\n",
      "[180]\ttrain's rmse: 0.244499\tvalid's rmse: 0.255178\n",
      "[190]\ttrain's rmse: 0.2437\tvalid's rmse: 0.254888\n",
      "[200]\ttrain's rmse: 0.242985\tvalid's rmse: 0.254651\n",
      "[210]\ttrain's rmse: 0.242202\tvalid's rmse: 0.254447\n",
      "[220]\ttrain's rmse: 0.241522\tvalid's rmse: 0.254244\n",
      "[230]\ttrain's rmse: 0.240854\tvalid's rmse: 0.254052\n",
      "[240]\ttrain's rmse: 0.240209\tvalid's rmse: 0.25387\n",
      "[250]\ttrain's rmse: 0.239548\tvalid's rmse: 0.253704\n",
      "[260]\ttrain's rmse: 0.238922\tvalid's rmse: 0.253554\n",
      "[270]\ttrain's rmse: 0.238267\tvalid's rmse: 0.253418\n",
      "[280]\ttrain's rmse: 0.237646\tvalid's rmse: 0.253279\n",
      "[290]\ttrain's rmse: 0.237011\tvalid's rmse: 0.253163\n",
      "[300]\ttrain's rmse: 0.23639\tvalid's rmse: 0.253045\n",
      "[310]\ttrain's rmse: 0.235839\tvalid's rmse: 0.252934\n",
      "[320]\ttrain's rmse: 0.235309\tvalid's rmse: 0.252842\n",
      "[330]\ttrain's rmse: 0.234755\tvalid's rmse: 0.252739\n",
      "[340]\ttrain's rmse: 0.23422\tvalid's rmse: 0.252665\n",
      "[350]\ttrain's rmse: 0.233741\tvalid's rmse: 0.252585\n",
      "[360]\ttrain's rmse: 0.23322\tvalid's rmse: 0.252504\n",
      "[370]\ttrain's rmse: 0.2327\tvalid's rmse: 0.252425\n",
      "[380]\ttrain's rmse: 0.232198\tvalid's rmse: 0.25235\n",
      "[390]\ttrain's rmse: 0.231741\tvalid's rmse: 0.252285\n"
     ]
    },
    {
     "ename": "KeyboardInterrupt",
     "evalue": "",
     "output_type": "error",
     "traceback": [
      "\u001b[0;31m---------------------------------------------------------------------------\u001b[0m",
      "\u001b[0;31mKeyboardInterrupt\u001b[0m                         Traceback (most recent call last)",
      "\u001b[0;32m<timed exec>\u001b[0m in \u001b[0;36m<module>\u001b[0;34m()\u001b[0m\n",
      "\u001b[0;32m~/anaconda3/lib/python3.6/site-packages/lightgbm/engine.py\u001b[0m in \u001b[0;36mtrain\u001b[0;34m(params, train_set, num_boost_round, valid_sets, valid_names, fobj, feval, init_model, feature_name, categorical_feature, early_stopping_rounds, evals_result, verbose_eval, learning_rates, keep_training_booster, callbacks)\u001b[0m\n\u001b[1;32m    199\u001b[0m                                     evaluation_result_list=None))\n\u001b[1;32m    200\u001b[0m \u001b[0;34m\u001b[0m\u001b[0m\n\u001b[0;32m--> 201\u001b[0;31m         \u001b[0mbooster\u001b[0m\u001b[0;34m.\u001b[0m\u001b[0mupdate\u001b[0m\u001b[0;34m(\u001b[0m\u001b[0mfobj\u001b[0m\u001b[0;34m=\u001b[0m\u001b[0mfobj\u001b[0m\u001b[0;34m)\u001b[0m\u001b[0;34m\u001b[0m\u001b[0m\n\u001b[0m\u001b[1;32m    202\u001b[0m \u001b[0;34m\u001b[0m\u001b[0m\n\u001b[1;32m    203\u001b[0m         \u001b[0mevaluation_result_list\u001b[0m \u001b[0;34m=\u001b[0m \u001b[0;34m[\u001b[0m\u001b[0;34m]\u001b[0m\u001b[0;34m\u001b[0m\u001b[0m\n",
      "\u001b[0;32m~/anaconda3/lib/python3.6/site-packages/lightgbm/basic.py\u001b[0m in \u001b[0;36mupdate\u001b[0;34m(self, train_set, fobj)\u001b[0m\n\u001b[1;32m   1522\u001b[0m             _safe_call(_LIB.LGBM_BoosterUpdateOneIter(\n\u001b[1;32m   1523\u001b[0m                 \u001b[0mself\u001b[0m\u001b[0;34m.\u001b[0m\u001b[0mhandle\u001b[0m\u001b[0;34m,\u001b[0m\u001b[0;34m\u001b[0m\u001b[0m\n\u001b[0;32m-> 1524\u001b[0;31m                 ctypes.byref(is_finished)))\n\u001b[0m\u001b[1;32m   1525\u001b[0m             \u001b[0mself\u001b[0m\u001b[0;34m.\u001b[0m\u001b[0m__is_predicted_cur_iter\u001b[0m \u001b[0;34m=\u001b[0m \u001b[0;34m[\u001b[0m\u001b[0;32mFalse\u001b[0m \u001b[0;32mfor\u001b[0m \u001b[0m_\u001b[0m \u001b[0;32min\u001b[0m \u001b[0mrange_\u001b[0m\u001b[0;34m(\u001b[0m\u001b[0mself\u001b[0m\u001b[0;34m.\u001b[0m\u001b[0m__num_dataset\u001b[0m\u001b[0;34m)\u001b[0m\u001b[0;34m]\u001b[0m\u001b[0;34m\u001b[0m\u001b[0m\n\u001b[1;32m   1526\u001b[0m             \u001b[0;32mreturn\u001b[0m \u001b[0mis_finished\u001b[0m\u001b[0;34m.\u001b[0m\u001b[0mvalue\u001b[0m \u001b[0;34m==\u001b[0m \u001b[0;36m1\u001b[0m\u001b[0;34m\u001b[0m\u001b[0m\n",
      "\u001b[0;31mKeyboardInterrupt\u001b[0m: "
     ]
    }
   ],
   "source": [
    "%%time\n",
    "print(\"Light Gradient Boosting Regressor\")\n",
    "\n",
    "lgbm_params =  {\n",
    "#     'device': 'gpu',\n",
    "    'task': 'train',\n",
    "    'boosting_type': 'gbdt',\n",
    "    'objective': 'regression',\n",
    "    'metric': 'rmse',\n",
    "    # 'max_depth': 15,\n",
    "    'num_leaves': 270,  ### 270\n",
    "    'feature_fraction': 0.5,\n",
    "    'bagging_fraction': 0.75,\n",
    "    'bagging_freq': 2,\n",
    "    'learning_rate': 0.016,\n",
    "    'verbose': 1\n",
    "}  \n",
    "\n",
    "NFOLDS = 5\n",
    "SEED = 189\n",
    "\n",
    "for c_idx, cluster in enumerate(cluster_list):\n",
    "    print('+++++  Starting with cluster: ', c_idx, ' +++++')\n",
    "    strat_kf = StratifiedKFold(n_splits=NFOLDS, shuffle=True, random_state=SEED)\n",
    "    print('strat kf starting...', strat_kf.get_n_splits(cluster[0], cluster[1]))\n",
    "    print('-->', strat_kf)\n",
    "    for i, (train_index, test_index) in enumerate(strat_kf.split(cluster[0], cluster[1])):\n",
    "        print('starting Fold: ', i+1, len(train_index), len(test_index))\n",
    "        X_train, X_valid = cluster[0][train_index], cluster[0][test_index]\n",
    "        y_train, y_valid = cluster[2][train_index], cluster[2][test_index]\n",
    "\n",
    "        lgtrain = lgb.Dataset(X_train, y_train,\n",
    "                        feature_name=tfvocab,\n",
    "                        categorical_feature = categorical)\n",
    "        lgvalid = lgb.Dataset(X_valid, y_valid,\n",
    "                        feature_name=tfvocab,\n",
    "                        categorical_feature = categorical)\n",
    "    #     del X, X_train; gc.collect()\n",
    "\n",
    "        # Go Go Go\n",
    "        lgb_clf = lgb.train(\n",
    "            lgbm_params,\n",
    "            lgtrain,\n",
    "            num_boost_round=10000,\n",
    "            valid_sets=[lgtrain, lgvalid],\n",
    "            valid_names=['train','valid'],\n",
    "            early_stopping_rounds=50, ### 150 ### 50\n",
    "            verbose_eval=10)\n",
    "        \n",
    "        # Print importance\n",
    "#         f, ax = plt.subplots(figsize=[7,10])\n",
    "#         lgb.plot_importance(lgb_clf, max_num_features=50, ax=ax)\n",
    "#         plt.title(\"Light GBM Feature Importance\")\n",
    "#         plt.savefig('feature_importance_by_public_model_stratified.png')\n",
    "#         plt.show()\n",
    "\n",
    "        print(\"Model Evaluation Stage - Test set prediction...\")\n",
    "        lgpred = lgb_clf.predict(cluster[3]) \n",
    "\n",
    "        #Mixing lightgbm with ridge. I haven't really tested if this improves the score or not\n",
    "        #blend = 0.95*lgpred + 0.05*ridge_oof_test[:,0]\n",
    "        lgsub = pd.DataFrame(lgpred,columns=[\"deal_probability\"],index=cluster[4])\n",
    "        lgsub['deal_probability'].clip(0.0, 1.0, inplace=True) # Between 0 and 1\n",
    "        lgsub.to_csv(\"lgsub_cluster_{}_fold_{}.csv\".format(c_idx+1, i+1),index=True,header=True)\n",
    "        print('== Finished this round ==')"
   ]
  },
  {
   "cell_type": "markdown",
   "metadata": {},
   "source": [
    "## Blending"
   ]
  },
  {
   "cell_type": "code",
   "execution_count": 18,
   "metadata": {},
   "outputs": [],
   "source": [
    "result0 = pd.read_csv('lgsub_strat_fold_0.csv', index_col = \"item_id\")\n",
    "result1 = pd.read_csv('lgsub_strat_fold_1.csv', index_col = \"item_id\")\n",
    "result2 = pd.read_csv('lgsub_strat_fold_2.csv', index_col = \"item_id\")"
   ]
  },
  {
   "cell_type": "code",
   "execution_count": 25,
   "metadata": {},
   "outputs": [],
   "source": [
    "result_all = (result0 + result1 + result2)/3"
   ]
  },
  {
   "cell_type": "code",
   "execution_count": 26,
   "metadata": {},
   "outputs": [],
   "source": [
    "result_all.to_csv(\"lgsub_strat_fold_3avg.csv\",index=True,header=True)"
   ]
  },
  {
   "cell_type": "code",
   "execution_count": 94,
   "metadata": {},
   "outputs": [],
   "source": [
    "# blending 1\n",
    "result_base = pd.read_csv('lgsub_base0_0.2211.csv', index_col = \"item_id\")\n",
    "result_3avg = pd.read_csv('lgsub_strat_fold_3avg.csv', index_col = \"item_id\")\n",
    "\n",
    "result_all = (result_base + result_3avg)/2\n",
    "\n",
    "result_all.to_csv(\"lgsub_blend_01.csv\",index=True,header=True)"
   ]
  },
  {
   "cell_type": "code",
   "execution_count": 98,
   "metadata": {},
   "outputs": [],
   "source": [
    "# Blending 2\n",
    "\n",
    "result_best_base = pd.read_csv('lgsub_best_public_blend_2204.csv', index_col = \"item_id\")\n",
    "result_3avg = pd.read_csv('lgsub_strat_fold_3avg.csv', index_col = \"item_id\")\n",
    "\n",
    "result_all = result_best_base*0.6 + result_3avg*0.4\n",
    "\n",
    "result_all.to_csv(\"lgsub_blend_02.csv\",index=True,header=True)"
   ]
  },
  {
   "cell_type": "code",
   "execution_count": 4,
   "metadata": {},
   "outputs": [],
   "source": [
    "# Blending 3\n",
    "\n",
    "# with pong feats\n",
    "result0 = pd.read_csv('lgsub_strat_fold_0.csv', index_col = \"item_id\")\n",
    "result1 = pd.read_csv('lgsub_strat_fold_1.csv', index_col = \"item_id\")\n",
    "result2 = pd.read_csv('lgsub_strat_fold_2.csv', index_col = \"item_id\")\n",
    "result4 = pd.read_csv('lgsub_strat_fold_2.csv', index_col = \"item_id\")"
   ]
  },
  {
   "cell_type": "code",
   "execution_count": 5,
   "metadata": {},
   "outputs": [],
   "source": [
    "result_all = (result0 + result1 + result2 + result4) / 4"
   ]
  },
  {
   "cell_type": "code",
   "execution_count": 6,
   "metadata": {},
   "outputs": [],
   "source": [
    "result_best_base = pd.read_csv('lgsub_best_public_blend_2204.csv', index_col = \"item_id\")\n",
    "result_3avg = pd.read_csv('lgsub_strat_fold_3avg.csv', index_col = \"item_id\")"
   ]
  },
  {
   "cell_type": "code",
   "execution_count": 7,
   "metadata": {},
   "outputs": [],
   "source": [
    "blend_3 = result_best_base*0.5 + result_3avg*0.2 + result_all*0.3"
   ]
  },
  {
   "cell_type": "code",
   "execution_count": 8,
   "metadata": {},
   "outputs": [],
   "source": [
    "blend_3.to_csv(\"lgsub_blend_03.csv\",index=True,header=True)"
   ]
  },
  {
   "cell_type": "code",
   "execution_count": null,
   "metadata": {},
   "outputs": [],
   "source": []
  },
  {
   "cell_type": "code",
   "execution_count": null,
   "metadata": {},
   "outputs": [],
   "source": []
  },
  {
   "cell_type": "code",
   "execution_count": 61,
   "metadata": {
    "collapsed": true
   },
   "outputs": [],
   "source": [
    "import pickle\n",
    "\n",
    "# Save the model\n",
    "with open('/media/data/avito/public_kernel_model_YEAH.pkl', 'wb') as file_output:\n",
    "    pickle.dump(lgb_clf, file_output, protocol=pickle.HIGHEST_PROTOCOL)"
   ]
  },
  {
   "cell_type": "code",
   "execution_count": 57,
   "metadata": {},
   "outputs": [
    {
     "data": {
      "image/png": "[encoded data removed]",
      "text/plain": [
       "<Figure size 504x720 with 1 Axes>"
      ]
     },
     "metadata": {},
     "output_type": "display_data"
    }
   ],
   "source": [
    "# Feature Importance Plot\n",
    "f, ax = plt.subplots(figsize=[7,10])\n",
    "lgb.plot_importance(lgb_clf, max_num_features=50, ax=ax)\n",
    "plt.title(\"Light GBM Feature Importance\")\n",
    "plt.show()"
   ]
  },
  {
   "cell_type": "code",
   "execution_count": 60,
   "metadata": {},
   "outputs": [
    {
     "name": "stdout",
     "output_type": "stream",
     "text": [
      "Model Evaluation Stage\n"
     ]
    },
    {
     "name": "stderr",
     "output_type": "stream",
     "text": [
      "/home/user/san/project_p/LightGBM/python-package/lightgbm/basic.py:450: UserWarning: Converting data to scipy sparse matrix.\n",
      "  warnings.warn('Converting data to scipy sparse matrix.')\n"
     ]
    },
    {
     "name": "stdout",
     "output_type": "stream",
     "text": [
      "Notebook Runtime: 75.32 Minutes\n"
     ]
    }
   ],
   "source": [
    "# plt.savefig('feature_importance_by_public_model_stratified.png')\n",
    "\n",
    "print(\"Model Evaluation Stage\")\n",
    "lgpred = lgb_clf.predict(testing) \n",
    " \n",
    "#Mixing lightgbm with ridge. I haven't really tested if this improves the score or not\n",
    "#blend = 0.95*lgpred + 0.05*ridge_oof_test[:,0]\n",
    "lgsub = pd.DataFrame(lgpred,columns=[\"deal_probability\"],index=testdex)\n",
    "lgsub['deal_probability'].clip(0.0, 1.0, inplace=True) # Between 0 and 1\n",
    "lgsub.to_csv(\"lgsub_YEAHYEAHYEAHHHHHHH.csv\",index=True,header=True)\n",
    "#print(\"Model Runtime: %0.2f Minutes\"%((time.time() - modelstart)/60))\n",
    "print(\"Notebook Runtime: %0.2f Minutes\"%((time.time() - notebookstart)/60))"
   ]
  },
  {
   "cell_type": "code",
   "execution_count": 26,
   "metadata": {
    "scrolled": true
   },
   "outputs": [
    {
     "data": {
      "text/html": [
       "<div>\n",
       "<style scoped>\n",
       "    .dataframe tbody tr th:only-of-type {\n",
       "        vertical-align: middle;\n",
       "    }\n",
       "\n",
       "    .dataframe tbody tr th {\n",
       "        vertical-align: top;\n",
       "    }\n",
       "\n",
       "    .dataframe thead th {\n",
       "        text-align: right;\n",
       "    }\n",
       "</style>\n",
       "<table border=\"1\" class=\"dataframe\">\n",
       "  <thead>\n",
       "    <tr style=\"text-align: right;\">\n",
       "      <th></th>\n",
       "      <th>deal_probability</th>\n",
       "    </tr>\n",
       "    <tr>\n",
       "      <th>item_id</th>\n",
       "      <th></th>\n",
       "    </tr>\n",
       "  </thead>\n",
       "  <tbody>\n",
       "    <tr>\n",
       "      <th>6544e41a8817</th>\n",
       "      <td>0.286540</td>\n",
       "    </tr>\n",
       "    <tr>\n",
       "      <th>65b9484d670f</th>\n",
       "      <td>0.113667</td>\n",
       "    </tr>\n",
       "    <tr>\n",
       "      <th>8bab230b2ecd</th>\n",
       "      <td>0.152080</td>\n",
       "    </tr>\n",
       "    <tr>\n",
       "      <th>8e348601fefc</th>\n",
       "      <td>0.114624</td>\n",
       "    </tr>\n",
       "    <tr>\n",
       "      <th>8bd2fe400b89</th>\n",
       "      <td>0.285761</td>\n",
       "    </tr>\n",
       "    <tr>\n",
       "      <th>c63dbd6c657f</th>\n",
       "      <td>0.057007</td>\n",
       "    </tr>\n",
       "    <tr>\n",
       "      <th>6d1a410df86e</th>\n",
       "      <td>0.004078</td>\n",
       "    </tr>\n",
       "    <tr>\n",
       "      <th>e8d3e7922b80</th>\n",
       "      <td>0.013810</td>\n",
       "    </tr>\n",
       "    <tr>\n",
       "      <th>2bc1ab208462</th>\n",
       "      <td>0.049071</td>\n",
       "    </tr>\n",
       "    <tr>\n",
       "      <th>7e05d77a9181</th>\n",
       "      <td>0.051210</td>\n",
       "    </tr>\n",
       "    <tr>\n",
       "      <th>e2ec19a3ca2b</th>\n",
       "      <td>0.194163</td>\n",
       "    </tr>\n",
       "    <tr>\n",
       "      <th>68069bfc06c2</th>\n",
       "      <td>0.062035</td>\n",
       "    </tr>\n",
       "    <tr>\n",
       "      <th>595842ba248a</th>\n",
       "      <td>0.710528</td>\n",
       "    </tr>\n",
       "    <tr>\n",
       "      <th>4130d5cfc5de</th>\n",
       "      <td>0.113074</td>\n",
       "    </tr>\n",
       "    <tr>\n",
       "      <th>c21ede41b256</th>\n",
       "      <td>0.143225</td>\n",
       "    </tr>\n",
       "    <tr>\n",
       "      <th>f56e4684ceda</th>\n",
       "      <td>0.398851</td>\n",
       "    </tr>\n",
       "    <tr>\n",
       "      <th>e7ab88d19965</th>\n",
       "      <td>0.193116</td>\n",
       "    </tr>\n",
       "    <tr>\n",
       "      <th>81c1cd9f4e4e</th>\n",
       "      <td>0.101632</td>\n",
       "    </tr>\n",
       "    <tr>\n",
       "      <th>2c989cea0e97</th>\n",
       "      <td>0.028500</td>\n",
       "    </tr>\n",
       "    <tr>\n",
       "      <th>36a35020ebeb</th>\n",
       "      <td>0.637106</td>\n",
       "    </tr>\n",
       "    <tr>\n",
       "      <th>60b0cc9cf25e</th>\n",
       "      <td>0.029743</td>\n",
       "    </tr>\n",
       "    <tr>\n",
       "      <th>ac0a01acccc2</th>\n",
       "      <td>0.136634</td>\n",
       "    </tr>\n",
       "    <tr>\n",
       "      <th>683c444d6a40</th>\n",
       "      <td>0.173294</td>\n",
       "    </tr>\n",
       "    <tr>\n",
       "      <th>5580ccd3358a</th>\n",
       "      <td>0.011940</td>\n",
       "    </tr>\n",
       "    <tr>\n",
       "      <th>4596527723ec</th>\n",
       "      <td>0.919786</td>\n",
       "    </tr>\n",
       "    <tr>\n",
       "      <th>2e414b752d9f</th>\n",
       "      <td>0.056294</td>\n",
       "    </tr>\n",
       "    <tr>\n",
       "      <th>032e21134f2f</th>\n",
       "      <td>0.043139</td>\n",
       "    </tr>\n",
       "    <tr>\n",
       "      <th>fd6f6a2ed415</th>\n",
       "      <td>0.086323</td>\n",
       "    </tr>\n",
       "    <tr>\n",
       "      <th>44da737c70af</th>\n",
       "      <td>0.061161</td>\n",
       "    </tr>\n",
       "    <tr>\n",
       "      <th>272e2ee33c62</th>\n",
       "      <td>0.322639</td>\n",
       "    </tr>\n",
       "    <tr>\n",
       "      <th>...</th>\n",
       "      <td>...</td>\n",
       "    </tr>\n",
       "    <tr>\n",
       "      <th>347eee4d5875</th>\n",
       "      <td>0.057785</td>\n",
       "    </tr>\n",
       "    <tr>\n",
       "      <th>d891975ccaf9</th>\n",
       "      <td>0.497172</td>\n",
       "    </tr>\n",
       "    <tr>\n",
       "      <th>dee747ef380a</th>\n",
       "      <td>0.308979</td>\n",
       "    </tr>\n",
       "    <tr>\n",
       "      <th>786ea64b9107</th>\n",
       "      <td>0.126805</td>\n",
       "    </tr>\n",
       "    <tr>\n",
       "      <th>6c20d6790014</th>\n",
       "      <td>0.106068</td>\n",
       "    </tr>\n",
       "    <tr>\n",
       "      <th>1590a43902c8</th>\n",
       "      <td>0.027159</td>\n",
       "    </tr>\n",
       "    <tr>\n",
       "      <th>0c2e37a382dc</th>\n",
       "      <td>0.043479</td>\n",
       "    </tr>\n",
       "    <tr>\n",
       "      <th>e8d08094220c</th>\n",
       "      <td>0.097660</td>\n",
       "    </tr>\n",
       "    <tr>\n",
       "      <th>70525000daa6</th>\n",
       "      <td>0.061385</td>\n",
       "    </tr>\n",
       "    <tr>\n",
       "      <th>8a990bd8f32c</th>\n",
       "      <td>0.309406</td>\n",
       "    </tr>\n",
       "    <tr>\n",
       "      <th>0190e24c4280</th>\n",
       "      <td>0.034476</td>\n",
       "    </tr>\n",
       "    <tr>\n",
       "      <th>81a4c6d1129c</th>\n",
       "      <td>0.777240</td>\n",
       "    </tr>\n",
       "    <tr>\n",
       "      <th>4f38ec628a23</th>\n",
       "      <td>0.136198</td>\n",
       "    </tr>\n",
       "    <tr>\n",
       "      <th>12c0a17c26a6</th>\n",
       "      <td>0.139760</td>\n",
       "    </tr>\n",
       "    <tr>\n",
       "      <th>2280571e67d7</th>\n",
       "      <td>0.484084</td>\n",
       "    </tr>\n",
       "    <tr>\n",
       "      <th>5be69b917f1f</th>\n",
       "      <td>0.169882</td>\n",
       "    </tr>\n",
       "    <tr>\n",
       "      <th>4c0b7082d77f</th>\n",
       "      <td>0.324924</td>\n",
       "    </tr>\n",
       "    <tr>\n",
       "      <th>a1a7a8bcf181</th>\n",
       "      <td>0.005614</td>\n",
       "    </tr>\n",
       "    <tr>\n",
       "      <th>4eae9d5b224c</th>\n",
       "      <td>0.096694</td>\n",
       "    </tr>\n",
       "    <tr>\n",
       "      <th>1858109ae3ae</th>\n",
       "      <td>0.058453</td>\n",
       "    </tr>\n",
       "    <tr>\n",
       "      <th>8ccd904be44e</th>\n",
       "      <td>0.100524</td>\n",
       "    </tr>\n",
       "    <tr>\n",
       "      <th>5ee71dd20572</th>\n",
       "      <td>0.050068</td>\n",
       "    </tr>\n",
       "    <tr>\n",
       "      <th>91fd9b4c05dd</th>\n",
       "      <td>0.059401</td>\n",
       "    </tr>\n",
       "    <tr>\n",
       "      <th>f5a802edb60f</th>\n",
       "      <td>0.020302</td>\n",
       "    </tr>\n",
       "    <tr>\n",
       "      <th>b0fed86c5b50</th>\n",
       "      <td>0.126744</td>\n",
       "    </tr>\n",
       "    <tr>\n",
       "      <th>4a7f407d13cc</th>\n",
       "      <td>0.171205</td>\n",
       "    </tr>\n",
       "    <tr>\n",
       "      <th>42ab7adff453</th>\n",
       "      <td>0.157856</td>\n",
       "    </tr>\n",
       "    <tr>\n",
       "      <th>4d6abafa4114</th>\n",
       "      <td>0.016379</td>\n",
       "    </tr>\n",
       "    <tr>\n",
       "      <th>ea24602399bd</th>\n",
       "      <td>0.644259</td>\n",
       "    </tr>\n",
       "    <tr>\n",
       "      <th>054a1312a35f</th>\n",
       "      <td>0.011391</td>\n",
       "    </tr>\n",
       "  </tbody>\n",
       "</table>\n",
       "<p>100 rows × 1 columns</p>\n",
       "</div>"
      ],
      "text/plain": [
       "              deal_probability\n",
       "item_id                       \n",
       "6544e41a8817          0.286540\n",
       "65b9484d670f          0.113667\n",
       "8bab230b2ecd          0.152080\n",
       "8e348601fefc          0.114624\n",
       "8bd2fe400b89          0.285761\n",
       "c63dbd6c657f          0.057007\n",
       "6d1a410df86e          0.004078\n",
       "e8d3e7922b80          0.013810\n",
       "2bc1ab208462          0.049071\n",
       "7e05d77a9181          0.051210\n",
       "e2ec19a3ca2b          0.194163\n",
       "68069bfc06c2          0.062035\n",
       "595842ba248a          0.710528\n",
       "4130d5cfc5de          0.113074\n",
       "c21ede41b256          0.143225\n",
       "f56e4684ceda          0.398851\n",
       "e7ab88d19965          0.193116\n",
       "81c1cd9f4e4e          0.101632\n",
       "2c989cea0e97          0.028500\n",
       "36a35020ebeb          0.637106\n",
       "60b0cc9cf25e          0.029743\n",
       "ac0a01acccc2          0.136634\n",
       "683c444d6a40          0.173294\n",
       "5580ccd3358a          0.011940\n",
       "4596527723ec          0.919786\n",
       "2e414b752d9f          0.056294\n",
       "032e21134f2f          0.043139\n",
       "fd6f6a2ed415          0.086323\n",
       "44da737c70af          0.061161\n",
       "272e2ee33c62          0.322639\n",
       "...                        ...\n",
       "347eee4d5875          0.057785\n",
       "d891975ccaf9          0.497172\n",
       "dee747ef380a          0.308979\n",
       "786ea64b9107          0.126805\n",
       "6c20d6790014          0.106068\n",
       "1590a43902c8          0.027159\n",
       "0c2e37a382dc          0.043479\n",
       "e8d08094220c          0.097660\n",
       "70525000daa6          0.061385\n",
       "8a990bd8f32c          0.309406\n",
       "0190e24c4280          0.034476\n",
       "81a4c6d1129c          0.777240\n",
       "4f38ec628a23          0.136198\n",
       "12c0a17c26a6          0.139760\n",
       "2280571e67d7          0.484084\n",
       "5be69b917f1f          0.169882\n",
       "4c0b7082d77f          0.324924\n",
       "a1a7a8bcf181          0.005614\n",
       "4eae9d5b224c          0.096694\n",
       "1858109ae3ae          0.058453\n",
       "8ccd904be44e          0.100524\n",
       "5ee71dd20572          0.050068\n",
       "91fd9b4c05dd          0.059401\n",
       "f5a802edb60f          0.020302\n",
       "b0fed86c5b50          0.126744\n",
       "4a7f407d13cc          0.171205\n",
       "42ab7adff453          0.157856\n",
       "4d6abafa4114          0.016379\n",
       "ea24602399bd          0.644259\n",
       "054a1312a35f          0.011391\n",
       "\n",
       "[100 rows x 1 columns]"
      ]
     },
     "execution_count": 26,
     "metadata": {},
     "output_type": "execute_result"
    }
   ],
   "source": [
    "lgsub.head(100)"
   ]
  },
  {
   "cell_type": "code",
   "execution_count": null,
   "metadata": {
    "collapsed": true
   },
   "outputs": [],
   "source": []
  }
 ],
 "metadata": {
  "kernelspec": {
   "display_name": "Python 3",
   "language": "python",
   "name": "python3"
  },
  "language_info": {
   "codemirror_mode": {
    "name": "ipython",
    "version": 3
   },
   "file_extension": ".py",
   "mimetype": "text/x-python",
   "name": "python",
   "nbconvert_exporter": "python",
   "pygments_lexer": "ipython3",
   "version": "3.6.5"
  }
 },
 "nbformat": 4,
 "nbformat_minor": 2
}
